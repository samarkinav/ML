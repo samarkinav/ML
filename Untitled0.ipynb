{
  "nbformat": 4,
  "nbformat_minor": 0,
  "metadata": {
    "colab": {
      "name": "Untitled0.ipynb",
      "provenance": [],
      "collapsed_sections": [],
      "authorship_tag": "ABX9TyMqDdIxxvjlC691al32oEDo",
      "include_colab_link": true
    },
    "kernelspec": {
      "name": "python3",
      "display_name": "Python 3"
    }
  },
  "cells": [
    {
      "cell_type": "markdown",
      "metadata": {
        "id": "view-in-github",
        "colab_type": "text"
      },
      "source": [
        "<a href=\"https://colab.research.google.com/github/samarkinav/ML/blob/main/Untitled0.ipynb\" target=\"_parent\"><img src=\"https://colab.research.google.com/assets/colab-badge.svg\" alt=\"Open In Colab\"/></a>"
      ]
    },
    {
      "cell_type": "markdown",
      "metadata": {
        "id": "mk8-iUmJ3Nhi"
      },
      "source": [
        "#**Результаты экзамена**\n"
      ]
    },
    {
      "cell_type": "markdown",
      "metadata": {
        "id": "LqwlX-En3iZY"
      },
      "source": [
        "Мы хотим предсказать сдаст или не сдаст студент экзамен исходя из социальной, гендерной и учебной информации о нём."
      ]
    },
    {
      "cell_type": "markdown",
      "metadata": {
        "id": "JSSg4ldz3lyC"
      },
      "source": [
        "##1. Загрузка данных\n",
        "\n"
      ]
    },
    {
      "cell_type": "code",
      "metadata": {
        "id": "c2X6LCj83HVx"
      },
      "source": [
        "import numpy as np\n",
        "import matplotlib.pyplot as plt\n",
        "%matplotlib inline \n",
        "import pandas as pd \n",
        "import seaborn as sns \n",
        "import sklearn"
      ],
      "execution_count": 3,
      "outputs": []
    },
    {
      "cell_type": "code",
      "metadata": {
        "id": "lNLIOr9738Lt"
      },
      "source": [
        "url = \"https://raw.githubusercontent.com/samarkinav/ML/main/students_final.csv\"\n",
        "data_raw = pd.read_csv(url)"
      ],
      "execution_count": 4,
      "outputs": []
    },
    {
      "cell_type": "markdown",
      "metadata": {
        "id": "QhKt6sAm4Ayc"
      },
      "source": [
        "Таблица содержит данные о студентах, обучающихся на курсах математики и португальского языка в средней школе.\n",
        "Вначале посмотрим на размеры таблицы - количество строк (каждая строка соответствует одному студенту) и количество столбцов (каждый столбец соответствует конкретному признаку):"
      ]
    },
    {
      "cell_type": "code",
      "metadata": {
        "id": "gfubuRH9395b"
      },
      "source": [
        ""
      ],
      "execution_count": null,
      "outputs": []
    }
  ]
}