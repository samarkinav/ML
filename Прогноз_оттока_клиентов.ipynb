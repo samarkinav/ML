{
  "nbformat": 4,
  "nbformat_minor": 0,
  "metadata": {
    "colab": {
      "name": "Прогноз оттока клиентов",
      "provenance": [],
      "collapsed_sections": [],
      "authorship_tag": "ABX9TyPY8gf5fiLhBBmrwSsmwrNH",
      "include_colab_link": true
    },
    "kernelspec": {
      "name": "python3",
      "display_name": "Python 3"
    }
  },
  "cells": [
    {
      "cell_type": "markdown",
      "metadata": {
        "id": "view-in-github",
        "colab_type": "text"
      },
      "source": [
        "<a href=\"https://colab.research.google.com/github/samarkinav/ML/blob/main/%D0%9F%D1%80%D0%BE%D0%B3%D0%BD%D0%BE%D0%B7_%D0%BE%D1%82%D1%82%D0%BE%D0%BA%D0%B0_%D0%BA%D0%BB%D0%B8%D0%B5%D0%BD%D1%82%D0%BE%D0%B2.ipynb\" target=\"_parent\"><img src=\"https://colab.research.google.com/assets/colab-badge.svg\" alt=\"Open In Colab\"/></a>"
      ]
    },
    {
      "cell_type": "markdown",
      "metadata": {
        "id": "mk8-iUmJ3Nhi"
      },
      "source": [
        "#**Прогноз оттока клиентов банка** \n"
      ]
    },
    {
      "cell_type": "markdown",
      "metadata": {
        "id": "LqwlX-En3iZY"
      },
      "source": [
        "Мы хотим предсказать откажется клиент от услуг банка или нет, чтобы менеджеры могли вовремя обратиться к клиентам и сделать им выгодные предложения, которые обратят их решения. "
      ]
    },
    {
      "cell_type": "markdown",
      "metadata": {
        "id": "JSSg4ldz3lyC"
      },
      "source": [
        "##1. Загрузка данных\n",
        "\n"
      ]
    },
    {
      "cell_type": "code",
      "metadata": {
        "id": "c2X6LCj83HVx"
      },
      "source": [
        "import numpy as np\n",
        "import matplotlib.pyplot as plt\n",
        "%matplotlib inline \n",
        "import pandas as pd \n",
        "import seaborn as sns \n",
        "import sklearn"
      ],
      "execution_count": 78,
      "outputs": []
    },
    {
      "cell_type": "code",
      "metadata": {
        "id": "lNLIOr9738Lt"
      },
      "source": [
        "url = \"https://raw.githubusercontent.com/samarkinav/ML/samarkinav-test/BankChurners1.csv\"\n",
        "data_raw = pd.read_csv(url)"
      ],
      "execution_count": 79,
      "outputs": []
    },
    {
      "cell_type": "markdown",
      "metadata": {
        "id": "QhKt6sAm4Ayc"
      },
      "source": [
        "Таблица содержит данные о клиентах банка.\n",
        "Вначале посмотрим на размеры таблицы - количество строк (каждая строка соответствует одному клиенту) и количество столбцов (каждый столбец соответствует конкретному признаку):"
      ]
    },
    {
      "cell_type": "code",
      "metadata": {
        "id": "gfubuRH9395b",
        "colab": {
          "base_uri": "https://localhost:8080/"
        },
        "outputId": "6cf6ef43-b3bc-4e2a-e192-ff98a39b73c1"
      },
      "source": [
        "data_raw.shape"
      ],
      "execution_count": 80,
      "outputs": [
        {
          "output_type": "execute_result",
          "data": {
            "text/plain": [
              "(10127, 21)"
            ]
          },
          "metadata": {
            "tags": []
          },
          "execution_count": 80
        }
      ]
    },
    {
      "cell_type": "code",
      "metadata": {
        "id": "48IF_Bdt6BFG",
        "colab": {
          "base_uri": "https://localhost:8080/"
        },
        "outputId": "4cfd623a-5c79-4962-cb4f-086f5b63ff16"
      },
      "source": [
        "type(data_raw)"
      ],
      "execution_count": 81,
      "outputs": [
        {
          "output_type": "execute_result",
          "data": {
            "text/plain": [
              "pandas.core.frame.DataFrame"
            ]
          },
          "metadata": {
            "tags": []
          },
          "execution_count": 81
        }
      ]
    },
    {
      "cell_type": "code",
      "metadata": {
        "id": "lZt3A7c56F0p",
        "colab": {
          "base_uri": "https://localhost:8080/",
          "height": 224
        },
        "outputId": "2146ba43-5932-491d-a169-69b0480de990"
      },
      "source": [
        "data_raw.head()"
      ],
      "execution_count": 149,
      "outputs": [
        {
          "output_type": "execute_result",
          "data": {
            "text/html": [
              "<div>\n",
              "<style scoped>\n",
              "    .dataframe tbody tr th:only-of-type {\n",
              "        vertical-align: middle;\n",
              "    }\n",
              "\n",
              "    .dataframe tbody tr th {\n",
              "        vertical-align: top;\n",
              "    }\n",
              "\n",
              "    .dataframe thead th {\n",
              "        text-align: right;\n",
              "    }\n",
              "</style>\n",
              "<table border=\"1\" class=\"dataframe\">\n",
              "  <thead>\n",
              "    <tr style=\"text-align: right;\">\n",
              "      <th></th>\n",
              "      <th>CLIENTNUM</th>\n",
              "      <th>Customer_Age</th>\n",
              "      <th>Gender</th>\n",
              "      <th>Dependent_count</th>\n",
              "      <th>Education_Level</th>\n",
              "      <th>Marital_Status</th>\n",
              "      <th>Income_Category</th>\n",
              "      <th>Card_Category</th>\n",
              "      <th>Months_on_book</th>\n",
              "      <th>Total_Relationship_Count</th>\n",
              "      <th>Months_Inactive_12_mon</th>\n",
              "      <th>Contacts_Count_12_mon</th>\n",
              "      <th>Credit_Limit</th>\n",
              "      <th>Total_Revolving_Bal</th>\n",
              "      <th>Avg_Open_To_Buy</th>\n",
              "      <th>Total_Amt_Chng_Q4_Q1</th>\n",
              "      <th>Total_Trans_Amt</th>\n",
              "      <th>Total_Trans_Ct</th>\n",
              "      <th>Total_Ct_Chng_Q4_Q1</th>\n",
              "      <th>Avg_Utilization_Ratio</th>\n",
              "      <th>Attrition_Flag</th>\n",
              "    </tr>\n",
              "  </thead>\n",
              "  <tbody>\n",
              "    <tr>\n",
              "      <th>0</th>\n",
              "      <td>768805383</td>\n",
              "      <td>45</td>\n",
              "      <td>M</td>\n",
              "      <td>3</td>\n",
              "      <td>High School</td>\n",
              "      <td>Married</td>\n",
              "      <td>$60K - $80K</td>\n",
              "      <td>Blue</td>\n",
              "      <td>39</td>\n",
              "      <td>5</td>\n",
              "      <td>1</td>\n",
              "      <td>3</td>\n",
              "      <td>12691.0</td>\n",
              "      <td>777</td>\n",
              "      <td>11914.0</td>\n",
              "      <td>1.335</td>\n",
              "      <td>1144</td>\n",
              "      <td>42</td>\n",
              "      <td>1.625</td>\n",
              "      <td>0.061</td>\n",
              "      <td>Existing Customer</td>\n",
              "    </tr>\n",
              "    <tr>\n",
              "      <th>1</th>\n",
              "      <td>818770008</td>\n",
              "      <td>49</td>\n",
              "      <td>F</td>\n",
              "      <td>5</td>\n",
              "      <td>Graduate</td>\n",
              "      <td>Single</td>\n",
              "      <td>Less than $40K</td>\n",
              "      <td>Blue</td>\n",
              "      <td>44</td>\n",
              "      <td>6</td>\n",
              "      <td>1</td>\n",
              "      <td>2</td>\n",
              "      <td>8256.0</td>\n",
              "      <td>864</td>\n",
              "      <td>7392.0</td>\n",
              "      <td>1.541</td>\n",
              "      <td>1291</td>\n",
              "      <td>33</td>\n",
              "      <td>3.714</td>\n",
              "      <td>0.105</td>\n",
              "      <td>Existing Customer</td>\n",
              "    </tr>\n",
              "    <tr>\n",
              "      <th>2</th>\n",
              "      <td>713982108</td>\n",
              "      <td>51</td>\n",
              "      <td>M</td>\n",
              "      <td>3</td>\n",
              "      <td>Graduate</td>\n",
              "      <td>Married</td>\n",
              "      <td>$80K - $120K</td>\n",
              "      <td>Blue</td>\n",
              "      <td>36</td>\n",
              "      <td>4</td>\n",
              "      <td>1</td>\n",
              "      <td>0</td>\n",
              "      <td>3418.0</td>\n",
              "      <td>0</td>\n",
              "      <td>3418.0</td>\n",
              "      <td>2.594</td>\n",
              "      <td>1887</td>\n",
              "      <td>20</td>\n",
              "      <td>2.333</td>\n",
              "      <td>0.000</td>\n",
              "      <td>Existing Customer</td>\n",
              "    </tr>\n",
              "    <tr>\n",
              "      <th>3</th>\n",
              "      <td>769911858</td>\n",
              "      <td>40</td>\n",
              "      <td>F</td>\n",
              "      <td>4</td>\n",
              "      <td>High School</td>\n",
              "      <td>NaN</td>\n",
              "      <td>Less than $40K</td>\n",
              "      <td>Blue</td>\n",
              "      <td>34</td>\n",
              "      <td>3</td>\n",
              "      <td>4</td>\n",
              "      <td>1</td>\n",
              "      <td>3313.0</td>\n",
              "      <td>2517</td>\n",
              "      <td>796.0</td>\n",
              "      <td>1.405</td>\n",
              "      <td>1171</td>\n",
              "      <td>20</td>\n",
              "      <td>2.333</td>\n",
              "      <td>0.760</td>\n",
              "      <td>Existing Customer</td>\n",
              "    </tr>\n",
              "    <tr>\n",
              "      <th>4</th>\n",
              "      <td>709106358</td>\n",
              "      <td>40</td>\n",
              "      <td>M</td>\n",
              "      <td>3</td>\n",
              "      <td>Uneducated</td>\n",
              "      <td>Married</td>\n",
              "      <td>$60K - $80K</td>\n",
              "      <td>Blue</td>\n",
              "      <td>21</td>\n",
              "      <td>5</td>\n",
              "      <td>1</td>\n",
              "      <td>0</td>\n",
              "      <td>4716.0</td>\n",
              "      <td>0</td>\n",
              "      <td>4716.0</td>\n",
              "      <td>2.175</td>\n",
              "      <td>816</td>\n",
              "      <td>28</td>\n",
              "      <td>2.500</td>\n",
              "      <td>0.000</td>\n",
              "      <td>Existing Customer</td>\n",
              "    </tr>\n",
              "  </tbody>\n",
              "</table>\n",
              "</div>"
            ],
            "text/plain": [
              "   CLIENTNUM  Customer_Age  ... Avg_Utilization_Ratio     Attrition_Flag\n",
              "0  768805383            45  ...                 0.061  Existing Customer\n",
              "1  818770008            49  ...                 0.105  Existing Customer\n",
              "2  713982108            51  ...                 0.000  Existing Customer\n",
              "3  769911858            40  ...                 0.760  Existing Customer\n",
              "4  709106358            40  ...                 0.000  Existing Customer\n",
              "\n",
              "[5 rows x 21 columns]"
            ]
          },
          "metadata": {
            "tags": []
          },
          "execution_count": 149
        }
      ]
    },
    {
      "cell_type": "code",
      "metadata": {
        "id": "ufzq74LH6HSh",
        "colab": {
          "base_uri": "https://localhost:8080/",
          "height": 224
        },
        "outputId": "692768fa-f6f3-4d50-ec70-6fca7aceb394"
      },
      "source": [
        "data_raw.tail()"
      ],
      "execution_count": 83,
      "outputs": [
        {
          "output_type": "execute_result",
          "data": {
            "text/html": [
              "<div>\n",
              "<style scoped>\n",
              "    .dataframe tbody tr th:only-of-type {\n",
              "        vertical-align: middle;\n",
              "    }\n",
              "\n",
              "    .dataframe tbody tr th {\n",
              "        vertical-align: top;\n",
              "    }\n",
              "\n",
              "    .dataframe thead th {\n",
              "        text-align: right;\n",
              "    }\n",
              "</style>\n",
              "<table border=\"1\" class=\"dataframe\">\n",
              "  <thead>\n",
              "    <tr style=\"text-align: right;\">\n",
              "      <th></th>\n",
              "      <th>CLIENTNUM</th>\n",
              "      <th>Customer_Age</th>\n",
              "      <th>Gender</th>\n",
              "      <th>Dependent_count</th>\n",
              "      <th>Education_Level</th>\n",
              "      <th>Marital_Status</th>\n",
              "      <th>Income_Category</th>\n",
              "      <th>Card_Category</th>\n",
              "      <th>Months_on_book</th>\n",
              "      <th>Total_Relationship_Count</th>\n",
              "      <th>Months_Inactive_12_mon</th>\n",
              "      <th>Contacts_Count_12_mon</th>\n",
              "      <th>Credit_Limit</th>\n",
              "      <th>Total_Revolving_Bal</th>\n",
              "      <th>Avg_Open_To_Buy</th>\n",
              "      <th>Total_Amt_Chng_Q4_Q1</th>\n",
              "      <th>Total_Trans_Amt</th>\n",
              "      <th>Total_Trans_Ct</th>\n",
              "      <th>Total_Ct_Chng_Q4_Q1</th>\n",
              "      <th>Avg_Utilization_Ratio</th>\n",
              "      <th>Attrition_Flag</th>\n",
              "    </tr>\n",
              "  </thead>\n",
              "  <tbody>\n",
              "    <tr>\n",
              "      <th>10122</th>\n",
              "      <td>772366833</td>\n",
              "      <td>50</td>\n",
              "      <td>M</td>\n",
              "      <td>2</td>\n",
              "      <td>Graduate</td>\n",
              "      <td>Single</td>\n",
              "      <td>$40K - $60K</td>\n",
              "      <td>Blue</td>\n",
              "      <td>40</td>\n",
              "      <td>3</td>\n",
              "      <td>2</td>\n",
              "      <td>3</td>\n",
              "      <td>4003.0</td>\n",
              "      <td>1851</td>\n",
              "      <td>2152.0</td>\n",
              "      <td>0.703</td>\n",
              "      <td>15476</td>\n",
              "      <td>117</td>\n",
              "      <td>0.857</td>\n",
              "      <td>0.462</td>\n",
              "      <td>Existing Customer</td>\n",
              "    </tr>\n",
              "    <tr>\n",
              "      <th>10123</th>\n",
              "      <td>710638233</td>\n",
              "      <td>41</td>\n",
              "      <td>M</td>\n",
              "      <td>2</td>\n",
              "      <td>Unknown</td>\n",
              "      <td>Divorced</td>\n",
              "      <td>$40K - $60K</td>\n",
              "      <td>Blue</td>\n",
              "      <td>25</td>\n",
              "      <td>4</td>\n",
              "      <td>2</td>\n",
              "      <td>3</td>\n",
              "      <td>4277.0</td>\n",
              "      <td>2186</td>\n",
              "      <td>2091.0</td>\n",
              "      <td>0.804</td>\n",
              "      <td>8764</td>\n",
              "      <td>69</td>\n",
              "      <td>0.683</td>\n",
              "      <td>0.511</td>\n",
              "      <td>Attrited Customer</td>\n",
              "    </tr>\n",
              "    <tr>\n",
              "      <th>10124</th>\n",
              "      <td>716506083</td>\n",
              "      <td>44</td>\n",
              "      <td>F</td>\n",
              "      <td>1</td>\n",
              "      <td>High School</td>\n",
              "      <td>Married</td>\n",
              "      <td>Less than $40K</td>\n",
              "      <td>Blue</td>\n",
              "      <td>36</td>\n",
              "      <td>5</td>\n",
              "      <td>3</td>\n",
              "      <td>4</td>\n",
              "      <td>5409.0</td>\n",
              "      <td>0</td>\n",
              "      <td>5409.0</td>\n",
              "      <td>0.819</td>\n",
              "      <td>10291</td>\n",
              "      <td>60</td>\n",
              "      <td>0.818</td>\n",
              "      <td>0.000</td>\n",
              "      <td>Attrited Customer</td>\n",
              "    </tr>\n",
              "    <tr>\n",
              "      <th>10125</th>\n",
              "      <td>717406983</td>\n",
              "      <td>30</td>\n",
              "      <td>M</td>\n",
              "      <td>2</td>\n",
              "      <td>Graduate</td>\n",
              "      <td>Unknown</td>\n",
              "      <td>$40K - $60K</td>\n",
              "      <td>Blue</td>\n",
              "      <td>36</td>\n",
              "      <td>4</td>\n",
              "      <td>3</td>\n",
              "      <td>3</td>\n",
              "      <td>5281.0</td>\n",
              "      <td>0</td>\n",
              "      <td>5281.0</td>\n",
              "      <td>0.535</td>\n",
              "      <td>8395</td>\n",
              "      <td>62</td>\n",
              "      <td>0.722</td>\n",
              "      <td>0.000</td>\n",
              "      <td>Attrited Customer</td>\n",
              "    </tr>\n",
              "    <tr>\n",
              "      <th>10126</th>\n",
              "      <td>714337233</td>\n",
              "      <td>43</td>\n",
              "      <td>F</td>\n",
              "      <td>2</td>\n",
              "      <td>Graduate</td>\n",
              "      <td>Married</td>\n",
              "      <td>Less than $40K</td>\n",
              "      <td>Silver</td>\n",
              "      <td>25</td>\n",
              "      <td>6</td>\n",
              "      <td>2</td>\n",
              "      <td>4</td>\n",
              "      <td>10388.0</td>\n",
              "      <td>1961</td>\n",
              "      <td>8427.0</td>\n",
              "      <td>0.703</td>\n",
              "      <td>10294</td>\n",
              "      <td>61</td>\n",
              "      <td>0.649</td>\n",
              "      <td>0.189</td>\n",
              "      <td>Attrited Customer</td>\n",
              "    </tr>\n",
              "  </tbody>\n",
              "</table>\n",
              "</div>"
            ],
            "text/plain": [
              "       CLIENTNUM  Customer_Age  ... Avg_Utilization_Ratio     Attrition_Flag\n",
              "10122  772366833            50  ...                 0.462  Existing Customer\n",
              "10123  710638233            41  ...                 0.511  Attrited Customer\n",
              "10124  716506083            44  ...                 0.000  Attrited Customer\n",
              "10125  717406983            30  ...                 0.000  Attrited Customer\n",
              "10126  714337233            43  ...                 0.189  Attrited Customer\n",
              "\n",
              "[5 rows x 21 columns]"
            ]
          },
          "metadata": {
            "tags": []
          },
          "execution_count": 83
        }
      ]
    },
    {
      "cell_type": "markdown",
      "metadata": {
        "id": "QlXaX0Yt6aUh"
      },
      "source": [
        "Мы видим, что столбцы (признаки) имеют названия:\n",
        "\n",
        "\n",
        "*   CLIENTNUM - уникальный номер клиента\n",
        "*   Customer_Age - возраст \n",
        "*   Gender - пол \n",
        "*   Dependent_count - количество зависимых счетов \n",
        "*   Education_Level - образование \n",
        "*   Marital_Status - семейное положение \n",
        "*   Income_Category - категория годового дохода \n",
        "*   Card_Category - тип карты \n",
        "*   Months_on_book - период отношений с банком\n",
        "*   Total_Relationship_Count - кол-во продуктов, хранящихся у клиента \n",
        "*   Months_Inactive_12_mon - количество месяцев бездействия за последние 12 месяцев \n",
        "*   Contacts_Count_12_mon - количество дейтсвий по счёту за последние 12 месяцев \n",
        "*   Credit_Limit - кредитный лимит по карте \n",
        "*   Total_Revolving_Bal - общий возобновляемый остаток на кредитной карте \n",
        "*   Avg_Open_To_Buy - средний чек покупки (в среднем за последние 12 месяцев) \n",
        "*   Total_Amt_Chng_Q4_Q1 - изменение суммы транзакций (4 квартал по сравнению с 1 кварталом) \n",
        "*   Total_Trans_Amt - общая сумма транзакций (последние 12 месяцев) \n",
        "*   Total_Trans_Ct - общее количество транзакций (последние 12 месяцев) \n",
        "*   Total_Ct_Chng_Q4_Q1 - изменение количества транзакций (4 квартал по сравнению с 1 кварталом) \n",
        "*   Avg_Utilization_Ratio - средний коэффициент использования карты \n",
        "\n",
        "\n",
        "Признак Attrition_Flag указывает на то, закрыт счет или нет.\n",
        "Требуется спрогнозировать отток клиентов банка. Это задача классификации."
      ]
    },
    {
      "cell_type": "code",
      "metadata": {
        "id": "2fwQzLFL6JLm",
        "colab": {
          "base_uri": "https://localhost:8080/"
        },
        "outputId": "49baf885-40d4-4ef2-e4a2-6b2ab83ba13d"
      },
      "source": [
        "data_raw.columns"
      ],
      "execution_count": 84,
      "outputs": [
        {
          "output_type": "execute_result",
          "data": {
            "text/plain": [
              "Index(['CLIENTNUM', 'Customer_Age', 'Gender', 'Dependent_count',\n",
              "       'Education_Level', 'Marital_Status', 'Income_Category', 'Card_Category',\n",
              "       'Months_on_book', 'Total_Relationship_Count', 'Months_Inactive_12_mon',\n",
              "       'Contacts_Count_12_mon', 'Credit_Limit', 'Total_Revolving_Bal',\n",
              "       'Avg_Open_To_Buy', 'Total_Amt_Chng_Q4_Q1', 'Total_Trans_Amt',\n",
              "       'Total_Trans_Ct', 'Total_Ct_Chng_Q4_Q1', 'Avg_Utilization_Ratio',\n",
              "       'Attrition_Flag'],\n",
              "      dtype='object')"
            ]
          },
          "metadata": {
            "tags": []
          },
          "execution_count": 84
        }
      ]
    },
    {
      "cell_type": "code",
      "metadata": {
        "id": "kEz3uYCp6cdF",
        "colab": {
          "base_uri": "https://localhost:8080/"
        },
        "outputId": "4243c90f-678e-427e-ac53-59d4ffde7a6e"
      },
      "source": [
        "data_raw.index"
      ],
      "execution_count": 85,
      "outputs": [
        {
          "output_type": "execute_result",
          "data": {
            "text/plain": [
              "RangeIndex(start=0, stop=10127, step=1)"
            ]
          },
          "metadata": {
            "tags": []
          },
          "execution_count": 85
        }
      ]
    },
    {
      "cell_type": "markdown",
      "metadata": {
        "id": "bAF-EDsNuakV"
      },
      "source": [
        "Исключим из рассмотрения столбец с уникальным номером клиента."
      ]
    },
    {
      "cell_type": "code",
      "metadata": {
        "id": "uBUvfBoruf2R"
      },
      "source": [
        "\n",
        "df = data_raw.drop(['CLIENTNUM'], axis = 1)"
      ],
      "execution_count": 86,
      "outputs": []
    },
    {
      "cell_type": "markdown",
      "metadata": {
        "id": "FXR-F7Bz8Lc0"
      },
      "source": [
        "##2. Визуализация данных и вычисление основных характеристик"
      ]
    },
    {
      "cell_type": "markdown",
      "metadata": {
        "id": "fw1XUrMb83hw"
      },
      "source": [
        "Вначале рассмотрим среднее значение, стандартное отклонение, минимальное и максимальное значения, медиану и квартили. По умолчанию этот метод даёт информацию только о количественных признаках."
      ]
    },
    {
      "cell_type": "code",
      "metadata": {
        "id": "lg_k-wMk6dxA",
        "colab": {
          "base_uri": "https://localhost:8080/",
          "height": 317
        },
        "outputId": "282b17e5-dd0d-445b-b850-34337d342793"
      },
      "source": [
        "df.describe()"
      ],
      "execution_count": 87,
      "outputs": [
        {
          "output_type": "execute_result",
          "data": {
            "text/html": [
              "<div>\n",
              "<style scoped>\n",
              "    .dataframe tbody tr th:only-of-type {\n",
              "        vertical-align: middle;\n",
              "    }\n",
              "\n",
              "    .dataframe tbody tr th {\n",
              "        vertical-align: top;\n",
              "    }\n",
              "\n",
              "    .dataframe thead th {\n",
              "        text-align: right;\n",
              "    }\n",
              "</style>\n",
              "<table border=\"1\" class=\"dataframe\">\n",
              "  <thead>\n",
              "    <tr style=\"text-align: right;\">\n",
              "      <th></th>\n",
              "      <th>Customer_Age</th>\n",
              "      <th>Dependent_count</th>\n",
              "      <th>Months_on_book</th>\n",
              "      <th>Total_Relationship_Count</th>\n",
              "      <th>Months_Inactive_12_mon</th>\n",
              "      <th>Contacts_Count_12_mon</th>\n",
              "      <th>Credit_Limit</th>\n",
              "      <th>Total_Revolving_Bal</th>\n",
              "      <th>Avg_Open_To_Buy</th>\n",
              "      <th>Total_Amt_Chng_Q4_Q1</th>\n",
              "      <th>Total_Trans_Amt</th>\n",
              "      <th>Total_Trans_Ct</th>\n",
              "      <th>Total_Ct_Chng_Q4_Q1</th>\n",
              "      <th>Avg_Utilization_Ratio</th>\n",
              "    </tr>\n",
              "  </thead>\n",
              "  <tbody>\n",
              "    <tr>\n",
              "      <th>count</th>\n",
              "      <td>10127.000000</td>\n",
              "      <td>10127.000000</td>\n",
              "      <td>10127.000000</td>\n",
              "      <td>10127.000000</td>\n",
              "      <td>10127.000000</td>\n",
              "      <td>10127.000000</td>\n",
              "      <td>10127.000000</td>\n",
              "      <td>10127.000000</td>\n",
              "      <td>10127.000000</td>\n",
              "      <td>10127.000000</td>\n",
              "      <td>10127.000000</td>\n",
              "      <td>10127.000000</td>\n",
              "      <td>10127.000000</td>\n",
              "      <td>10127.000000</td>\n",
              "    </tr>\n",
              "    <tr>\n",
              "      <th>mean</th>\n",
              "      <td>46.325960</td>\n",
              "      <td>2.346203</td>\n",
              "      <td>35.928409</td>\n",
              "      <td>3.812580</td>\n",
              "      <td>2.341167</td>\n",
              "      <td>2.455317</td>\n",
              "      <td>8631.953698</td>\n",
              "      <td>1162.814061</td>\n",
              "      <td>7469.139637</td>\n",
              "      <td>0.759941</td>\n",
              "      <td>4404.086304</td>\n",
              "      <td>64.858695</td>\n",
              "      <td>0.712222</td>\n",
              "      <td>0.274894</td>\n",
              "    </tr>\n",
              "    <tr>\n",
              "      <th>std</th>\n",
              "      <td>8.016814</td>\n",
              "      <td>1.298908</td>\n",
              "      <td>7.986416</td>\n",
              "      <td>1.554408</td>\n",
              "      <td>1.010622</td>\n",
              "      <td>1.106225</td>\n",
              "      <td>9088.776650</td>\n",
              "      <td>814.987335</td>\n",
              "      <td>9090.685324</td>\n",
              "      <td>0.219207</td>\n",
              "      <td>3397.129254</td>\n",
              "      <td>23.472570</td>\n",
              "      <td>0.238086</td>\n",
              "      <td>0.275691</td>\n",
              "    </tr>\n",
              "    <tr>\n",
              "      <th>min</th>\n",
              "      <td>26.000000</td>\n",
              "      <td>0.000000</td>\n",
              "      <td>13.000000</td>\n",
              "      <td>1.000000</td>\n",
              "      <td>0.000000</td>\n",
              "      <td>0.000000</td>\n",
              "      <td>1438.300000</td>\n",
              "      <td>0.000000</td>\n",
              "      <td>3.000000</td>\n",
              "      <td>0.000000</td>\n",
              "      <td>510.000000</td>\n",
              "      <td>10.000000</td>\n",
              "      <td>0.000000</td>\n",
              "      <td>0.000000</td>\n",
              "    </tr>\n",
              "    <tr>\n",
              "      <th>25%</th>\n",
              "      <td>41.000000</td>\n",
              "      <td>1.000000</td>\n",
              "      <td>31.000000</td>\n",
              "      <td>3.000000</td>\n",
              "      <td>2.000000</td>\n",
              "      <td>2.000000</td>\n",
              "      <td>2555.000000</td>\n",
              "      <td>359.000000</td>\n",
              "      <td>1324.500000</td>\n",
              "      <td>0.631000</td>\n",
              "      <td>2155.500000</td>\n",
              "      <td>45.000000</td>\n",
              "      <td>0.582000</td>\n",
              "      <td>0.023000</td>\n",
              "    </tr>\n",
              "    <tr>\n",
              "      <th>50%</th>\n",
              "      <td>46.000000</td>\n",
              "      <td>2.000000</td>\n",
              "      <td>36.000000</td>\n",
              "      <td>4.000000</td>\n",
              "      <td>2.000000</td>\n",
              "      <td>2.000000</td>\n",
              "      <td>4549.000000</td>\n",
              "      <td>1276.000000</td>\n",
              "      <td>3474.000000</td>\n",
              "      <td>0.736000</td>\n",
              "      <td>3899.000000</td>\n",
              "      <td>67.000000</td>\n",
              "      <td>0.702000</td>\n",
              "      <td>0.176000</td>\n",
              "    </tr>\n",
              "    <tr>\n",
              "      <th>75%</th>\n",
              "      <td>52.000000</td>\n",
              "      <td>3.000000</td>\n",
              "      <td>40.000000</td>\n",
              "      <td>5.000000</td>\n",
              "      <td>3.000000</td>\n",
              "      <td>3.000000</td>\n",
              "      <td>11067.500000</td>\n",
              "      <td>1784.000000</td>\n",
              "      <td>9859.000000</td>\n",
              "      <td>0.859000</td>\n",
              "      <td>4741.000000</td>\n",
              "      <td>81.000000</td>\n",
              "      <td>0.818000</td>\n",
              "      <td>0.503000</td>\n",
              "    </tr>\n",
              "    <tr>\n",
              "      <th>max</th>\n",
              "      <td>73.000000</td>\n",
              "      <td>5.000000</td>\n",
              "      <td>56.000000</td>\n",
              "      <td>6.000000</td>\n",
              "      <td>6.000000</td>\n",
              "      <td>6.000000</td>\n",
              "      <td>34516.000000</td>\n",
              "      <td>2517.000000</td>\n",
              "      <td>34516.000000</td>\n",
              "      <td>3.397000</td>\n",
              "      <td>18484.000000</td>\n",
              "      <td>139.000000</td>\n",
              "      <td>3.714000</td>\n",
              "      <td>0.999000</td>\n",
              "    </tr>\n",
              "  </tbody>\n",
              "</table>\n",
              "</div>"
            ],
            "text/plain": [
              "       Customer_Age  ...  Avg_Utilization_Ratio\n",
              "count  10127.000000  ...           10127.000000\n",
              "mean      46.325960  ...               0.274894\n",
              "std        8.016814  ...               0.275691\n",
              "min       26.000000  ...               0.000000\n",
              "25%       41.000000  ...               0.023000\n",
              "50%       46.000000  ...               0.176000\n",
              "75%       52.000000  ...               0.503000\n",
              "max       73.000000  ...               0.999000\n",
              "\n",
              "[8 rows x 14 columns]"
            ]
          },
          "metadata": {
            "tags": []
          },
          "execution_count": 87
        }
      ]
    },
    {
      "cell_type": "markdown",
      "metadata": {
        "id": "mlYBDDWH877U"
      },
      "source": [
        "Получим информацию о категориальных признаках:"
      ]
    },
    {
      "cell_type": "code",
      "metadata": {
        "id": "NtYlwPpI85bH",
        "colab": {
          "base_uri": "https://localhost:8080/",
          "height": 173
        },
        "outputId": "a3beae08-354a-4196-925f-1a918d377763"
      },
      "source": [
        "df.describe(include = ['object'])"
      ],
      "execution_count": 88,
      "outputs": [
        {
          "output_type": "execute_result",
          "data": {
            "text/html": [
              "<div>\n",
              "<style scoped>\n",
              "    .dataframe tbody tr th:only-of-type {\n",
              "        vertical-align: middle;\n",
              "    }\n",
              "\n",
              "    .dataframe tbody tr th {\n",
              "        vertical-align: top;\n",
              "    }\n",
              "\n",
              "    .dataframe thead th {\n",
              "        text-align: right;\n",
              "    }\n",
              "</style>\n",
              "<table border=\"1\" class=\"dataframe\">\n",
              "  <thead>\n",
              "    <tr style=\"text-align: right;\">\n",
              "      <th></th>\n",
              "      <th>Gender</th>\n",
              "      <th>Education_Level</th>\n",
              "      <th>Marital_Status</th>\n",
              "      <th>Income_Category</th>\n",
              "      <th>Card_Category</th>\n",
              "      <th>Attrition_Flag</th>\n",
              "    </tr>\n",
              "  </thead>\n",
              "  <tbody>\n",
              "    <tr>\n",
              "      <th>count</th>\n",
              "      <td>10127</td>\n",
              "      <td>10127</td>\n",
              "      <td>10127</td>\n",
              "      <td>10127</td>\n",
              "      <td>10127</td>\n",
              "      <td>10127</td>\n",
              "    </tr>\n",
              "    <tr>\n",
              "      <th>unique</th>\n",
              "      <td>2</td>\n",
              "      <td>7</td>\n",
              "      <td>4</td>\n",
              "      <td>6</td>\n",
              "      <td>4</td>\n",
              "      <td>2</td>\n",
              "    </tr>\n",
              "    <tr>\n",
              "      <th>top</th>\n",
              "      <td>F</td>\n",
              "      <td>Graduate</td>\n",
              "      <td>Married</td>\n",
              "      <td>Less than $40K</td>\n",
              "      <td>Blue</td>\n",
              "      <td>Existing Customer</td>\n",
              "    </tr>\n",
              "    <tr>\n",
              "      <th>freq</th>\n",
              "      <td>5358</td>\n",
              "      <td>3128</td>\n",
              "      <td>4687</td>\n",
              "      <td>3561</td>\n",
              "      <td>9436</td>\n",
              "      <td>8500</td>\n",
              "    </tr>\n",
              "  </tbody>\n",
              "</table>\n",
              "</div>"
            ],
            "text/plain": [
              "       Gender Education_Level  ... Card_Category     Attrition_Flag\n",
              "count   10127           10127  ...         10127              10127\n",
              "unique      2               7  ...             4                  2\n",
              "top         F        Graduate  ...          Blue  Existing Customer\n",
              "freq     5358            3128  ...          9436               8500\n",
              "\n",
              "[4 rows x 6 columns]"
            ]
          },
          "metadata": {
            "tags": []
          },
          "execution_count": 88
        }
      ]
    },
    {
      "cell_type": "markdown",
      "metadata": {
        "id": "nnfW5AAb9A5o"
      },
      "source": [
        "Из таблицы видно, что данные в стоблце Attrition_Flag не являются сбалансированными, так как один из классов представляет около 16% от общего числа клиентов."
      ]
    },
    {
      "cell_type": "markdown",
      "metadata": {
        "id": "Mu0Mso9b9BHG"
      },
      "source": [
        "Построим попарные матрицы разброса:"
      ]
    },
    {
      "cell_type": "code",
      "metadata": {
        "id": "1uSviqjG89xQ",
        "colab": {
          "base_uri": "https://localhost:8080/",
          "height": 639
        },
        "outputId": "c66f2d35-4ec5-4f2d-cfda-ca07f9366d5b"
      },
      "source": [
        "from pandas.plotting import scatter_matrix\n",
        "scatter_matrix(df, alpha = .01, figsize = (10, 10))\n",
        "pass"
      ],
      "execution_count": 89,
      "outputs": [
        {
          "output_type": "display_data",
          "data": {
            "image/png": "[encoded data removed]",
            "text/plain": [
              "<Figure size 720x720 with 196 Axes>"
            ]
          },
          "metadata": {
            "tags": [],
            "needs_background": "light"
          }
        }
      ]
    },
    {
      "cell_type": "markdown",
      "metadata": {
        "id": "SnDjWFSI9JKK"
      },
      "source": [
        "Матрица корреляции для количественных признаков:"
      ]
    },
    {
      "cell_type": "code",
      "metadata": {
        "id": "fzR0wKvQ9Gvv",
        "colab": {
          "base_uri": "https://localhost:8080/",
          "height": 503
        },
        "outputId": "2af9768d-ccdb-458c-8c8c-1f1c91e5a851"
      },
      "source": [
        "corr_mat = df.corr()\n",
        "corr_mat"
      ],
      "execution_count": 90,
      "outputs": [
        {
          "output_type": "execute_result",
          "data": {
            "text/html": [
              "<div>\n",
              "<style scoped>\n",
              "    .dataframe tbody tr th:only-of-type {\n",
              "        vertical-align: middle;\n",
              "    }\n",
              "\n",
              "    .dataframe tbody tr th {\n",
              "        vertical-align: top;\n",
              "    }\n",
              "\n",
              "    .dataframe thead th {\n",
              "        text-align: right;\n",
              "    }\n",
              "</style>\n",
              "<table border=\"1\" class=\"dataframe\">\n",
              "  <thead>\n",
              "    <tr style=\"text-align: right;\">\n",
              "      <th></th>\n",
              "      <th>Customer_Age</th>\n",
              "      <th>Dependent_count</th>\n",
              "      <th>Months_on_book</th>\n",
              "      <th>Total_Relationship_Count</th>\n",
              "      <th>Months_Inactive_12_mon</th>\n",
              "      <th>Contacts_Count_12_mon</th>\n",
              "      <th>Credit_Limit</th>\n",
              "      <th>Total_Revolving_Bal</th>\n",
              "      <th>Avg_Open_To_Buy</th>\n",
              "      <th>Total_Amt_Chng_Q4_Q1</th>\n",
              "      <th>Total_Trans_Amt</th>\n",
              "      <th>Total_Trans_Ct</th>\n",
              "      <th>Total_Ct_Chng_Q4_Q1</th>\n",
              "      <th>Avg_Utilization_Ratio</th>\n",
              "    </tr>\n",
              "  </thead>\n",
              "  <tbody>\n",
              "    <tr>\n",
              "      <th>Customer_Age</th>\n",
              "      <td>1.000000</td>\n",
              "      <td>-0.122254</td>\n",
              "      <td>0.788912</td>\n",
              "      <td>-0.010931</td>\n",
              "      <td>0.054361</td>\n",
              "      <td>-0.018452</td>\n",
              "      <td>0.002476</td>\n",
              "      <td>0.014780</td>\n",
              "      <td>0.001151</td>\n",
              "      <td>-0.062042</td>\n",
              "      <td>-0.046446</td>\n",
              "      <td>-0.067097</td>\n",
              "      <td>-0.012143</td>\n",
              "      <td>0.007114</td>\n",
              "    </tr>\n",
              "    <tr>\n",
              "      <th>Dependent_count</th>\n",
              "      <td>-0.122254</td>\n",
              "      <td>1.000000</td>\n",
              "      <td>-0.103062</td>\n",
              "      <td>-0.039076</td>\n",
              "      <td>-0.010768</td>\n",
              "      <td>-0.040505</td>\n",
              "      <td>0.068065</td>\n",
              "      <td>-0.002688</td>\n",
              "      <td>0.068291</td>\n",
              "      <td>-0.035439</td>\n",
              "      <td>0.025046</td>\n",
              "      <td>0.049912</td>\n",
              "      <td>0.011087</td>\n",
              "      <td>-0.037135</td>\n",
              "    </tr>\n",
              "    <tr>\n",
              "      <th>Months_on_book</th>\n",
              "      <td>0.788912</td>\n",
              "      <td>-0.103062</td>\n",
              "      <td>1.000000</td>\n",
              "      <td>-0.009203</td>\n",
              "      <td>0.074164</td>\n",
              "      <td>-0.010774</td>\n",
              "      <td>0.007507</td>\n",
              "      <td>0.008623</td>\n",
              "      <td>0.006732</td>\n",
              "      <td>-0.048959</td>\n",
              "      <td>-0.038591</td>\n",
              "      <td>-0.049819</td>\n",
              "      <td>-0.014072</td>\n",
              "      <td>-0.007541</td>\n",
              "    </tr>\n",
              "    <tr>\n",
              "      <th>Total_Relationship_Count</th>\n",
              "      <td>-0.010931</td>\n",
              "      <td>-0.039076</td>\n",
              "      <td>-0.009203</td>\n",
              "      <td>1.000000</td>\n",
              "      <td>-0.003675</td>\n",
              "      <td>0.055203</td>\n",
              "      <td>-0.071386</td>\n",
              "      <td>0.013726</td>\n",
              "      <td>-0.072601</td>\n",
              "      <td>0.050119</td>\n",
              "      <td>-0.347229</td>\n",
              "      <td>-0.241891</td>\n",
              "      <td>0.040831</td>\n",
              "      <td>0.067663</td>\n",
              "    </tr>\n",
              "    <tr>\n",
              "      <th>Months_Inactive_12_mon</th>\n",
              "      <td>0.054361</td>\n",
              "      <td>-0.010768</td>\n",
              "      <td>0.074164</td>\n",
              "      <td>-0.003675</td>\n",
              "      <td>1.000000</td>\n",
              "      <td>0.029493</td>\n",
              "      <td>-0.020394</td>\n",
              "      <td>-0.042210</td>\n",
              "      <td>-0.016605</td>\n",
              "      <td>-0.032247</td>\n",
              "      <td>-0.036982</td>\n",
              "      <td>-0.042787</td>\n",
              "      <td>-0.038989</td>\n",
              "      <td>-0.007503</td>\n",
              "    </tr>\n",
              "    <tr>\n",
              "      <th>Contacts_Count_12_mon</th>\n",
              "      <td>-0.018452</td>\n",
              "      <td>-0.040505</td>\n",
              "      <td>-0.010774</td>\n",
              "      <td>0.055203</td>\n",
              "      <td>0.029493</td>\n",
              "      <td>1.000000</td>\n",
              "      <td>0.020817</td>\n",
              "      <td>-0.053913</td>\n",
              "      <td>0.025646</td>\n",
              "      <td>-0.024445</td>\n",
              "      <td>-0.112774</td>\n",
              "      <td>-0.152213</td>\n",
              "      <td>-0.094997</td>\n",
              "      <td>-0.055471</td>\n",
              "    </tr>\n",
              "    <tr>\n",
              "      <th>Credit_Limit</th>\n",
              "      <td>0.002476</td>\n",
              "      <td>0.068065</td>\n",
              "      <td>0.007507</td>\n",
              "      <td>-0.071386</td>\n",
              "      <td>-0.020394</td>\n",
              "      <td>0.020817</td>\n",
              "      <td>1.000000</td>\n",
              "      <td>0.042493</td>\n",
              "      <td>0.995981</td>\n",
              "      <td>0.012813</td>\n",
              "      <td>0.171730</td>\n",
              "      <td>0.075927</td>\n",
              "      <td>-0.002020</td>\n",
              "      <td>-0.482965</td>\n",
              "    </tr>\n",
              "    <tr>\n",
              "      <th>Total_Revolving_Bal</th>\n",
              "      <td>0.014780</td>\n",
              "      <td>-0.002688</td>\n",
              "      <td>0.008623</td>\n",
              "      <td>0.013726</td>\n",
              "      <td>-0.042210</td>\n",
              "      <td>-0.053913</td>\n",
              "      <td>0.042493</td>\n",
              "      <td>1.000000</td>\n",
              "      <td>-0.047167</td>\n",
              "      <td>0.058174</td>\n",
              "      <td>0.064370</td>\n",
              "      <td>0.056060</td>\n",
              "      <td>0.089861</td>\n",
              "      <td>0.624022</td>\n",
              "    </tr>\n",
              "    <tr>\n",
              "      <th>Avg_Open_To_Buy</th>\n",
              "      <td>0.001151</td>\n",
              "      <td>0.068291</td>\n",
              "      <td>0.006732</td>\n",
              "      <td>-0.072601</td>\n",
              "      <td>-0.016605</td>\n",
              "      <td>0.025646</td>\n",
              "      <td>0.995981</td>\n",
              "      <td>-0.047167</td>\n",
              "      <td>1.000000</td>\n",
              "      <td>0.007595</td>\n",
              "      <td>0.165923</td>\n",
              "      <td>0.070885</td>\n",
              "      <td>-0.010076</td>\n",
              "      <td>-0.538808</td>\n",
              "    </tr>\n",
              "    <tr>\n",
              "      <th>Total_Amt_Chng_Q4_Q1</th>\n",
              "      <td>-0.062042</td>\n",
              "      <td>-0.035439</td>\n",
              "      <td>-0.048959</td>\n",
              "      <td>0.050119</td>\n",
              "      <td>-0.032247</td>\n",
              "      <td>-0.024445</td>\n",
              "      <td>0.012813</td>\n",
              "      <td>0.058174</td>\n",
              "      <td>0.007595</td>\n",
              "      <td>1.000000</td>\n",
              "      <td>0.039678</td>\n",
              "      <td>0.005469</td>\n",
              "      <td>0.384189</td>\n",
              "      <td>0.035235</td>\n",
              "    </tr>\n",
              "    <tr>\n",
              "      <th>Total_Trans_Amt</th>\n",
              "      <td>-0.046446</td>\n",
              "      <td>0.025046</td>\n",
              "      <td>-0.038591</td>\n",
              "      <td>-0.347229</td>\n",
              "      <td>-0.036982</td>\n",
              "      <td>-0.112774</td>\n",
              "      <td>0.171730</td>\n",
              "      <td>0.064370</td>\n",
              "      <td>0.165923</td>\n",
              "      <td>0.039678</td>\n",
              "      <td>1.000000</td>\n",
              "      <td>0.807192</td>\n",
              "      <td>0.085581</td>\n",
              "      <td>-0.083034</td>\n",
              "    </tr>\n",
              "    <tr>\n",
              "      <th>Total_Trans_Ct</th>\n",
              "      <td>-0.067097</td>\n",
              "      <td>0.049912</td>\n",
              "      <td>-0.049819</td>\n",
              "      <td>-0.241891</td>\n",
              "      <td>-0.042787</td>\n",
              "      <td>-0.152213</td>\n",
              "      <td>0.075927</td>\n",
              "      <td>0.056060</td>\n",
              "      <td>0.070885</td>\n",
              "      <td>0.005469</td>\n",
              "      <td>0.807192</td>\n",
              "      <td>1.000000</td>\n",
              "      <td>0.112324</td>\n",
              "      <td>0.002838</td>\n",
              "    </tr>\n",
              "    <tr>\n",
              "      <th>Total_Ct_Chng_Q4_Q1</th>\n",
              "      <td>-0.012143</td>\n",
              "      <td>0.011087</td>\n",
              "      <td>-0.014072</td>\n",
              "      <td>0.040831</td>\n",
              "      <td>-0.038989</td>\n",
              "      <td>-0.094997</td>\n",
              "      <td>-0.002020</td>\n",
              "      <td>0.089861</td>\n",
              "      <td>-0.010076</td>\n",
              "      <td>0.384189</td>\n",
              "      <td>0.085581</td>\n",
              "      <td>0.112324</td>\n",
              "      <td>1.000000</td>\n",
              "      <td>0.074143</td>\n",
              "    </tr>\n",
              "    <tr>\n",
              "      <th>Avg_Utilization_Ratio</th>\n",
              "      <td>0.007114</td>\n",
              "      <td>-0.037135</td>\n",
              "      <td>-0.007541</td>\n",
              "      <td>0.067663</td>\n",
              "      <td>-0.007503</td>\n",
              "      <td>-0.055471</td>\n",
              "      <td>-0.482965</td>\n",
              "      <td>0.624022</td>\n",
              "      <td>-0.538808</td>\n",
              "      <td>0.035235</td>\n",
              "      <td>-0.083034</td>\n",
              "      <td>0.002838</td>\n",
              "      <td>0.074143</td>\n",
              "      <td>1.000000</td>\n",
              "    </tr>\n",
              "  </tbody>\n",
              "</table>\n",
              "</div>"
            ],
            "text/plain": [
              "                          Customer_Age  ...  Avg_Utilization_Ratio\n",
              "Customer_Age                  1.000000  ...               0.007114\n",
              "Dependent_count              -0.122254  ...              -0.037135\n",
              "Months_on_book                0.788912  ...              -0.007541\n",
              "Total_Relationship_Count     -0.010931  ...               0.067663\n",
              "Months_Inactive_12_mon        0.054361  ...              -0.007503\n",
              "Contacts_Count_12_mon        -0.018452  ...              -0.055471\n",
              "Credit_Limit                  0.002476  ...              -0.482965\n",
              "Total_Revolving_Bal           0.014780  ...               0.624022\n",
              "Avg_Open_To_Buy               0.001151  ...              -0.538808\n",
              "Total_Amt_Chng_Q4_Q1         -0.062042  ...               0.035235\n",
              "Total_Trans_Amt              -0.046446  ...              -0.083034\n",
              "Total_Trans_Ct               -0.067097  ...               0.002838\n",
              "Total_Ct_Chng_Q4_Q1          -0.012143  ...               0.074143\n",
              "Avg_Utilization_Ratio         0.007114  ...               1.000000\n",
              "\n",
              "[14 rows x 14 columns]"
            ]
          },
          "metadata": {
            "tags": []
          },
          "execution_count": 90
        }
      ]
    },
    {
      "cell_type": "markdown",
      "metadata": {
        "id": "oSvlpiqN9Mw1"
      },
      "source": [
        "Удобно использовать визуальный образ этой матрицы. Чем светлее ячейка, тем меньше по абсолютной величине коэффициент корреляции:"
      ]
    },
    {
      "cell_type": "code",
      "metadata": {
        "id": "rb09GRql9MB2",
        "colab": {
          "base_uri": "https://localhost:8080/",
          "height": 385
        },
        "outputId": "a37b4169-efb0-4c91-e5d0-8bb3699513a7"
      },
      "source": [
        "sns.heatmap(corr_mat, square=True, cmap='coolwarm')\n",
        "pass"
      ],
      "execution_count": 91,
      "outputs": [
        {
          "output_type": "display_data",
          "data": {
            "image/png": "[encoded data removed]",
            "text/plain": [
              "<Figure size 432x288 with 2 Axes>"
            ]
          },
          "metadata": {
            "tags": [],
            "needs_background": "light"
          }
        }
      ]
    },
    {
      "cell_type": "markdown",
      "metadata": {
        "id": "yotoKEU_9RLS"
      },
      "source": [
        "Выведем коэффициенты корреляции больше заданного значения 0,4:"
      ]
    },
    {
      "cell_type": "code",
      "metadata": {
        "id": "QPs8y4sl9VF0",
        "colab": {
          "base_uri": "https://localhost:8080/",
          "height": 503
        },
        "outputId": "934083ff-4716-43bf-9ff9-95e6c2ecbb10"
      },
      "source": [
        "corr_mat > 0.4"
      ],
      "execution_count": 92,
      "outputs": [
        {
          "output_type": "execute_result",
          "data": {
            "text/html": [
              "<div>\n",
              "<style scoped>\n",
              "    .dataframe tbody tr th:only-of-type {\n",
              "        vertical-align: middle;\n",
              "    }\n",
              "\n",
              "    .dataframe tbody tr th {\n",
              "        vertical-align: top;\n",
              "    }\n",
              "\n",
              "    .dataframe thead th {\n",
              "        text-align: right;\n",
              "    }\n",
              "</style>\n",
              "<table border=\"1\" class=\"dataframe\">\n",
              "  <thead>\n",
              "    <tr style=\"text-align: right;\">\n",
              "      <th></th>\n",
              "      <th>Customer_Age</th>\n",
              "      <th>Dependent_count</th>\n",
              "      <th>Months_on_book</th>\n",
              "      <th>Total_Relationship_Count</th>\n",
              "      <th>Months_Inactive_12_mon</th>\n",
              "      <th>Contacts_Count_12_mon</th>\n",
              "      <th>Credit_Limit</th>\n",
              "      <th>Total_Revolving_Bal</th>\n",
              "      <th>Avg_Open_To_Buy</th>\n",
              "      <th>Total_Amt_Chng_Q4_Q1</th>\n",
              "      <th>Total_Trans_Amt</th>\n",
              "      <th>Total_Trans_Ct</th>\n",
              "      <th>Total_Ct_Chng_Q4_Q1</th>\n",
              "      <th>Avg_Utilization_Ratio</th>\n",
              "    </tr>\n",
              "  </thead>\n",
              "  <tbody>\n",
              "    <tr>\n",
              "      <th>Customer_Age</th>\n",
              "      <td>True</td>\n",
              "      <td>False</td>\n",
              "      <td>True</td>\n",
              "      <td>False</td>\n",
              "      <td>False</td>\n",
              "      <td>False</td>\n",
              "      <td>False</td>\n",
              "      <td>False</td>\n",
              "      <td>False</td>\n",
              "      <td>False</td>\n",
              "      <td>False</td>\n",
              "      <td>False</td>\n",
              "      <td>False</td>\n",
              "      <td>False</td>\n",
              "    </tr>\n",
              "    <tr>\n",
              "      <th>Dependent_count</th>\n",
              "      <td>False</td>\n",
              "      <td>True</td>\n",
              "      <td>False</td>\n",
              "      <td>False</td>\n",
              "      <td>False</td>\n",
              "      <td>False</td>\n",
              "      <td>False</td>\n",
              "      <td>False</td>\n",
              "      <td>False</td>\n",
              "      <td>False</td>\n",
              "      <td>False</td>\n",
              "      <td>False</td>\n",
              "      <td>False</td>\n",
              "      <td>False</td>\n",
              "    </tr>\n",
              "    <tr>\n",
              "      <th>Months_on_book</th>\n",
              "      <td>True</td>\n",
              "      <td>False</td>\n",
              "      <td>True</td>\n",
              "      <td>False</td>\n",
              "      <td>False</td>\n",
              "      <td>False</td>\n",
              "      <td>False</td>\n",
              "      <td>False</td>\n",
              "      <td>False</td>\n",
              "      <td>False</td>\n",
              "      <td>False</td>\n",
              "      <td>False</td>\n",
              "      <td>False</td>\n",
              "      <td>False</td>\n",
              "    </tr>\n",
              "    <tr>\n",
              "      <th>Total_Relationship_Count</th>\n",
              "      <td>False</td>\n",
              "      <td>False</td>\n",
              "      <td>False</td>\n",
              "      <td>True</td>\n",
              "      <td>False</td>\n",
              "      <td>False</td>\n",
              "      <td>False</td>\n",
              "      <td>False</td>\n",
              "      <td>False</td>\n",
              "      <td>False</td>\n",
              "      <td>False</td>\n",
              "      <td>False</td>\n",
              "      <td>False</td>\n",
              "      <td>False</td>\n",
              "    </tr>\n",
              "    <tr>\n",
              "      <th>Months_Inactive_12_mon</th>\n",
              "      <td>False</td>\n",
              "      <td>False</td>\n",
              "      <td>False</td>\n",
              "      <td>False</td>\n",
              "      <td>True</td>\n",
              "      <td>False</td>\n",
              "      <td>False</td>\n",
              "      <td>False</td>\n",
              "      <td>False</td>\n",
              "      <td>False</td>\n",
              "      <td>False</td>\n",
              "      <td>False</td>\n",
              "      <td>False</td>\n",
              "      <td>False</td>\n",
              "    </tr>\n",
              "    <tr>\n",
              "      <th>Contacts_Count_12_mon</th>\n",
              "      <td>False</td>\n",
              "      <td>False</td>\n",
              "      <td>False</td>\n",
              "      <td>False</td>\n",
              "      <td>False</td>\n",
              "      <td>True</td>\n",
              "      <td>False</td>\n",
              "      <td>False</td>\n",
              "      <td>False</td>\n",
              "      <td>False</td>\n",
              "      <td>False</td>\n",
              "      <td>False</td>\n",
              "      <td>False</td>\n",
              "      <td>False</td>\n",
              "    </tr>\n",
              "    <tr>\n",
              "      <th>Credit_Limit</th>\n",
              "      <td>False</td>\n",
              "      <td>False</td>\n",
              "      <td>False</td>\n",
              "      <td>False</td>\n",
              "      <td>False</td>\n",
              "      <td>False</td>\n",
              "      <td>True</td>\n",
              "      <td>False</td>\n",
              "      <td>True</td>\n",
              "      <td>False</td>\n",
              "      <td>False</td>\n",
              "      <td>False</td>\n",
              "      <td>False</td>\n",
              "      <td>False</td>\n",
              "    </tr>\n",
              "    <tr>\n",
              "      <th>Total_Revolving_Bal</th>\n",
              "      <td>False</td>\n",
              "      <td>False</td>\n",
              "      <td>False</td>\n",
              "      <td>False</td>\n",
              "      <td>False</td>\n",
              "      <td>False</td>\n",
              "      <td>False</td>\n",
              "      <td>True</td>\n",
              "      <td>False</td>\n",
              "      <td>False</td>\n",
              "      <td>False</td>\n",
              "      <td>False</td>\n",
              "      <td>False</td>\n",
              "      <td>True</td>\n",
              "    </tr>\n",
              "    <tr>\n",
              "      <th>Avg_Open_To_Buy</th>\n",
              "      <td>False</td>\n",
              "      <td>False</td>\n",
              "      <td>False</td>\n",
              "      <td>False</td>\n",
              "      <td>False</td>\n",
              "      <td>False</td>\n",
              "      <td>True</td>\n",
              "      <td>False</td>\n",
              "      <td>True</td>\n",
              "      <td>False</td>\n",
              "      <td>False</td>\n",
              "      <td>False</td>\n",
              "      <td>False</td>\n",
              "      <td>False</td>\n",
              "    </tr>\n",
              "    <tr>\n",
              "      <th>Total_Amt_Chng_Q4_Q1</th>\n",
              "      <td>False</td>\n",
              "      <td>False</td>\n",
              "      <td>False</td>\n",
              "      <td>False</td>\n",
              "      <td>False</td>\n",
              "      <td>False</td>\n",
              "      <td>False</td>\n",
              "      <td>False</td>\n",
              "      <td>False</td>\n",
              "      <td>True</td>\n",
              "      <td>False</td>\n",
              "      <td>False</td>\n",
              "      <td>False</td>\n",
              "      <td>False</td>\n",
              "    </tr>\n",
              "    <tr>\n",
              "      <th>Total_Trans_Amt</th>\n",
              "      <td>False</td>\n",
              "      <td>False</td>\n",
              "      <td>False</td>\n",
              "      <td>False</td>\n",
              "      <td>False</td>\n",
              "      <td>False</td>\n",
              "      <td>False</td>\n",
              "      <td>False</td>\n",
              "      <td>False</td>\n",
              "      <td>False</td>\n",
              "      <td>True</td>\n",
              "      <td>True</td>\n",
              "      <td>False</td>\n",
              "      <td>False</td>\n",
              "    </tr>\n",
              "    <tr>\n",
              "      <th>Total_Trans_Ct</th>\n",
              "      <td>False</td>\n",
              "      <td>False</td>\n",
              "      <td>False</td>\n",
              "      <td>False</td>\n",
              "      <td>False</td>\n",
              "      <td>False</td>\n",
              "      <td>False</td>\n",
              "      <td>False</td>\n",
              "      <td>False</td>\n",
              "      <td>False</td>\n",
              "      <td>True</td>\n",
              "      <td>True</td>\n",
              "      <td>False</td>\n",
              "      <td>False</td>\n",
              "    </tr>\n",
              "    <tr>\n",
              "      <th>Total_Ct_Chng_Q4_Q1</th>\n",
              "      <td>False</td>\n",
              "      <td>False</td>\n",
              "      <td>False</td>\n",
              "      <td>False</td>\n",
              "      <td>False</td>\n",
              "      <td>False</td>\n",
              "      <td>False</td>\n",
              "      <td>False</td>\n",
              "      <td>False</td>\n",
              "      <td>False</td>\n",
              "      <td>False</td>\n",
              "      <td>False</td>\n",
              "      <td>True</td>\n",
              "      <td>False</td>\n",
              "    </tr>\n",
              "    <tr>\n",
              "      <th>Avg_Utilization_Ratio</th>\n",
              "      <td>False</td>\n",
              "      <td>False</td>\n",
              "      <td>False</td>\n",
              "      <td>False</td>\n",
              "      <td>False</td>\n",
              "      <td>False</td>\n",
              "      <td>False</td>\n",
              "      <td>True</td>\n",
              "      <td>False</td>\n",
              "      <td>False</td>\n",
              "      <td>False</td>\n",
              "      <td>False</td>\n",
              "      <td>False</td>\n",
              "      <td>True</td>\n",
              "    </tr>\n",
              "  </tbody>\n",
              "</table>\n",
              "</div>"
            ],
            "text/plain": [
              "                          Customer_Age  ...  Avg_Utilization_Ratio\n",
              "Customer_Age                      True  ...                  False\n",
              "Dependent_count                  False  ...                  False\n",
              "Months_on_book                    True  ...                  False\n",
              "Total_Relationship_Count         False  ...                  False\n",
              "Months_Inactive_12_mon           False  ...                  False\n",
              "Contacts_Count_12_mon            False  ...                  False\n",
              "Credit_Limit                     False  ...                  False\n",
              "Total_Revolving_Bal              False  ...                   True\n",
              "Avg_Open_To_Buy                  False  ...                  False\n",
              "Total_Amt_Chng_Q4_Q1             False  ...                  False\n",
              "Total_Trans_Amt                  False  ...                  False\n",
              "Total_Trans_Ct                   False  ...                  False\n",
              "Total_Ct_Chng_Q4_Q1              False  ...                  False\n",
              "Avg_Utilization_Ratio            False  ...                   True\n",
              "\n",
              "[14 rows x 14 columns]"
            ]
          },
          "metadata": {
            "tags": []
          },
          "execution_count": 92
        }
      ]
    },
    {
      "cell_type": "code",
      "metadata": {
        "id": "Yyg1X3Oo9WQw",
        "colab": {
          "base_uri": "https://localhost:8080/"
        },
        "outputId": "4965dcbe-9c07-476f-e9fc-d1f9e257aa98"
      },
      "source": [
        "corr_mat.where(np.triu(corr_mat > 0.4, k=1)).stack().sort_values(ascending=False)"
      ],
      "execution_count": 93,
      "outputs": [
        {
          "output_type": "execute_result",
          "data": {
            "text/plain": [
              "Credit_Limit         Avg_Open_To_Buy          0.995981\n",
              "Total_Trans_Amt      Total_Trans_Ct           0.807192\n",
              "Customer_Age         Months_on_book           0.788912\n",
              "Total_Revolving_Bal  Avg_Utilization_Ratio    0.624022\n",
              "dtype: float64"
            ]
          },
          "metadata": {
            "tags": []
          },
          "execution_count": 93
        }
      ]
    },
    {
      "cell_type": "markdown",
      "metadata": {
        "id": "7SJ2pUTn9Yie"
      },
      "source": [
        "Заметим, что максимальный коэффициент корреляции достигается между признаки, отвечающими за:\n",
        "*   кредитный лимит и среднюю стоимость покупки\n",
        "*   общую сумму транзакций и кол-во транзакций (за последние 12 месяцев)\n",
        "*   возраст клиента и длительность его отношений с банком\n",
        "*   общий возобновляемый остаток на кредитной карте и средний коэф-т использования карты\n",
        "\n",
        "Остальные признаки почти не коррелируют между собой."
      ]
    },
    {
      "cell_type": "markdown",
      "metadata": {
        "id": "xucC7tKI9eK9"
      },
      "source": [
        "##3. Обработка пропущенных значений"
      ]
    },
    {
      "cell_type": "code",
      "metadata": {
        "id": "XgDCoSc79Xw0",
        "colab": {
          "base_uri": "https://localhost:8080/"
        },
        "outputId": "1cd97635-4728-4573-aa6f-a52c36844fe3"
      },
      "source": [
        "df.isna().sum()"
      ],
      "execution_count": 94,
      "outputs": [
        {
          "output_type": "execute_result",
          "data": {
            "text/plain": [
              "Customer_Age                0\n",
              "Gender                      0\n",
              "Dependent_count             0\n",
              "Education_Level             0\n",
              "Marital_Status              0\n",
              "Income_Category             0\n",
              "Card_Category               0\n",
              "Months_on_book              0\n",
              "Total_Relationship_Count    0\n",
              "Months_Inactive_12_mon      0\n",
              "Contacts_Count_12_mon       0\n",
              "Credit_Limit                0\n",
              "Total_Revolving_Bal         0\n",
              "Avg_Open_To_Buy             0\n",
              "Total_Amt_Chng_Q4_Q1        0\n",
              "Total_Trans_Amt             0\n",
              "Total_Trans_Ct              0\n",
              "Total_Ct_Chng_Q4_Q1         0\n",
              "Avg_Utilization_Ratio       0\n",
              "Attrition_Flag              0\n",
              "dtype: int64"
            ]
          },
          "metadata": {
            "tags": []
          },
          "execution_count": 94
        }
      ]
    },
    {
      "cell_type": "markdown",
      "metadata": {
        "id": "AfeRJr2kAN4R"
      },
      "source": [
        "Заметим, что пропущенных значений NaN не имеется. Но в некоторых ячейках лежит строка 'Unknown', которая может быть интерпретирована нами, как пропущенное значение. \n",
        "Конвертируем все 'Unknown' в NaN."
      ]
    },
    {
      "cell_type": "code",
      "metadata": {
        "id": "LA5jNbC0AXDM"
      },
      "source": [
        "for i in range(0, df.shape[0]):\n",
        "        for j in range(0, df.shape[1]):\n",
        "            if df.iloc[i,j] == 'Unknown':\n",
        "                df.iloc[i, j] = np.nan"
      ],
      "execution_count": 105,
      "outputs": []
    },
    {
      "cell_type": "code",
      "metadata": {
        "colab": {
          "base_uri": "https://localhost:8080/"
        },
        "id": "h0fiG1aRC6tw",
        "outputId": "e87d85e2-ce3d-46b2-91e4-b857ce1d4abc"
      },
      "source": [
        "df.isna().sum()"
      ],
      "execution_count": 106,
      "outputs": [
        {
          "output_type": "execute_result",
          "data": {
            "text/plain": [
              "Customer_Age                   0\n",
              "Gender                         0\n",
              "Dependent_count                0\n",
              "Education_Level             1519\n",
              "Marital_Status               749\n",
              "Income_Category             1112\n",
              "Card_Category                  0\n",
              "Months_on_book                 0\n",
              "Total_Relationship_Count       0\n",
              "Months_Inactive_12_mon         0\n",
              "Contacts_Count_12_mon          0\n",
              "Credit_Limit                   0\n",
              "Total_Revolving_Bal            0\n",
              "Avg_Open_To_Buy                0\n",
              "Total_Amt_Chng_Q4_Q1           0\n",
              "Total_Trans_Amt                0\n",
              "Total_Trans_Ct                 0\n",
              "Total_Ct_Chng_Q4_Q1            0\n",
              "Avg_Utilization_Ratio          0\n",
              "Attrition_Flag                 0\n",
              "dtype: int64"
            ]
          },
          "metadata": {
            "tags": []
          },
          "execution_count": 106
        }
      ]
    },
    {
      "cell_type": "markdown",
      "metadata": {
        "id": "sNX5b8409oFt"
      },
      "source": [
        "Все пропущенные значения находятся в столбцах, соответствующих категориальным признакам. Заполним их модой."
      ]
    },
    {
      "cell_type": "code",
      "metadata": {
        "id": "jg3M6f3E9mDt"
      },
      "source": [
        "df['Education_Level'].fillna(df['Education_Level'].mode().iloc[0], inplace=True)\n",
        "df['Marital_Status'].fillna(df['Marital_Status'].mode().iloc[0], inplace=True)\n",
        "df['Income_Category'].fillna(df['Income_Category'].mode().iloc[0], inplace=True)"
      ],
      "execution_count": 108,
      "outputs": []
    },
    {
      "cell_type": "code",
      "metadata": {
        "id": "AN3S4Rzz9p3p",
        "colab": {
          "base_uri": "https://localhost:8080/"
        },
        "outputId": "6f90337d-7fb3-4992-9914-b13cf737099d"
      },
      "source": [
        "df.isna().sum()"
      ],
      "execution_count": 109,
      "outputs": [
        {
          "output_type": "execute_result",
          "data": {
            "text/plain": [
              "Customer_Age                0\n",
              "Gender                      0\n",
              "Dependent_count             0\n",
              "Education_Level             0\n",
              "Marital_Status              0\n",
              "Income_Category             0\n",
              "Card_Category               0\n",
              "Months_on_book              0\n",
              "Total_Relationship_Count    0\n",
              "Months_Inactive_12_mon      0\n",
              "Contacts_Count_12_mon       0\n",
              "Credit_Limit                0\n",
              "Total_Revolving_Bal         0\n",
              "Avg_Open_To_Buy             0\n",
              "Total_Amt_Chng_Q4_Q1        0\n",
              "Total_Trans_Amt             0\n",
              "Total_Trans_Ct              0\n",
              "Total_Ct_Chng_Q4_Q1         0\n",
              "Avg_Utilization_Ratio       0\n",
              "Attrition_Flag              0\n",
              "dtype: int64"
            ]
          },
          "metadata": {
            "tags": []
          },
          "execution_count": 109
        }
      ]
    },
    {
      "cell_type": "code",
      "metadata": {
        "id": "KmeU6OU39q-V",
        "colab": {
          "base_uri": "https://localhost:8080/",
          "height": 410
        },
        "outputId": "437cc108-bfa7-4b60-f978-b7cc9b8072bb"
      },
      "source": [
        "df.describe(include = 'all')"
      ],
      "execution_count": 110,
      "outputs": [
        {
          "output_type": "execute_result",
          "data": {
            "text/html": [
              "<div>\n",
              "<style scoped>\n",
              "    .dataframe tbody tr th:only-of-type {\n",
              "        vertical-align: middle;\n",
              "    }\n",
              "\n",
              "    .dataframe tbody tr th {\n",
              "        vertical-align: top;\n",
              "    }\n",
              "\n",
              "    .dataframe thead th {\n",
              "        text-align: right;\n",
              "    }\n",
              "</style>\n",
              "<table border=\"1\" class=\"dataframe\">\n",
              "  <thead>\n",
              "    <tr style=\"text-align: right;\">\n",
              "      <th></th>\n",
              "      <th>Customer_Age</th>\n",
              "      <th>Gender</th>\n",
              "      <th>Dependent_count</th>\n",
              "      <th>Education_Level</th>\n",
              "      <th>Marital_Status</th>\n",
              "      <th>Income_Category</th>\n",
              "      <th>Card_Category</th>\n",
              "      <th>Months_on_book</th>\n",
              "      <th>Total_Relationship_Count</th>\n",
              "      <th>Months_Inactive_12_mon</th>\n",
              "      <th>Contacts_Count_12_mon</th>\n",
              "      <th>Credit_Limit</th>\n",
              "      <th>Total_Revolving_Bal</th>\n",
              "      <th>Avg_Open_To_Buy</th>\n",
              "      <th>Total_Amt_Chng_Q4_Q1</th>\n",
              "      <th>Total_Trans_Amt</th>\n",
              "      <th>Total_Trans_Ct</th>\n",
              "      <th>Total_Ct_Chng_Q4_Q1</th>\n",
              "      <th>Avg_Utilization_Ratio</th>\n",
              "      <th>Attrition_Flag</th>\n",
              "    </tr>\n",
              "  </thead>\n",
              "  <tbody>\n",
              "    <tr>\n",
              "      <th>count</th>\n",
              "      <td>10127.000000</td>\n",
              "      <td>10127</td>\n",
              "      <td>10127.000000</td>\n",
              "      <td>10127</td>\n",
              "      <td>10127</td>\n",
              "      <td>10127</td>\n",
              "      <td>10127</td>\n",
              "      <td>10127.000000</td>\n",
              "      <td>10127.000000</td>\n",
              "      <td>10127.000000</td>\n",
              "      <td>10127.000000</td>\n",
              "      <td>10127.000000</td>\n",
              "      <td>10127.000000</td>\n",
              "      <td>10127.000000</td>\n",
              "      <td>10127.000000</td>\n",
              "      <td>10127.000000</td>\n",
              "      <td>10127.000000</td>\n",
              "      <td>10127.000000</td>\n",
              "      <td>10127.000000</td>\n",
              "      <td>10127</td>\n",
              "    </tr>\n",
              "    <tr>\n",
              "      <th>unique</th>\n",
              "      <td>NaN</td>\n",
              "      <td>2</td>\n",
              "      <td>NaN</td>\n",
              "      <td>6</td>\n",
              "      <td>3</td>\n",
              "      <td>5</td>\n",
              "      <td>4</td>\n",
              "      <td>NaN</td>\n",
              "      <td>NaN</td>\n",
              "      <td>NaN</td>\n",
              "      <td>NaN</td>\n",
              "      <td>NaN</td>\n",
              "      <td>NaN</td>\n",
              "      <td>NaN</td>\n",
              "      <td>NaN</td>\n",
              "      <td>NaN</td>\n",
              "      <td>NaN</td>\n",
              "      <td>NaN</td>\n",
              "      <td>NaN</td>\n",
              "      <td>2</td>\n",
              "    </tr>\n",
              "    <tr>\n",
              "      <th>top</th>\n",
              "      <td>NaN</td>\n",
              "      <td>F</td>\n",
              "      <td>NaN</td>\n",
              "      <td>Graduate</td>\n",
              "      <td>Married</td>\n",
              "      <td>Less than $40K</td>\n",
              "      <td>Blue</td>\n",
              "      <td>NaN</td>\n",
              "      <td>NaN</td>\n",
              "      <td>NaN</td>\n",
              "      <td>NaN</td>\n",
              "      <td>NaN</td>\n",
              "      <td>NaN</td>\n",
              "      <td>NaN</td>\n",
              "      <td>NaN</td>\n",
              "      <td>NaN</td>\n",
              "      <td>NaN</td>\n",
              "      <td>NaN</td>\n",
              "      <td>NaN</td>\n",
              "      <td>Existing Customer</td>\n",
              "    </tr>\n",
              "    <tr>\n",
              "      <th>freq</th>\n",
              "      <td>NaN</td>\n",
              "      <td>5358</td>\n",
              "      <td>NaN</td>\n",
              "      <td>4647</td>\n",
              "      <td>5436</td>\n",
              "      <td>4673</td>\n",
              "      <td>9436</td>\n",
              "      <td>NaN</td>\n",
              "      <td>NaN</td>\n",
              "      <td>NaN</td>\n",
              "      <td>NaN</td>\n",
              "      <td>NaN</td>\n",
              "      <td>NaN</td>\n",
              "      <td>NaN</td>\n",
              "      <td>NaN</td>\n",
              "      <td>NaN</td>\n",
              "      <td>NaN</td>\n",
              "      <td>NaN</td>\n",
              "      <td>NaN</td>\n",
              "      <td>8500</td>\n",
              "    </tr>\n",
              "    <tr>\n",
              "      <th>mean</th>\n",
              "      <td>46.325960</td>\n",
              "      <td>NaN</td>\n",
              "      <td>2.346203</td>\n",
              "      <td>NaN</td>\n",
              "      <td>NaN</td>\n",
              "      <td>NaN</td>\n",
              "      <td>NaN</td>\n",
              "      <td>35.928409</td>\n",
              "      <td>3.812580</td>\n",
              "      <td>2.341167</td>\n",
              "      <td>2.455317</td>\n",
              "      <td>8631.953698</td>\n",
              "      <td>1162.814061</td>\n",
              "      <td>7469.139637</td>\n",
              "      <td>0.759941</td>\n",
              "      <td>4404.086304</td>\n",
              "      <td>64.858695</td>\n",
              "      <td>0.712222</td>\n",
              "      <td>0.274894</td>\n",
              "      <td>NaN</td>\n",
              "    </tr>\n",
              "    <tr>\n",
              "      <th>std</th>\n",
              "      <td>8.016814</td>\n",
              "      <td>NaN</td>\n",
              "      <td>1.298908</td>\n",
              "      <td>NaN</td>\n",
              "      <td>NaN</td>\n",
              "      <td>NaN</td>\n",
              "      <td>NaN</td>\n",
              "      <td>7.986416</td>\n",
              "      <td>1.554408</td>\n",
              "      <td>1.010622</td>\n",
              "      <td>1.106225</td>\n",
              "      <td>9088.776650</td>\n",
              "      <td>814.987335</td>\n",
              "      <td>9090.685324</td>\n",
              "      <td>0.219207</td>\n",
              "      <td>3397.129254</td>\n",
              "      <td>23.472570</td>\n",
              "      <td>0.238086</td>\n",
              "      <td>0.275691</td>\n",
              "      <td>NaN</td>\n",
              "    </tr>\n",
              "    <tr>\n",
              "      <th>min</th>\n",
              "      <td>26.000000</td>\n",
              "      <td>NaN</td>\n",
              "      <td>0.000000</td>\n",
              "      <td>NaN</td>\n",
              "      <td>NaN</td>\n",
              "      <td>NaN</td>\n",
              "      <td>NaN</td>\n",
              "      <td>13.000000</td>\n",
              "      <td>1.000000</td>\n",
              "      <td>0.000000</td>\n",
              "      <td>0.000000</td>\n",
              "      <td>1438.300000</td>\n",
              "      <td>0.000000</td>\n",
              "      <td>3.000000</td>\n",
              "      <td>0.000000</td>\n",
              "      <td>510.000000</td>\n",
              "      <td>10.000000</td>\n",
              "      <td>0.000000</td>\n",
              "      <td>0.000000</td>\n",
              "      <td>NaN</td>\n",
              "    </tr>\n",
              "    <tr>\n",
              "      <th>25%</th>\n",
              "      <td>41.000000</td>\n",
              "      <td>NaN</td>\n",
              "      <td>1.000000</td>\n",
              "      <td>NaN</td>\n",
              "      <td>NaN</td>\n",
              "      <td>NaN</td>\n",
              "      <td>NaN</td>\n",
              "      <td>31.000000</td>\n",
              "      <td>3.000000</td>\n",
              "      <td>2.000000</td>\n",
              "      <td>2.000000</td>\n",
              "      <td>2555.000000</td>\n",
              "      <td>359.000000</td>\n",
              "      <td>1324.500000</td>\n",
              "      <td>0.631000</td>\n",
              "      <td>2155.500000</td>\n",
              "      <td>45.000000</td>\n",
              "      <td>0.582000</td>\n",
              "      <td>0.023000</td>\n",
              "      <td>NaN</td>\n",
              "    </tr>\n",
              "    <tr>\n",
              "      <th>50%</th>\n",
              "      <td>46.000000</td>\n",
              "      <td>NaN</td>\n",
              "      <td>2.000000</td>\n",
              "      <td>NaN</td>\n",
              "      <td>NaN</td>\n",
              "      <td>NaN</td>\n",
              "      <td>NaN</td>\n",
              "      <td>36.000000</td>\n",
              "      <td>4.000000</td>\n",
              "      <td>2.000000</td>\n",
              "      <td>2.000000</td>\n",
              "      <td>4549.000000</td>\n",
              "      <td>1276.000000</td>\n",
              "      <td>3474.000000</td>\n",
              "      <td>0.736000</td>\n",
              "      <td>3899.000000</td>\n",
              "      <td>67.000000</td>\n",
              "      <td>0.702000</td>\n",
              "      <td>0.176000</td>\n",
              "      <td>NaN</td>\n",
              "    </tr>\n",
              "    <tr>\n",
              "      <th>75%</th>\n",
              "      <td>52.000000</td>\n",
              "      <td>NaN</td>\n",
              "      <td>3.000000</td>\n",
              "      <td>NaN</td>\n",
              "      <td>NaN</td>\n",
              "      <td>NaN</td>\n",
              "      <td>NaN</td>\n",
              "      <td>40.000000</td>\n",
              "      <td>5.000000</td>\n",
              "      <td>3.000000</td>\n",
              "      <td>3.000000</td>\n",
              "      <td>11067.500000</td>\n",
              "      <td>1784.000000</td>\n",
              "      <td>9859.000000</td>\n",
              "      <td>0.859000</td>\n",
              "      <td>4741.000000</td>\n",
              "      <td>81.000000</td>\n",
              "      <td>0.818000</td>\n",
              "      <td>0.503000</td>\n",
              "      <td>NaN</td>\n",
              "    </tr>\n",
              "    <tr>\n",
              "      <th>max</th>\n",
              "      <td>73.000000</td>\n",
              "      <td>NaN</td>\n",
              "      <td>5.000000</td>\n",
              "      <td>NaN</td>\n",
              "      <td>NaN</td>\n",
              "      <td>NaN</td>\n",
              "      <td>NaN</td>\n",
              "      <td>56.000000</td>\n",
              "      <td>6.000000</td>\n",
              "      <td>6.000000</td>\n",
              "      <td>6.000000</td>\n",
              "      <td>34516.000000</td>\n",
              "      <td>2517.000000</td>\n",
              "      <td>34516.000000</td>\n",
              "      <td>3.397000</td>\n",
              "      <td>18484.000000</td>\n",
              "      <td>139.000000</td>\n",
              "      <td>3.714000</td>\n",
              "      <td>0.999000</td>\n",
              "      <td>NaN</td>\n",
              "    </tr>\n",
              "  </tbody>\n",
              "</table>\n",
              "</div>"
            ],
            "text/plain": [
              "        Customer_Age Gender  ...  Avg_Utilization_Ratio     Attrition_Flag\n",
              "count   10127.000000  10127  ...           10127.000000              10127\n",
              "unique           NaN      2  ...                    NaN                  2\n",
              "top              NaN      F  ...                    NaN  Existing Customer\n",
              "freq             NaN   5358  ...                    NaN               8500\n",
              "mean       46.325960    NaN  ...               0.274894                NaN\n",
              "std         8.016814    NaN  ...               0.275691                NaN\n",
              "min        26.000000    NaN  ...               0.000000                NaN\n",
              "25%        41.000000    NaN  ...               0.023000                NaN\n",
              "50%        46.000000    NaN  ...               0.176000                NaN\n",
              "75%        52.000000    NaN  ...               0.503000                NaN\n",
              "max        73.000000    NaN  ...               0.999000                NaN\n",
              "\n",
              "[11 rows x 20 columns]"
            ]
          },
          "metadata": {
            "tags": []
          },
          "execution_count": 110
        }
      ]
    },
    {
      "cell_type": "markdown",
      "metadata": {
        "id": "Z027jMvl9uwx"
      },
      "source": [
        "##4. Обработка категориальных признаков"
      ]
    },
    {
      "cell_type": "markdown",
      "metadata": {
        "id": "dN3ZuxTt9xQD"
      },
      "source": [
        "Нужно что-то сделать с категориальными (номинальными) признаками"
      ]
    },
    {
      "cell_type": "code",
      "metadata": {
        "id": "hNgxX5s39s7a"
      },
      "source": [
        "Prediction = df['Attrition_Flag']\n",
        "df = df.drop('Attrition_Flag', axis = 1)"
      ],
      "execution_count": 111,
      "outputs": []
    },
    {
      "cell_type": "code",
      "metadata": {
        "id": "GqaPGIjR9yvG",
        "colab": {
          "base_uri": "https://localhost:8080/"
        },
        "outputId": "7217ccbf-b042-4f94-c1c1-d0e8e0daa6e9"
      },
      "source": [
        "categorical_columns = [c for c in df.columns if df[c].dtype.name == 'object']\n",
        "numerical_columns   = [c for c in df.columns if df[c].dtype.name != 'object']\n",
        "print(categorical_columns)\n",
        "print(numerical_columns)"
      ],
      "execution_count": 112,
      "outputs": [
        {
          "output_type": "stream",
          "text": [
            "['Gender', 'Education_Level', 'Marital_Status', 'Income_Category', 'Card_Category']\n",
            "['Customer_Age', 'Dependent_count', 'Months_on_book', 'Total_Relationship_Count', 'Months_Inactive_12_mon', 'Contacts_Count_12_mon', 'Credit_Limit', 'Total_Revolving_Bal', 'Avg_Open_To_Buy', 'Total_Amt_Chng_Q4_Q1', 'Total_Trans_Amt', 'Total_Trans_Ct', 'Total_Ct_Chng_Q4_Q1', 'Avg_Utilization_Ratio']\n"
          ],
          "name": "stdout"
        }
      ]
    },
    {
      "cell_type": "markdown",
      "metadata": {
        "id": "7mSmLidB92Nf"
      },
      "source": [
        "Отдельная таблица для количественных признаков:"
      ]
    },
    {
      "cell_type": "code",
      "metadata": {
        "id": "V1XcUvuE90A3",
        "colab": {
          "base_uri": "https://localhost:8080/",
          "height": 439
        },
        "outputId": "d64ab43a-9d00-486b-cc63-2ff8a18efb2f"
      },
      "source": [
        "data_num = df[numerical_columns]\n",
        "data_num"
      ],
      "execution_count": 113,
      "outputs": [
        {
          "output_type": "execute_result",
          "data": {
            "text/html": [
              "<div>\n",
              "<style scoped>\n",
              "    .dataframe tbody tr th:only-of-type {\n",
              "        vertical-align: middle;\n",
              "    }\n",
              "\n",
              "    .dataframe tbody tr th {\n",
              "        vertical-align: top;\n",
              "    }\n",
              "\n",
              "    .dataframe thead th {\n",
              "        text-align: right;\n",
              "    }\n",
              "</style>\n",
              "<table border=\"1\" class=\"dataframe\">\n",
              "  <thead>\n",
              "    <tr style=\"text-align: right;\">\n",
              "      <th></th>\n",
              "      <th>Customer_Age</th>\n",
              "      <th>Dependent_count</th>\n",
              "      <th>Months_on_book</th>\n",
              "      <th>Total_Relationship_Count</th>\n",
              "      <th>Months_Inactive_12_mon</th>\n",
              "      <th>Contacts_Count_12_mon</th>\n",
              "      <th>Credit_Limit</th>\n",
              "      <th>Total_Revolving_Bal</th>\n",
              "      <th>Avg_Open_To_Buy</th>\n",
              "      <th>Total_Amt_Chng_Q4_Q1</th>\n",
              "      <th>Total_Trans_Amt</th>\n",
              "      <th>Total_Trans_Ct</th>\n",
              "      <th>Total_Ct_Chng_Q4_Q1</th>\n",
              "      <th>Avg_Utilization_Ratio</th>\n",
              "    </tr>\n",
              "  </thead>\n",
              "  <tbody>\n",
              "    <tr>\n",
              "      <th>0</th>\n",
              "      <td>45</td>\n",
              "      <td>3</td>\n",
              "      <td>39</td>\n",
              "      <td>5</td>\n",
              "      <td>1</td>\n",
              "      <td>3</td>\n",
              "      <td>12691.0</td>\n",
              "      <td>777</td>\n",
              "      <td>11914.0</td>\n",
              "      <td>1.335</td>\n",
              "      <td>1144</td>\n",
              "      <td>42</td>\n",
              "      <td>1.625</td>\n",
              "      <td>0.061</td>\n",
              "    </tr>\n",
              "    <tr>\n",
              "      <th>1</th>\n",
              "      <td>49</td>\n",
              "      <td>5</td>\n",
              "      <td>44</td>\n",
              "      <td>6</td>\n",
              "      <td>1</td>\n",
              "      <td>2</td>\n",
              "      <td>8256.0</td>\n",
              "      <td>864</td>\n",
              "      <td>7392.0</td>\n",
              "      <td>1.541</td>\n",
              "      <td>1291</td>\n",
              "      <td>33</td>\n",
              "      <td>3.714</td>\n",
              "      <td>0.105</td>\n",
              "    </tr>\n",
              "    <tr>\n",
              "      <th>2</th>\n",
              "      <td>51</td>\n",
              "      <td>3</td>\n",
              "      <td>36</td>\n",
              "      <td>4</td>\n",
              "      <td>1</td>\n",
              "      <td>0</td>\n",
              "      <td>3418.0</td>\n",
              "      <td>0</td>\n",
              "      <td>3418.0</td>\n",
              "      <td>2.594</td>\n",
              "      <td>1887</td>\n",
              "      <td>20</td>\n",
              "      <td>2.333</td>\n",
              "      <td>0.000</td>\n",
              "    </tr>\n",
              "    <tr>\n",
              "      <th>3</th>\n",
              "      <td>40</td>\n",
              "      <td>4</td>\n",
              "      <td>34</td>\n",
              "      <td>3</td>\n",
              "      <td>4</td>\n",
              "      <td>1</td>\n",
              "      <td>3313.0</td>\n",
              "      <td>2517</td>\n",
              "      <td>796.0</td>\n",
              "      <td>1.405</td>\n",
              "      <td>1171</td>\n",
              "      <td>20</td>\n",
              "      <td>2.333</td>\n",
              "      <td>0.760</td>\n",
              "    </tr>\n",
              "    <tr>\n",
              "      <th>4</th>\n",
              "      <td>40</td>\n",
              "      <td>3</td>\n",
              "      <td>21</td>\n",
              "      <td>5</td>\n",
              "      <td>1</td>\n",
              "      <td>0</td>\n",
              "      <td>4716.0</td>\n",
              "      <td>0</td>\n",
              "      <td>4716.0</td>\n",
              "      <td>2.175</td>\n",
              "      <td>816</td>\n",
              "      <td>28</td>\n",
              "      <td>2.500</td>\n",
              "      <td>0.000</td>\n",
              "    </tr>\n",
              "    <tr>\n",
              "      <th>...</th>\n",
              "      <td>...</td>\n",
              "      <td>...</td>\n",
              "      <td>...</td>\n",
              "      <td>...</td>\n",
              "      <td>...</td>\n",
              "      <td>...</td>\n",
              "      <td>...</td>\n",
              "      <td>...</td>\n",
              "      <td>...</td>\n",
              "      <td>...</td>\n",
              "      <td>...</td>\n",
              "      <td>...</td>\n",
              "      <td>...</td>\n",
              "      <td>...</td>\n",
              "    </tr>\n",
              "    <tr>\n",
              "      <th>10122</th>\n",
              "      <td>50</td>\n",
              "      <td>2</td>\n",
              "      <td>40</td>\n",
              "      <td>3</td>\n",
              "      <td>2</td>\n",
              "      <td>3</td>\n",
              "      <td>4003.0</td>\n",
              "      <td>1851</td>\n",
              "      <td>2152.0</td>\n",
              "      <td>0.703</td>\n",
              "      <td>15476</td>\n",
              "      <td>117</td>\n",
              "      <td>0.857</td>\n",
              "      <td>0.462</td>\n",
              "    </tr>\n",
              "    <tr>\n",
              "      <th>10123</th>\n",
              "      <td>41</td>\n",
              "      <td>2</td>\n",
              "      <td>25</td>\n",
              "      <td>4</td>\n",
              "      <td>2</td>\n",
              "      <td>3</td>\n",
              "      <td>4277.0</td>\n",
              "      <td>2186</td>\n",
              "      <td>2091.0</td>\n",
              "      <td>0.804</td>\n",
              "      <td>8764</td>\n",
              "      <td>69</td>\n",
              "      <td>0.683</td>\n",
              "      <td>0.511</td>\n",
              "    </tr>\n",
              "    <tr>\n",
              "      <th>10124</th>\n",
              "      <td>44</td>\n",
              "      <td>1</td>\n",
              "      <td>36</td>\n",
              "      <td>5</td>\n",
              "      <td>3</td>\n",
              "      <td>4</td>\n",
              "      <td>5409.0</td>\n",
              "      <td>0</td>\n",
              "      <td>5409.0</td>\n",
              "      <td>0.819</td>\n",
              "      <td>10291</td>\n",
              "      <td>60</td>\n",
              "      <td>0.818</td>\n",
              "      <td>0.000</td>\n",
              "    </tr>\n",
              "    <tr>\n",
              "      <th>10125</th>\n",
              "      <td>30</td>\n",
              "      <td>2</td>\n",
              "      <td>36</td>\n",
              "      <td>4</td>\n",
              "      <td>3</td>\n",
              "      <td>3</td>\n",
              "      <td>5281.0</td>\n",
              "      <td>0</td>\n",
              "      <td>5281.0</td>\n",
              "      <td>0.535</td>\n",
              "      <td>8395</td>\n",
              "      <td>62</td>\n",
              "      <td>0.722</td>\n",
              "      <td>0.000</td>\n",
              "    </tr>\n",
              "    <tr>\n",
              "      <th>10126</th>\n",
              "      <td>43</td>\n",
              "      <td>2</td>\n",
              "      <td>25</td>\n",
              "      <td>6</td>\n",
              "      <td>2</td>\n",
              "      <td>4</td>\n",
              "      <td>10388.0</td>\n",
              "      <td>1961</td>\n",
              "      <td>8427.0</td>\n",
              "      <td>0.703</td>\n",
              "      <td>10294</td>\n",
              "      <td>61</td>\n",
              "      <td>0.649</td>\n",
              "      <td>0.189</td>\n",
              "    </tr>\n",
              "  </tbody>\n",
              "</table>\n",
              "<p>10127 rows × 14 columns</p>\n",
              "</div>"
            ],
            "text/plain": [
              "       Customer_Age  ...  Avg_Utilization_Ratio\n",
              "0                45  ...                  0.061\n",
              "1                49  ...                  0.105\n",
              "2                51  ...                  0.000\n",
              "3                40  ...                  0.760\n",
              "4                40  ...                  0.000\n",
              "...             ...  ...                    ...\n",
              "10122            50  ...                  0.462\n",
              "10123            41  ...                  0.511\n",
              "10124            44  ...                  0.000\n",
              "10125            30  ...                  0.000\n",
              "10126            43  ...                  0.189\n",
              "\n",
              "[10127 rows x 14 columns]"
            ]
          },
          "metadata": {
            "tags": []
          },
          "execution_count": 113
        }
      ]
    },
    {
      "cell_type": "markdown",
      "metadata": {
        "id": "mQn1uw6o95ei"
      },
      "source": [
        "Выделим бинарные и небинарные категориальные признаки:"
      ]
    },
    {
      "cell_type": "code",
      "metadata": {
        "id": "0rQTTFdJ93sB",
        "colab": {
          "base_uri": "https://localhost:8080/"
        },
        "outputId": "2c2b4c41-8784-42a6-82ae-c09b91d24aff"
      },
      "source": [
        "data_describe = df.describe(include = [object])\n",
        "for col in categorical_columns:\n",
        "    df[col] = df[col].fillna(data_describe[col]['top'])\n",
        "binary_columns    = [col for col in categorical_columns if data_describe[col]['unique'] == 2]\n",
        "nonbinary_columns = [col for col in categorical_columns if data_describe[col]['unique'] > 2]\n",
        "print(binary_columns)\n",
        "print(nonbinary_columns)"
      ],
      "execution_count": 114,
      "outputs": [
        {
          "output_type": "stream",
          "text": [
            "['Gender']\n",
            "['Education_Level', 'Marital_Status', 'Income_Category', 'Card_Category']\n"
          ],
          "name": "stdout"
        }
      ]
    },
    {
      "cell_type": "markdown",
      "metadata": {
        "id": "O8B9U98V974r"
      },
      "source": [
        "Бинарные признаки заменим на числовые:"
      ]
    },
    {
      "cell_type": "code",
      "metadata": {
        "id": "r0aDxnoT97Lq"
      },
      "source": [
        "for col in binary_columns:\n",
        "    df[col] = pd.factorize(df[col])[0]"
      ],
      "execution_count": 115,
      "outputs": []
    },
    {
      "cell_type": "markdown",
      "metadata": {
        "id": "pjvR-6t5-DZm"
      },
      "source": [
        "Отдельная таблица для бинарных признаков:"
      ]
    },
    {
      "cell_type": "code",
      "metadata": {
        "id": "xO-bgFIU9-Zl",
        "colab": {
          "base_uri": "https://localhost:8080/",
          "height": 419
        },
        "outputId": "6938c294-b703-403d-b57c-a597dc2a82cc"
      },
      "source": [
        "data_binary = df[binary_columns]\n",
        "data_binary"
      ],
      "execution_count": 116,
      "outputs": [
        {
          "output_type": "execute_result",
          "data": {
            "text/html": [
              "<div>\n",
              "<style scoped>\n",
              "    .dataframe tbody tr th:only-of-type {\n",
              "        vertical-align: middle;\n",
              "    }\n",
              "\n",
              "    .dataframe tbody tr th {\n",
              "        vertical-align: top;\n",
              "    }\n",
              "\n",
              "    .dataframe thead th {\n",
              "        text-align: right;\n",
              "    }\n",
              "</style>\n",
              "<table border=\"1\" class=\"dataframe\">\n",
              "  <thead>\n",
              "    <tr style=\"text-align: right;\">\n",
              "      <th></th>\n",
              "      <th>Gender</th>\n",
              "    </tr>\n",
              "  </thead>\n",
              "  <tbody>\n",
              "    <tr>\n",
              "      <th>0</th>\n",
              "      <td>0</td>\n",
              "    </tr>\n",
              "    <tr>\n",
              "      <th>1</th>\n",
              "      <td>1</td>\n",
              "    </tr>\n",
              "    <tr>\n",
              "      <th>2</th>\n",
              "      <td>0</td>\n",
              "    </tr>\n",
              "    <tr>\n",
              "      <th>3</th>\n",
              "      <td>1</td>\n",
              "    </tr>\n",
              "    <tr>\n",
              "      <th>4</th>\n",
              "      <td>0</td>\n",
              "    </tr>\n",
              "    <tr>\n",
              "      <th>...</th>\n",
              "      <td>...</td>\n",
              "    </tr>\n",
              "    <tr>\n",
              "      <th>10122</th>\n",
              "      <td>0</td>\n",
              "    </tr>\n",
              "    <tr>\n",
              "      <th>10123</th>\n",
              "      <td>0</td>\n",
              "    </tr>\n",
              "    <tr>\n",
              "      <th>10124</th>\n",
              "      <td>1</td>\n",
              "    </tr>\n",
              "    <tr>\n",
              "      <th>10125</th>\n",
              "      <td>0</td>\n",
              "    </tr>\n",
              "    <tr>\n",
              "      <th>10126</th>\n",
              "      <td>1</td>\n",
              "    </tr>\n",
              "  </tbody>\n",
              "</table>\n",
              "<p>10127 rows × 1 columns</p>\n",
              "</div>"
            ],
            "text/plain": [
              "       Gender\n",
              "0           0\n",
              "1           1\n",
              "2           0\n",
              "3           1\n",
              "4           0\n",
              "...       ...\n",
              "10122       0\n",
              "10123       0\n",
              "10124       1\n",
              "10125       0\n",
              "10126       1\n",
              "\n",
              "[10127 rows x 1 columns]"
            ]
          },
          "metadata": {
            "tags": []
          },
          "execution_count": 116
        }
      ]
    },
    {
      "cell_type": "markdown",
      "metadata": {
        "id": "oMm0NNDP-Hqx"
      },
      "source": [
        "К небинарными признакам применим метод векторизации, который заключается в следующем. Признак j, принимающий s значений, заменим на s признаков, принимащих значения 0 или 1, в зависимости от того, чему равно значение исходного признака j."
      ]
    },
    {
      "cell_type": "code",
      "metadata": {
        "id": "4Sf-PkL4-Fol",
        "colab": {
          "base_uri": "https://localhost:8080/"
        },
        "outputId": "a41f1739-593c-411d-b14b-9d7c1c553834"
      },
      "source": [
        "data_nonbinary = pd.get_dummies(df[nonbinary_columns])\n",
        "print(data_nonbinary.columns)"
      ],
      "execution_count": 117,
      "outputs": [
        {
          "output_type": "stream",
          "text": [
            "Index(['Education_Level_College', 'Education_Level_Doctorate',\n",
            "       'Education_Level_Graduate', 'Education_Level_High School',\n",
            "       'Education_Level_Post-Graduate', 'Education_Level_Uneducated',\n",
            "       'Marital_Status_Divorced', 'Marital_Status_Married',\n",
            "       'Marital_Status_Single', 'Income_Category_$120K +',\n",
            "       'Income_Category_$40K - $60K', 'Income_Category_$60K - $80K',\n",
            "       'Income_Category_$80K - $120K', 'Income_Category_Less than $40K',\n",
            "       'Card_Category_Blue', 'Card_Category_Gold', 'Card_Category_Platinum',\n",
            "       'Card_Category_Silver'],\n",
            "      dtype='object')\n"
          ],
          "name": "stdout"
        }
      ]
    },
    {
      "cell_type": "markdown",
      "metadata": {
        "id": "edvNIUsR-LQQ"
      },
      "source": [
        "Отдельная таблица для небинарных признаков:"
      ]
    },
    {
      "cell_type": "code",
      "metadata": {
        "id": "STAWjaUf-JUp",
        "colab": {
          "base_uri": "https://localhost:8080/",
          "height": 456
        },
        "outputId": "d7997670-77f4-4323-dfb4-158b866c62fd"
      },
      "source": [
        "data_nonbinary"
      ],
      "execution_count": 118,
      "outputs": [
        {
          "output_type": "execute_result",
          "data": {
            "text/html": [
              "<div>\n",
              "<style scoped>\n",
              "    .dataframe tbody tr th:only-of-type {\n",
              "        vertical-align: middle;\n",
              "    }\n",
              "\n",
              "    .dataframe tbody tr th {\n",
              "        vertical-align: top;\n",
              "    }\n",
              "\n",
              "    .dataframe thead th {\n",
              "        text-align: right;\n",
              "    }\n",
              "</style>\n",
              "<table border=\"1\" class=\"dataframe\">\n",
              "  <thead>\n",
              "    <tr style=\"text-align: right;\">\n",
              "      <th></th>\n",
              "      <th>Education_Level_College</th>\n",
              "      <th>Education_Level_Doctorate</th>\n",
              "      <th>Education_Level_Graduate</th>\n",
              "      <th>Education_Level_High School</th>\n",
              "      <th>Education_Level_Post-Graduate</th>\n",
              "      <th>Education_Level_Uneducated</th>\n",
              "      <th>Marital_Status_Divorced</th>\n",
              "      <th>Marital_Status_Married</th>\n",
              "      <th>Marital_Status_Single</th>\n",
              "      <th>Income_Category_$120K +</th>\n",
              "      <th>Income_Category_$40K - $60K</th>\n",
              "      <th>Income_Category_$60K - $80K</th>\n",
              "      <th>Income_Category_$80K - $120K</th>\n",
              "      <th>Income_Category_Less than $40K</th>\n",
              "      <th>Card_Category_Blue</th>\n",
              "      <th>Card_Category_Gold</th>\n",
              "      <th>Card_Category_Platinum</th>\n",
              "      <th>Card_Category_Silver</th>\n",
              "    </tr>\n",
              "  </thead>\n",
              "  <tbody>\n",
              "    <tr>\n",
              "      <th>0</th>\n",
              "      <td>0</td>\n",
              "      <td>0</td>\n",
              "      <td>0</td>\n",
              "      <td>1</td>\n",
              "      <td>0</td>\n",
              "      <td>0</td>\n",
              "      <td>0</td>\n",
              "      <td>1</td>\n",
              "      <td>0</td>\n",
              "      <td>0</td>\n",
              "      <td>0</td>\n",
              "      <td>1</td>\n",
              "      <td>0</td>\n",
              "      <td>0</td>\n",
              "      <td>1</td>\n",
              "      <td>0</td>\n",
              "      <td>0</td>\n",
              "      <td>0</td>\n",
              "    </tr>\n",
              "    <tr>\n",
              "      <th>1</th>\n",
              "      <td>0</td>\n",
              "      <td>0</td>\n",
              "      <td>1</td>\n",
              "      <td>0</td>\n",
              "      <td>0</td>\n",
              "      <td>0</td>\n",
              "      <td>0</td>\n",
              "      <td>0</td>\n",
              "      <td>1</td>\n",
              "      <td>0</td>\n",
              "      <td>0</td>\n",
              "      <td>0</td>\n",
              "      <td>0</td>\n",
              "      <td>1</td>\n",
              "      <td>1</td>\n",
              "      <td>0</td>\n",
              "      <td>0</td>\n",
              "      <td>0</td>\n",
              "    </tr>\n",
              "    <tr>\n",
              "      <th>2</th>\n",
              "      <td>0</td>\n",
              "      <td>0</td>\n",
              "      <td>1</td>\n",
              "      <td>0</td>\n",
              "      <td>0</td>\n",
              "      <td>0</td>\n",
              "      <td>0</td>\n",
              "      <td>1</td>\n",
              "      <td>0</td>\n",
              "      <td>0</td>\n",
              "      <td>0</td>\n",
              "      <td>0</td>\n",
              "      <td>1</td>\n",
              "      <td>0</td>\n",
              "      <td>1</td>\n",
              "      <td>0</td>\n",
              "      <td>0</td>\n",
              "      <td>0</td>\n",
              "    </tr>\n",
              "    <tr>\n",
              "      <th>3</th>\n",
              "      <td>0</td>\n",
              "      <td>0</td>\n",
              "      <td>0</td>\n",
              "      <td>1</td>\n",
              "      <td>0</td>\n",
              "      <td>0</td>\n",
              "      <td>0</td>\n",
              "      <td>1</td>\n",
              "      <td>0</td>\n",
              "      <td>0</td>\n",
              "      <td>0</td>\n",
              "      <td>0</td>\n",
              "      <td>0</td>\n",
              "      <td>1</td>\n",
              "      <td>1</td>\n",
              "      <td>0</td>\n",
              "      <td>0</td>\n",
              "      <td>0</td>\n",
              "    </tr>\n",
              "    <tr>\n",
              "      <th>4</th>\n",
              "      <td>0</td>\n",
              "      <td>0</td>\n",
              "      <td>0</td>\n",
              "      <td>0</td>\n",
              "      <td>0</td>\n",
              "      <td>1</td>\n",
              "      <td>0</td>\n",
              "      <td>1</td>\n",
              "      <td>0</td>\n",
              "      <td>0</td>\n",
              "      <td>0</td>\n",
              "      <td>1</td>\n",
              "      <td>0</td>\n",
              "      <td>0</td>\n",
              "      <td>1</td>\n",
              "      <td>0</td>\n",
              "      <td>0</td>\n",
              "      <td>0</td>\n",
              "    </tr>\n",
              "    <tr>\n",
              "      <th>...</th>\n",
              "      <td>...</td>\n",
              "      <td>...</td>\n",
              "      <td>...</td>\n",
              "      <td>...</td>\n",
              "      <td>...</td>\n",
              "      <td>...</td>\n",
              "      <td>...</td>\n",
              "      <td>...</td>\n",
              "      <td>...</td>\n",
              "      <td>...</td>\n",
              "      <td>...</td>\n",
              "      <td>...</td>\n",
              "      <td>...</td>\n",
              "      <td>...</td>\n",
              "      <td>...</td>\n",
              "      <td>...</td>\n",
              "      <td>...</td>\n",
              "      <td>...</td>\n",
              "    </tr>\n",
              "    <tr>\n",
              "      <th>10122</th>\n",
              "      <td>0</td>\n",
              "      <td>0</td>\n",
              "      <td>1</td>\n",
              "      <td>0</td>\n",
              "      <td>0</td>\n",
              "      <td>0</td>\n",
              "      <td>0</td>\n",
              "      <td>0</td>\n",
              "      <td>1</td>\n",
              "      <td>0</td>\n",
              "      <td>1</td>\n",
              "      <td>0</td>\n",
              "      <td>0</td>\n",
              "      <td>0</td>\n",
              "      <td>1</td>\n",
              "      <td>0</td>\n",
              "      <td>0</td>\n",
              "      <td>0</td>\n",
              "    </tr>\n",
              "    <tr>\n",
              "      <th>10123</th>\n",
              "      <td>0</td>\n",
              "      <td>0</td>\n",
              "      <td>1</td>\n",
              "      <td>0</td>\n",
              "      <td>0</td>\n",
              "      <td>0</td>\n",
              "      <td>1</td>\n",
              "      <td>0</td>\n",
              "      <td>0</td>\n",
              "      <td>0</td>\n",
              "      <td>1</td>\n",
              "      <td>0</td>\n",
              "      <td>0</td>\n",
              "      <td>0</td>\n",
              "      <td>1</td>\n",
              "      <td>0</td>\n",
              "      <td>0</td>\n",
              "      <td>0</td>\n",
              "    </tr>\n",
              "    <tr>\n",
              "      <th>10124</th>\n",
              "      <td>0</td>\n",
              "      <td>0</td>\n",
              "      <td>0</td>\n",
              "      <td>1</td>\n",
              "      <td>0</td>\n",
              "      <td>0</td>\n",
              "      <td>0</td>\n",
              "      <td>1</td>\n",
              "      <td>0</td>\n",
              "      <td>0</td>\n",
              "      <td>0</td>\n",
              "      <td>0</td>\n",
              "      <td>0</td>\n",
              "      <td>1</td>\n",
              "      <td>1</td>\n",
              "      <td>0</td>\n",
              "      <td>0</td>\n",
              "      <td>0</td>\n",
              "    </tr>\n",
              "    <tr>\n",
              "      <th>10125</th>\n",
              "      <td>0</td>\n",
              "      <td>0</td>\n",
              "      <td>1</td>\n",
              "      <td>0</td>\n",
              "      <td>0</td>\n",
              "      <td>0</td>\n",
              "      <td>0</td>\n",
              "      <td>1</td>\n",
              "      <td>0</td>\n",
              "      <td>0</td>\n",
              "      <td>1</td>\n",
              "      <td>0</td>\n",
              "      <td>0</td>\n",
              "      <td>0</td>\n",
              "      <td>1</td>\n",
              "      <td>0</td>\n",
              "      <td>0</td>\n",
              "      <td>0</td>\n",
              "    </tr>\n",
              "    <tr>\n",
              "      <th>10126</th>\n",
              "      <td>0</td>\n",
              "      <td>0</td>\n",
              "      <td>1</td>\n",
              "      <td>0</td>\n",
              "      <td>0</td>\n",
              "      <td>0</td>\n",
              "      <td>0</td>\n",
              "      <td>1</td>\n",
              "      <td>0</td>\n",
              "      <td>0</td>\n",
              "      <td>0</td>\n",
              "      <td>0</td>\n",
              "      <td>0</td>\n",
              "      <td>1</td>\n",
              "      <td>0</td>\n",
              "      <td>0</td>\n",
              "      <td>0</td>\n",
              "      <td>1</td>\n",
              "    </tr>\n",
              "  </tbody>\n",
              "</table>\n",
              "<p>10127 rows × 18 columns</p>\n",
              "</div>"
            ],
            "text/plain": [
              "       Education_Level_College  ...  Card_Category_Silver\n",
              "0                            0  ...                     0\n",
              "1                            0  ...                     0\n",
              "2                            0  ...                     0\n",
              "3                            0  ...                     0\n",
              "4                            0  ...                     0\n",
              "...                        ...  ...                   ...\n",
              "10122                        0  ...                     0\n",
              "10123                        0  ...                     0\n",
              "10124                        0  ...                     0\n",
              "10125                        0  ...                     0\n",
              "10126                        0  ...                     1\n",
              "\n",
              "[10127 rows x 18 columns]"
            ]
          },
          "metadata": {
            "tags": []
          },
          "execution_count": 118
        }
      ]
    },
    {
      "cell_type": "markdown",
      "metadata": {
        "id": "40u16MDD-PLu"
      },
      "source": [
        "##5. Нормализация"
      ]
    },
    {
      "cell_type": "markdown",
      "metadata": {
        "id": "2RusULWj-SFA"
      },
      "source": [
        "Перед применением алгоритмов машинного обучения количественные признаки полезно нормализовать.\n",
        "Выполним стандартизацию (линейное преобразование, приводящее все значения к нулевому среднему и единичному стандартному отклонению) всех признаков:"
      ]
    },
    {
      "cell_type": "code",
      "metadata": {
        "id": "YJ86lGL--M26",
        "colab": {
          "base_uri": "https://localhost:8080/",
          "height": 317
        },
        "outputId": "3c843666-db45-426a-fc68-05142ba645d7"
      },
      "source": [
        "data_numerical = df[numerical_columns]\n",
        "data_numerical.describe()"
      ],
      "execution_count": 119,
      "outputs": [
        {
          "output_type": "execute_result",
          "data": {
            "text/html": [
              "<div>\n",
              "<style scoped>\n",
              "    .dataframe tbody tr th:only-of-type {\n",
              "        vertical-align: middle;\n",
              "    }\n",
              "\n",
              "    .dataframe tbody tr th {\n",
              "        vertical-align: top;\n",
              "    }\n",
              "\n",
              "    .dataframe thead th {\n",
              "        text-align: right;\n",
              "    }\n",
              "</style>\n",
              "<table border=\"1\" class=\"dataframe\">\n",
              "  <thead>\n",
              "    <tr style=\"text-align: right;\">\n",
              "      <th></th>\n",
              "      <th>Customer_Age</th>\n",
              "      <th>Dependent_count</th>\n",
              "      <th>Months_on_book</th>\n",
              "      <th>Total_Relationship_Count</th>\n",
              "      <th>Months_Inactive_12_mon</th>\n",
              "      <th>Contacts_Count_12_mon</th>\n",
              "      <th>Credit_Limit</th>\n",
              "      <th>Total_Revolving_Bal</th>\n",
              "      <th>Avg_Open_To_Buy</th>\n",
              "      <th>Total_Amt_Chng_Q4_Q1</th>\n",
              "      <th>Total_Trans_Amt</th>\n",
              "      <th>Total_Trans_Ct</th>\n",
              "      <th>Total_Ct_Chng_Q4_Q1</th>\n",
              "      <th>Avg_Utilization_Ratio</th>\n",
              "    </tr>\n",
              "  </thead>\n",
              "  <tbody>\n",
              "    <tr>\n",
              "      <th>count</th>\n",
              "      <td>10127.000000</td>\n",
              "      <td>10127.000000</td>\n",
              "      <td>10127.000000</td>\n",
              "      <td>10127.000000</td>\n",
              "      <td>10127.000000</td>\n",
              "      <td>10127.000000</td>\n",
              "      <td>10127.000000</td>\n",
              "      <td>10127.000000</td>\n",
              "      <td>10127.000000</td>\n",
              "      <td>10127.000000</td>\n",
              "      <td>10127.000000</td>\n",
              "      <td>10127.000000</td>\n",
              "      <td>10127.000000</td>\n",
              "      <td>10127.000000</td>\n",
              "    </tr>\n",
              "    <tr>\n",
              "      <th>mean</th>\n",
              "      <td>46.325960</td>\n",
              "      <td>2.346203</td>\n",
              "      <td>35.928409</td>\n",
              "      <td>3.812580</td>\n",
              "      <td>2.341167</td>\n",
              "      <td>2.455317</td>\n",
              "      <td>8631.953698</td>\n",
              "      <td>1162.814061</td>\n",
              "      <td>7469.139637</td>\n",
              "      <td>0.759941</td>\n",
              "      <td>4404.086304</td>\n",
              "      <td>64.858695</td>\n",
              "      <td>0.712222</td>\n",
              "      <td>0.274894</td>\n",
              "    </tr>\n",
              "    <tr>\n",
              "      <th>std</th>\n",
              "      <td>8.016814</td>\n",
              "      <td>1.298908</td>\n",
              "      <td>7.986416</td>\n",
              "      <td>1.554408</td>\n",
              "      <td>1.010622</td>\n",
              "      <td>1.106225</td>\n",
              "      <td>9088.776650</td>\n",
              "      <td>814.987335</td>\n",
              "      <td>9090.685324</td>\n",
              "      <td>0.219207</td>\n",
              "      <td>3397.129254</td>\n",
              "      <td>23.472570</td>\n",
              "      <td>0.238086</td>\n",
              "      <td>0.275691</td>\n",
              "    </tr>\n",
              "    <tr>\n",
              "      <th>min</th>\n",
              "      <td>26.000000</td>\n",
              "      <td>0.000000</td>\n",
              "      <td>13.000000</td>\n",
              "      <td>1.000000</td>\n",
              "      <td>0.000000</td>\n",
              "      <td>0.000000</td>\n",
              "      <td>1438.300000</td>\n",
              "      <td>0.000000</td>\n",
              "      <td>3.000000</td>\n",
              "      <td>0.000000</td>\n",
              "      <td>510.000000</td>\n",
              "      <td>10.000000</td>\n",
              "      <td>0.000000</td>\n",
              "      <td>0.000000</td>\n",
              "    </tr>\n",
              "    <tr>\n",
              "      <th>25%</th>\n",
              "      <td>41.000000</td>\n",
              "      <td>1.000000</td>\n",
              "      <td>31.000000</td>\n",
              "      <td>3.000000</td>\n",
              "      <td>2.000000</td>\n",
              "      <td>2.000000</td>\n",
              "      <td>2555.000000</td>\n",
              "      <td>359.000000</td>\n",
              "      <td>1324.500000</td>\n",
              "      <td>0.631000</td>\n",
              "      <td>2155.500000</td>\n",
              "      <td>45.000000</td>\n",
              "      <td>0.582000</td>\n",
              "      <td>0.023000</td>\n",
              "    </tr>\n",
              "    <tr>\n",
              "      <th>50%</th>\n",
              "      <td>46.000000</td>\n",
              "      <td>2.000000</td>\n",
              "      <td>36.000000</td>\n",
              "      <td>4.000000</td>\n",
              "      <td>2.000000</td>\n",
              "      <td>2.000000</td>\n",
              "      <td>4549.000000</td>\n",
              "      <td>1276.000000</td>\n",
              "      <td>3474.000000</td>\n",
              "      <td>0.736000</td>\n",
              "      <td>3899.000000</td>\n",
              "      <td>67.000000</td>\n",
              "      <td>0.702000</td>\n",
              "      <td>0.176000</td>\n",
              "    </tr>\n",
              "    <tr>\n",
              "      <th>75%</th>\n",
              "      <td>52.000000</td>\n",
              "      <td>3.000000</td>\n",
              "      <td>40.000000</td>\n",
              "      <td>5.000000</td>\n",
              "      <td>3.000000</td>\n",
              "      <td>3.000000</td>\n",
              "      <td>11067.500000</td>\n",
              "      <td>1784.000000</td>\n",
              "      <td>9859.000000</td>\n",
              "      <td>0.859000</td>\n",
              "      <td>4741.000000</td>\n",
              "      <td>81.000000</td>\n",
              "      <td>0.818000</td>\n",
              "      <td>0.503000</td>\n",
              "    </tr>\n",
              "    <tr>\n",
              "      <th>max</th>\n",
              "      <td>73.000000</td>\n",
              "      <td>5.000000</td>\n",
              "      <td>56.000000</td>\n",
              "      <td>6.000000</td>\n",
              "      <td>6.000000</td>\n",
              "      <td>6.000000</td>\n",
              "      <td>34516.000000</td>\n",
              "      <td>2517.000000</td>\n",
              "      <td>34516.000000</td>\n",
              "      <td>3.397000</td>\n",
              "      <td>18484.000000</td>\n",
              "      <td>139.000000</td>\n",
              "      <td>3.714000</td>\n",
              "      <td>0.999000</td>\n",
              "    </tr>\n",
              "  </tbody>\n",
              "</table>\n",
              "</div>"
            ],
            "text/plain": [
              "       Customer_Age  ...  Avg_Utilization_Ratio\n",
              "count  10127.000000  ...           10127.000000\n",
              "mean      46.325960  ...               0.274894\n",
              "std        8.016814  ...               0.275691\n",
              "min       26.000000  ...               0.000000\n",
              "25%       41.000000  ...               0.023000\n",
              "50%       46.000000  ...               0.176000\n",
              "75%       52.000000  ...               0.503000\n",
              "max       73.000000  ...               0.999000\n",
              "\n",
              "[8 rows x 14 columns]"
            ]
          },
          "metadata": {
            "tags": []
          },
          "execution_count": 119
        }
      ]
    },
    {
      "cell_type": "code",
      "metadata": {
        "id": "iHAe643Y-Tz2"
      },
      "source": [
        "data_numerical = (data_numerical - data_numerical.mean(axis = 0))/data_numerical.std(axis = 0)"
      ],
      "execution_count": 120,
      "outputs": []
    },
    {
      "cell_type": "code",
      "metadata": {
        "id": "N04K0_iR-Vpl",
        "colab": {
          "base_uri": "https://localhost:8080/",
          "height": 317
        },
        "outputId": "99c7b058-f337-47ec-b437-da688d8f0fb2"
      },
      "source": [
        "data_numerical.describe()"
      ],
      "execution_count": 121,
      "outputs": [
        {
          "output_type": "execute_result",
          "data": {
            "text/html": [
              "<div>\n",
              "<style scoped>\n",
              "    .dataframe tbody tr th:only-of-type {\n",
              "        vertical-align: middle;\n",
              "    }\n",
              "\n",
              "    .dataframe tbody tr th {\n",
              "        vertical-align: top;\n",
              "    }\n",
              "\n",
              "    .dataframe thead th {\n",
              "        text-align: right;\n",
              "    }\n",
              "</style>\n",
              "<table border=\"1\" class=\"dataframe\">\n",
              "  <thead>\n",
              "    <tr style=\"text-align: right;\">\n",
              "      <th></th>\n",
              "      <th>Customer_Age</th>\n",
              "      <th>Dependent_count</th>\n",
              "      <th>Months_on_book</th>\n",
              "      <th>Total_Relationship_Count</th>\n",
              "      <th>Months_Inactive_12_mon</th>\n",
              "      <th>Contacts_Count_12_mon</th>\n",
              "      <th>Credit_Limit</th>\n",
              "      <th>Total_Revolving_Bal</th>\n",
              "      <th>Avg_Open_To_Buy</th>\n",
              "      <th>Total_Amt_Chng_Q4_Q1</th>\n",
              "      <th>Total_Trans_Amt</th>\n",
              "      <th>Total_Trans_Ct</th>\n",
              "      <th>Total_Ct_Chng_Q4_Q1</th>\n",
              "      <th>Avg_Utilization_Ratio</th>\n",
              "    </tr>\n",
              "  </thead>\n",
              "  <tbody>\n",
              "    <tr>\n",
              "      <th>count</th>\n",
              "      <td>1.012700e+04</td>\n",
              "      <td>1.012700e+04</td>\n",
              "      <td>1.012700e+04</td>\n",
              "      <td>1.012700e+04</td>\n",
              "      <td>1.012700e+04</td>\n",
              "      <td>1.012700e+04</td>\n",
              "      <td>1.012700e+04</td>\n",
              "      <td>1.012700e+04</td>\n",
              "      <td>1.012700e+04</td>\n",
              "      <td>1.012700e+04</td>\n",
              "      <td>1.012700e+04</td>\n",
              "      <td>1.012700e+04</td>\n",
              "      <td>1.012700e+04</td>\n",
              "      <td>1.012700e+04</td>\n",
              "    </tr>\n",
              "    <tr>\n",
              "      <th>mean</th>\n",
              "      <td>7.850056e-17</td>\n",
              "      <td>5.223639e-15</td>\n",
              "      <td>-1.001141e-16</td>\n",
              "      <td>-9.388516e-15</td>\n",
              "      <td>2.406521e-15</td>\n",
              "      <td>-3.133598e-15</td>\n",
              "      <td>1.089401e-14</td>\n",
              "      <td>2.578498e-17</td>\n",
              "      <td>1.157322e-14</td>\n",
              "      <td>-1.246541e-14</td>\n",
              "      <td>-7.467338e-16</td>\n",
              "      <td>-4.666785e-15</td>\n",
              "      <td>3.803383e-15</td>\n",
              "      <td>8.870492e-16</td>\n",
              "    </tr>\n",
              "    <tr>\n",
              "      <th>std</th>\n",
              "      <td>1.000000e+00</td>\n",
              "      <td>1.000000e+00</td>\n",
              "      <td>1.000000e+00</td>\n",
              "      <td>1.000000e+00</td>\n",
              "      <td>1.000000e+00</td>\n",
              "      <td>1.000000e+00</td>\n",
              "      <td>1.000000e+00</td>\n",
              "      <td>1.000000e+00</td>\n",
              "      <td>1.000000e+00</td>\n",
              "      <td>1.000000e+00</td>\n",
              "      <td>1.000000e+00</td>\n",
              "      <td>1.000000e+00</td>\n",
              "      <td>1.000000e+00</td>\n",
              "      <td>1.000000e+00</td>\n",
              "    </tr>\n",
              "    <tr>\n",
              "      <th>min</th>\n",
              "      <td>-2.535416e+00</td>\n",
              "      <td>-1.806289e+00</td>\n",
              "      <td>-2.870926e+00</td>\n",
              "      <td>-1.809422e+00</td>\n",
              "      <td>-2.316560e+00</td>\n",
              "      <td>-2.219546e+00</td>\n",
              "      <td>-7.914876e-01</td>\n",
              "      <td>-1.426788e+00</td>\n",
              "      <td>-8.212956e-01</td>\n",
              "      <td>-3.466775e+00</td>\n",
              "      <td>-1.146287e+00</td>\n",
              "      <td>-2.337140e+00</td>\n",
              "      <td>-2.991449e+00</td>\n",
              "      <td>-9.971058e-01</td>\n",
              "    </tr>\n",
              "    <tr>\n",
              "      <th>25%</th>\n",
              "      <td>-6.643487e-01</td>\n",
              "      <td>-1.036411e+00</td>\n",
              "      <td>-6.170990e-01</td>\n",
              "      <td>-5.227587e-01</td>\n",
              "      <td>-3.375813e-01</td>\n",
              "      <td>-4.115957e-01</td>\n",
              "      <td>-6.686217e-01</td>\n",
              "      <td>-9.862902e-01</td>\n",
              "      <td>-6.759270e-01</td>\n",
              "      <td>-5.882147e-01</td>\n",
              "      <td>-6.619078e-01</td>\n",
              "      <td>-8.460383e-01</td>\n",
              "      <td>-5.469550e-01</td>\n",
              "      <td>-9.136792e-01</td>\n",
              "    </tr>\n",
              "    <tr>\n",
              "      <th>50%</th>\n",
              "      <td>-4.065958e-02</td>\n",
              "      <td>-2.665340e-01</td>\n",
              "      <td>8.964070e-03</td>\n",
              "      <td>1.205731e-01</td>\n",
              "      <td>-3.375813e-01</td>\n",
              "      <td>-4.115957e-01</td>\n",
              "      <td>-4.492303e-01</td>\n",
              "      <td>1.388806e-01</td>\n",
              "      <td>-4.394762e-01</td>\n",
              "      <td>-1.092149e-01</td>\n",
              "      <td>-1.486803e-01</td>\n",
              "      <td>9.122586e-02</td>\n",
              "      <td>-4.293563e-02</td>\n",
              "      <td>-3.587110e-01</td>\n",
              "    </tr>\n",
              "    <tr>\n",
              "      <th>75%</th>\n",
              "      <td>7.077674e-01</td>\n",
              "      <td>5.033433e-01</td>\n",
              "      <td>5.098145e-01</td>\n",
              "      <td>7.639049e-01</td>\n",
              "      <td>6.519080e-01</td>\n",
              "      <td>4.923795e-01</td>\n",
              "      <td>2.679730e-01</td>\n",
              "      <td>7.622032e-01</td>\n",
              "      <td>2.628911e-01</td>\n",
              "      <td>4.518991e-01</td>\n",
              "      <td>9.917600e-02</td>\n",
              "      <td>6.876667e-01</td>\n",
              "      <td>4.442831e-01</td>\n",
              "      <td>8.273976e-01</td>\n",
              "    </tr>\n",
              "    <tr>\n",
              "      <th>max</th>\n",
              "      <td>3.327262e+00</td>\n",
              "      <td>2.043098e+00</td>\n",
              "      <td>2.513216e+00</td>\n",
              "      <td>1.407237e+00</td>\n",
              "      <td>3.620376e+00</td>\n",
              "      <td>3.204305e+00</td>\n",
              "      <td>2.847913e+00</td>\n",
              "      <td>1.661604e+00</td>\n",
              "      <td>2.975228e+00</td>\n",
              "      <td>1.203001e+01</td>\n",
              "      <td>4.144651e+00</td>\n",
              "      <td>3.158636e+00</td>\n",
              "      <td>1.260795e+01</td>\n",
              "      <td>2.626510e+00</td>\n",
              "    </tr>\n",
              "  </tbody>\n",
              "</table>\n",
              "</div>"
            ],
            "text/plain": [
              "       Customer_Age  ...  Avg_Utilization_Ratio\n",
              "count  1.012700e+04  ...           1.012700e+04\n",
              "mean   7.850056e-17  ...           8.870492e-16\n",
              "std    1.000000e+00  ...           1.000000e+00\n",
              "min   -2.535416e+00  ...          -9.971058e-01\n",
              "25%   -6.643487e-01  ...          -9.136792e-01\n",
              "50%   -4.065958e-02  ...          -3.587110e-01\n",
              "75%    7.077674e-01  ...           8.273976e-01\n",
              "max    3.327262e+00  ...           2.626510e+00\n",
              "\n",
              "[8 rows x 14 columns]"
            ]
          },
          "metadata": {
            "tags": []
          },
          "execution_count": 121
        }
      ]
    },
    {
      "cell_type": "markdown",
      "metadata": {
        "id": "gNoauYDh-Yrg"
      },
      "source": [
        "Соединим всё в одну таблицу:"
      ]
    },
    {
      "cell_type": "code",
      "metadata": {
        "id": "lPSVf-Bl-W9U",
        "colab": {
          "base_uri": "https://localhost:8080/"
        },
        "outputId": "ad26b9d9-e82a-4dd2-fe03-45c568a3b90c"
      },
      "source": [
        "data = pd.concat((data_numerical, data_nonbinary, df[binary_columns]), axis = 1)\n",
        "print(data.shape)"
      ],
      "execution_count": 122,
      "outputs": [
        {
          "output_type": "stream",
          "text": [
            "(10127, 33)\n"
          ],
          "name": "stdout"
        }
      ]
    },
    {
      "cell_type": "code",
      "metadata": {
        "id": "07S5Mx0R-aOF",
        "colab": {
          "base_uri": "https://localhost:8080/",
          "height": 334
        },
        "outputId": "aa001406-9236-46dd-f51c-090dae31c4f5"
      },
      "source": [
        "data.describe()"
      ],
      "execution_count": 123,
      "outputs": [
        {
          "output_type": "execute_result",
          "data": {
            "text/html": [
              "<div>\n",
              "<style scoped>\n",
              "    .dataframe tbody tr th:only-of-type {\n",
              "        vertical-align: middle;\n",
              "    }\n",
              "\n",
              "    .dataframe tbody tr th {\n",
              "        vertical-align: top;\n",
              "    }\n",
              "\n",
              "    .dataframe thead th {\n",
              "        text-align: right;\n",
              "    }\n",
              "</style>\n",
              "<table border=\"1\" class=\"dataframe\">\n",
              "  <thead>\n",
              "    <tr style=\"text-align: right;\">\n",
              "      <th></th>\n",
              "      <th>Customer_Age</th>\n",
              "      <th>Dependent_count</th>\n",
              "      <th>Months_on_book</th>\n",
              "      <th>Total_Relationship_Count</th>\n",
              "      <th>Months_Inactive_12_mon</th>\n",
              "      <th>Contacts_Count_12_mon</th>\n",
              "      <th>Credit_Limit</th>\n",
              "      <th>Total_Revolving_Bal</th>\n",
              "      <th>Avg_Open_To_Buy</th>\n",
              "      <th>Total_Amt_Chng_Q4_Q1</th>\n",
              "      <th>Total_Trans_Amt</th>\n",
              "      <th>Total_Trans_Ct</th>\n",
              "      <th>Total_Ct_Chng_Q4_Q1</th>\n",
              "      <th>Avg_Utilization_Ratio</th>\n",
              "      <th>Education_Level_College</th>\n",
              "      <th>Education_Level_Doctorate</th>\n",
              "      <th>Education_Level_Graduate</th>\n",
              "      <th>Education_Level_High School</th>\n",
              "      <th>Education_Level_Post-Graduate</th>\n",
              "      <th>Education_Level_Uneducated</th>\n",
              "      <th>Marital_Status_Divorced</th>\n",
              "      <th>Marital_Status_Married</th>\n",
              "      <th>Marital_Status_Single</th>\n",
              "      <th>Income_Category_$120K +</th>\n",
              "      <th>Income_Category_$40K - $60K</th>\n",
              "      <th>Income_Category_$60K - $80K</th>\n",
              "      <th>Income_Category_$80K - $120K</th>\n",
              "      <th>Income_Category_Less than $40K</th>\n",
              "      <th>Card_Category_Blue</th>\n",
              "      <th>Card_Category_Gold</th>\n",
              "      <th>Card_Category_Platinum</th>\n",
              "      <th>Card_Category_Silver</th>\n",
              "      <th>Gender</th>\n",
              "    </tr>\n",
              "  </thead>\n",
              "  <tbody>\n",
              "    <tr>\n",
              "      <th>count</th>\n",
              "      <td>1.012700e+04</td>\n",
              "      <td>1.012700e+04</td>\n",
              "      <td>1.012700e+04</td>\n",
              "      <td>1.012700e+04</td>\n",
              "      <td>1.012700e+04</td>\n",
              "      <td>1.012700e+04</td>\n",
              "      <td>1.012700e+04</td>\n",
              "      <td>1.012700e+04</td>\n",
              "      <td>1.012700e+04</td>\n",
              "      <td>1.012700e+04</td>\n",
              "      <td>1.012700e+04</td>\n",
              "      <td>1.012700e+04</td>\n",
              "      <td>1.012700e+04</td>\n",
              "      <td>1.012700e+04</td>\n",
              "      <td>10127.000000</td>\n",
              "      <td>10127.000000</td>\n",
              "      <td>10127.000000</td>\n",
              "      <td>10127.000000</td>\n",
              "      <td>10127.000000</td>\n",
              "      <td>10127.000000</td>\n",
              "      <td>10127.000000</td>\n",
              "      <td>10127.000000</td>\n",
              "      <td>10127.000000</td>\n",
              "      <td>10127.000000</td>\n",
              "      <td>10127.000000</td>\n",
              "      <td>10127.000000</td>\n",
              "      <td>10127.000000</td>\n",
              "      <td>10127.000000</td>\n",
              "      <td>10127.000000</td>\n",
              "      <td>10127.000000</td>\n",
              "      <td>10127.000000</td>\n",
              "      <td>10127.000000</td>\n",
              "      <td>10127.000000</td>\n",
              "    </tr>\n",
              "    <tr>\n",
              "      <th>mean</th>\n",
              "      <td>7.850056e-17</td>\n",
              "      <td>5.223639e-15</td>\n",
              "      <td>-1.001141e-16</td>\n",
              "      <td>-9.388516e-15</td>\n",
              "      <td>2.406521e-15</td>\n",
              "      <td>-3.133598e-15</td>\n",
              "      <td>1.089401e-14</td>\n",
              "      <td>2.578498e-17</td>\n",
              "      <td>1.157322e-14</td>\n",
              "      <td>-1.246541e-14</td>\n",
              "      <td>-7.467338e-16</td>\n",
              "      <td>-4.666785e-15</td>\n",
              "      <td>3.803383e-15</td>\n",
              "      <td>8.870492e-16</td>\n",
              "      <td>0.100030</td>\n",
              "      <td>0.044534</td>\n",
              "      <td>0.458872</td>\n",
              "      <td>0.198776</td>\n",
              "      <td>0.050953</td>\n",
              "      <td>0.146835</td>\n",
              "      <td>0.073862</td>\n",
              "      <td>0.536783</td>\n",
              "      <td>0.389355</td>\n",
              "      <td>0.071788</td>\n",
              "      <td>0.176755</td>\n",
              "      <td>0.138442</td>\n",
              "      <td>0.151575</td>\n",
              "      <td>0.461440</td>\n",
              "      <td>0.931767</td>\n",
              "      <td>0.011455</td>\n",
              "      <td>0.001975</td>\n",
              "      <td>0.054804</td>\n",
              "      <td>0.529081</td>\n",
              "    </tr>\n",
              "    <tr>\n",
              "      <th>std</th>\n",
              "      <td>1.000000e+00</td>\n",
              "      <td>1.000000e+00</td>\n",
              "      <td>1.000000e+00</td>\n",
              "      <td>1.000000e+00</td>\n",
              "      <td>1.000000e+00</td>\n",
              "      <td>1.000000e+00</td>\n",
              "      <td>1.000000e+00</td>\n",
              "      <td>1.000000e+00</td>\n",
              "      <td>1.000000e+00</td>\n",
              "      <td>1.000000e+00</td>\n",
              "      <td>1.000000e+00</td>\n",
              "      <td>1.000000e+00</td>\n",
              "      <td>1.000000e+00</td>\n",
              "      <td>1.000000e+00</td>\n",
              "      <td>0.300054</td>\n",
              "      <td>0.206289</td>\n",
              "      <td>0.498330</td>\n",
              "      <td>0.399098</td>\n",
              "      <td>0.219912</td>\n",
              "      <td>0.353959</td>\n",
              "      <td>0.261559</td>\n",
              "      <td>0.498670</td>\n",
              "      <td>0.487628</td>\n",
              "      <td>0.258150</td>\n",
              "      <td>0.381480</td>\n",
              "      <td>0.345380</td>\n",
              "      <td>0.358626</td>\n",
              "      <td>0.498536</td>\n",
              "      <td>0.252159</td>\n",
              "      <td>0.106416</td>\n",
              "      <td>0.044398</td>\n",
              "      <td>0.227608</td>\n",
              "      <td>0.499178</td>\n",
              "    </tr>\n",
              "    <tr>\n",
              "      <th>min</th>\n",
              "      <td>-2.535416e+00</td>\n",
              "      <td>-1.806289e+00</td>\n",
              "      <td>-2.870926e+00</td>\n",
              "      <td>-1.809422e+00</td>\n",
              "      <td>-2.316560e+00</td>\n",
              "      <td>-2.219546e+00</td>\n",
              "      <td>-7.914876e-01</td>\n",
              "      <td>-1.426788e+00</td>\n",
              "      <td>-8.212956e-01</td>\n",
              "      <td>-3.466775e+00</td>\n",
              "      <td>-1.146287e+00</td>\n",
              "      <td>-2.337140e+00</td>\n",
              "      <td>-2.991449e+00</td>\n",
              "      <td>-9.971058e-01</td>\n",
              "      <td>0.000000</td>\n",
              "      <td>0.000000</td>\n",
              "      <td>0.000000</td>\n",
              "      <td>0.000000</td>\n",
              "      <td>0.000000</td>\n",
              "      <td>0.000000</td>\n",
              "      <td>0.000000</td>\n",
              "      <td>0.000000</td>\n",
              "      <td>0.000000</td>\n",
              "      <td>0.000000</td>\n",
              "      <td>0.000000</td>\n",
              "      <td>0.000000</td>\n",
              "      <td>0.000000</td>\n",
              "      <td>0.000000</td>\n",
              "      <td>0.000000</td>\n",
              "      <td>0.000000</td>\n",
              "      <td>0.000000</td>\n",
              "      <td>0.000000</td>\n",
              "      <td>0.000000</td>\n",
              "    </tr>\n",
              "    <tr>\n",
              "      <th>25%</th>\n",
              "      <td>-6.643487e-01</td>\n",
              "      <td>-1.036411e+00</td>\n",
              "      <td>-6.170990e-01</td>\n",
              "      <td>-5.227587e-01</td>\n",
              "      <td>-3.375813e-01</td>\n",
              "      <td>-4.115957e-01</td>\n",
              "      <td>-6.686217e-01</td>\n",
              "      <td>-9.862902e-01</td>\n",
              "      <td>-6.759270e-01</td>\n",
              "      <td>-5.882147e-01</td>\n",
              "      <td>-6.619078e-01</td>\n",
              "      <td>-8.460383e-01</td>\n",
              "      <td>-5.469550e-01</td>\n",
              "      <td>-9.136792e-01</td>\n",
              "      <td>0.000000</td>\n",
              "      <td>0.000000</td>\n",
              "      <td>0.000000</td>\n",
              "      <td>0.000000</td>\n",
              "      <td>0.000000</td>\n",
              "      <td>0.000000</td>\n",
              "      <td>0.000000</td>\n",
              "      <td>0.000000</td>\n",
              "      <td>0.000000</td>\n",
              "      <td>0.000000</td>\n",
              "      <td>0.000000</td>\n",
              "      <td>0.000000</td>\n",
              "      <td>0.000000</td>\n",
              "      <td>0.000000</td>\n",
              "      <td>1.000000</td>\n",
              "      <td>0.000000</td>\n",
              "      <td>0.000000</td>\n",
              "      <td>0.000000</td>\n",
              "      <td>0.000000</td>\n",
              "    </tr>\n",
              "    <tr>\n",
              "      <th>50%</th>\n",
              "      <td>-4.065958e-02</td>\n",
              "      <td>-2.665340e-01</td>\n",
              "      <td>8.964070e-03</td>\n",
              "      <td>1.205731e-01</td>\n",
              "      <td>-3.375813e-01</td>\n",
              "      <td>-4.115957e-01</td>\n",
              "      <td>-4.492303e-01</td>\n",
              "      <td>1.388806e-01</td>\n",
              "      <td>-4.394762e-01</td>\n",
              "      <td>-1.092149e-01</td>\n",
              "      <td>-1.486803e-01</td>\n",
              "      <td>9.122586e-02</td>\n",
              "      <td>-4.293563e-02</td>\n",
              "      <td>-3.587110e-01</td>\n",
              "      <td>0.000000</td>\n",
              "      <td>0.000000</td>\n",
              "      <td>0.000000</td>\n",
              "      <td>0.000000</td>\n",
              "      <td>0.000000</td>\n",
              "      <td>0.000000</td>\n",
              "      <td>0.000000</td>\n",
              "      <td>1.000000</td>\n",
              "      <td>0.000000</td>\n",
              "      <td>0.000000</td>\n",
              "      <td>0.000000</td>\n",
              "      <td>0.000000</td>\n",
              "      <td>0.000000</td>\n",
              "      <td>0.000000</td>\n",
              "      <td>1.000000</td>\n",
              "      <td>0.000000</td>\n",
              "      <td>0.000000</td>\n",
              "      <td>0.000000</td>\n",
              "      <td>1.000000</td>\n",
              "    </tr>\n",
              "    <tr>\n",
              "      <th>75%</th>\n",
              "      <td>7.077674e-01</td>\n",
              "      <td>5.033433e-01</td>\n",
              "      <td>5.098145e-01</td>\n",
              "      <td>7.639049e-01</td>\n",
              "      <td>6.519080e-01</td>\n",
              "      <td>4.923795e-01</td>\n",
              "      <td>2.679730e-01</td>\n",
              "      <td>7.622032e-01</td>\n",
              "      <td>2.628911e-01</td>\n",
              "      <td>4.518991e-01</td>\n",
              "      <td>9.917600e-02</td>\n",
              "      <td>6.876667e-01</td>\n",
              "      <td>4.442831e-01</td>\n",
              "      <td>8.273976e-01</td>\n",
              "      <td>0.000000</td>\n",
              "      <td>0.000000</td>\n",
              "      <td>1.000000</td>\n",
              "      <td>0.000000</td>\n",
              "      <td>0.000000</td>\n",
              "      <td>0.000000</td>\n",
              "      <td>0.000000</td>\n",
              "      <td>1.000000</td>\n",
              "      <td>1.000000</td>\n",
              "      <td>0.000000</td>\n",
              "      <td>0.000000</td>\n",
              "      <td>0.000000</td>\n",
              "      <td>0.000000</td>\n",
              "      <td>1.000000</td>\n",
              "      <td>1.000000</td>\n",
              "      <td>0.000000</td>\n",
              "      <td>0.000000</td>\n",
              "      <td>0.000000</td>\n",
              "      <td>1.000000</td>\n",
              "    </tr>\n",
              "    <tr>\n",
              "      <th>max</th>\n",
              "      <td>3.327262e+00</td>\n",
              "      <td>2.043098e+00</td>\n",
              "      <td>2.513216e+00</td>\n",
              "      <td>1.407237e+00</td>\n",
              "      <td>3.620376e+00</td>\n",
              "      <td>3.204305e+00</td>\n",
              "      <td>2.847913e+00</td>\n",
              "      <td>1.661604e+00</td>\n",
              "      <td>2.975228e+00</td>\n",
              "      <td>1.203001e+01</td>\n",
              "      <td>4.144651e+00</td>\n",
              "      <td>3.158636e+00</td>\n",
              "      <td>1.260795e+01</td>\n",
              "      <td>2.626510e+00</td>\n",
              "      <td>1.000000</td>\n",
              "      <td>1.000000</td>\n",
              "      <td>1.000000</td>\n",
              "      <td>1.000000</td>\n",
              "      <td>1.000000</td>\n",
              "      <td>1.000000</td>\n",
              "      <td>1.000000</td>\n",
              "      <td>1.000000</td>\n",
              "      <td>1.000000</td>\n",
              "      <td>1.000000</td>\n",
              "      <td>1.000000</td>\n",
              "      <td>1.000000</td>\n",
              "      <td>1.000000</td>\n",
              "      <td>1.000000</td>\n",
              "      <td>1.000000</td>\n",
              "      <td>1.000000</td>\n",
              "      <td>1.000000</td>\n",
              "      <td>1.000000</td>\n",
              "      <td>1.000000</td>\n",
              "    </tr>\n",
              "  </tbody>\n",
              "</table>\n",
              "</div>"
            ],
            "text/plain": [
              "       Customer_Age  Dependent_count  ...  Card_Category_Silver        Gender\n",
              "count  1.012700e+04     1.012700e+04  ...          10127.000000  10127.000000\n",
              "mean   7.850056e-17     5.223639e-15  ...              0.054804      0.529081\n",
              "std    1.000000e+00     1.000000e+00  ...              0.227608      0.499178\n",
              "min   -2.535416e+00    -1.806289e+00  ...              0.000000      0.000000\n",
              "25%   -6.643487e-01    -1.036411e+00  ...              0.000000      0.000000\n",
              "50%   -4.065958e-02    -2.665340e-01  ...              0.000000      1.000000\n",
              "75%    7.077674e-01     5.033433e-01  ...              0.000000      1.000000\n",
              "max    3.327262e+00     2.043098e+00  ...              1.000000      1.000000\n",
              "\n",
              "[8 rows x 33 columns]"
            ]
          },
          "metadata": {
            "tags": []
          },
          "execution_count": 123
        }
      ]
    },
    {
      "cell_type": "markdown",
      "metadata": {
        "id": "rbdIEEfQ-dYh"
      },
      "source": [
        "##6. Разбиение данных на обучающую и тестовую выборки"
      ]
    },
    {
      "cell_type": "code",
      "metadata": {
        "id": "QGz5hWwq-bXo"
      },
      "source": [
        "X = data\n",
        "y = Prediction\n",
        "feature_names = X.columns"
      ],
      "execution_count": 124,
      "outputs": []
    },
    {
      "cell_type": "code",
      "metadata": {
        "id": "9ts02TH9-fhc",
        "colab": {
          "base_uri": "https://localhost:8080/"
        },
        "outputId": "30942433-caf7-4434-c141-082f1cef3b31"
      },
      "source": [
        "type(feature_names)"
      ],
      "execution_count": 125,
      "outputs": [
        {
          "output_type": "execute_result",
          "data": {
            "text/plain": [
              "pandas.core.indexes.base.Index"
            ]
          },
          "metadata": {
            "tags": []
          },
          "execution_count": 125
        }
      ]
    },
    {
      "cell_type": "code",
      "metadata": {
        "id": "WDJLmWlr-gve",
        "colab": {
          "base_uri": "https://localhost:8080/"
        },
        "outputId": "67b2f9cc-41f3-45f8-c99d-061b495c111b"
      },
      "source": [
        "feature_names"
      ],
      "execution_count": 126,
      "outputs": [
        {
          "output_type": "execute_result",
          "data": {
            "text/plain": [
              "Index(['Customer_Age', 'Dependent_count', 'Months_on_book',\n",
              "       'Total_Relationship_Count', 'Months_Inactive_12_mon',\n",
              "       'Contacts_Count_12_mon', 'Credit_Limit', 'Total_Revolving_Bal',\n",
              "       'Avg_Open_To_Buy', 'Total_Amt_Chng_Q4_Q1', 'Total_Trans_Amt',\n",
              "       'Total_Trans_Ct', 'Total_Ct_Chng_Q4_Q1', 'Avg_Utilization_Ratio',\n",
              "       'Education_Level_College', 'Education_Level_Doctorate',\n",
              "       'Education_Level_Graduate', 'Education_Level_High School',\n",
              "       'Education_Level_Post-Graduate', 'Education_Level_Uneducated',\n",
              "       'Marital_Status_Divorced', 'Marital_Status_Married',\n",
              "       'Marital_Status_Single', 'Income_Category_$120K +',\n",
              "       'Income_Category_$40K - $60K', 'Income_Category_$60K - $80K',\n",
              "       'Income_Category_$80K - $120K', 'Income_Category_Less than $40K',\n",
              "       'Card_Category_Blue', 'Card_Category_Gold', 'Card_Category_Platinum',\n",
              "       'Card_Category_Silver', 'Gender'],\n",
              "      dtype='object')"
            ]
          },
          "metadata": {
            "tags": []
          },
          "execution_count": 126
        }
      ]
    },
    {
      "cell_type": "markdown",
      "metadata": {
        "id": "Uz98_wM--jwL"
      },
      "source": [
        "70% выборки сделаем обучающей, остальные 30% - тестовой"
      ]
    },
    {
      "cell_type": "code",
      "metadata": {
        "id": "ATHCZMFn-iEY",
        "colab": {
          "base_uri": "https://localhost:8080/"
        },
        "outputId": "1dd836f8-3837-47ac-b30f-3c4f99625bba"
      },
      "source": [
        "from sklearn.model_selection import train_test_split\n",
        "X_train, X_test, y_train, y_test = train_test_split(X, y, test_size = 0.3, random_state = 42)\n",
        "\n",
        "N_train, _ = X_train.shape \n",
        "N_test,  _ = X_test.shape \n",
        "\n",
        "print(N_train, N_test)"
      ],
      "execution_count": 127,
      "outputs": [
        {
          "output_type": "stream",
          "text": [
            "7088 3039\n"
          ],
          "name": "stdout"
        }
      ]
    },
    {
      "cell_type": "markdown",
      "metadata": {
        "id": "1dQAXvZa-nLE"
      },
      "source": [
        "##7. Классификация и вычисление ошибок"
      ]
    },
    {
      "cell_type": "markdown",
      "metadata": {
        "id": "LErk-Un8-quL"
      },
      "source": [
        "###Метод ближайших соседей \n",
        "Для нового объекта алгоритм ищет в обучающей выборке k наиболее близких объектов и относит новый объект к тому классу, которому принадлежит большинство из них."
      ]
    },
    {
      "cell_type": "markdown",
      "metadata": {
        "id": "yOtQACUT-q_a"
      },
      "source": [
        "Вначале обучим модель:"
      ]
    },
    {
      "cell_type": "code",
      "metadata": {
        "id": "df-bMiQX-la9",
        "colab": {
          "base_uri": "https://localhost:8080/"
        },
        "outputId": "d1c9eee4-7959-4200-8086-bd44618577d6"
      },
      "source": [
        "from sklearn.neighbors import KNeighborsClassifier\n",
        "\n",
        "knn = KNeighborsClassifier(n_neighbors = 10)\n",
        "knn.fit(X_train, y_train)"
      ],
      "execution_count": 128,
      "outputs": [
        {
          "output_type": "execute_result",
          "data": {
            "text/plain": [
              "KNeighborsClassifier(algorithm='auto', leaf_size=30, metric='minkowski',\n",
              "                     metric_params=None, n_jobs=None, n_neighbors=10, p=2,\n",
              "                     weights='uniform')"
            ]
          },
          "metadata": {
            "tags": []
          },
          "execution_count": 128
        }
      ]
    },
    {
      "cell_type": "markdown",
      "metadata": {
        "id": "Jvkn0nDc-1G1"
      },
      "source": [
        "После того, как модель обучена, мы можем предсказывать значение целевого признака по входным признакам для новых объектов. Делается это с помощью метода predict.\n",
        "Нас интересует качество построенной модели, поэтому будем предсказывать значение выходного признака на тех данных, для которых оно известно: на обучающей и (что более важно) тестовой выборках:"
      ]
    },
    {
      "cell_type": "code",
      "metadata": {
        "id": "VbwkI9Qh-zDI",
        "colab": {
          "base_uri": "https://localhost:8080/"
        },
        "outputId": "7bd715cb-1dec-4f85-9e98-804f73ce3845"
      },
      "source": [
        "y_train_predict = knn.predict(X_train)\n",
        "y_test_predict = knn.predict(X_test)\n",
        "\n",
        "err_train = np.mean(y_train != y_train_predict)\n",
        "err_test  = np.mean(y_test  != y_test_predict)\n",
        "print (err_train, err_test)"
      ],
      "execution_count": 129,
      "outputs": [
        {
          "output_type": "stream",
          "text": [
            "0.06913092550790068 0.08950312602829878\n"
          ],
          "name": "stdout"
        }
      ]
    },
    {
      "cell_type": "markdown",
      "metadata": {
        "id": "UxpkDYn0-5Mg"
      },
      "source": [
        "Ошибки на обучающей и тестовой выборке равны соответственно 6,91% и 8,95%"
      ]
    },
    {
      "cell_type": "markdown",
      "metadata": {
        "id": "oK6h5f_w-5ae"
      },
      "source": [
        "Более важной является ошибка на тестовой выборке, так как мы должны уметь предсказывать правильное (по возможности) значение на новых объектах, которые при обучении были недоступны.\n",
        "Попробуем уменьшить тестовую ошибку, варьируя параметры метода."
      ]
    },
    {
      "cell_type": "markdown",
      "metadata": {
        "id": "UZpZwL55-5n7"
      },
      "source": [
        "Поиск оптимальных значений параметров можно осуществить с помощью класса GridSearchCV – поиск наилучшего набора параметров, доставляющих минимум ошибке перекрестного контроля (cross-validation). По умолчанию рассматривается 3-кратный перекрестный контроль."
      ]
    },
    {
      "cell_type": "code",
      "metadata": {
        "id": "nv7obty2-3JE",
        "colab": {
          "base_uri": "https://localhost:8080/"
        },
        "outputId": "97c9c954-3c7d-47f0-e1b8-04922fc63aa4"
      },
      "source": [
        "from sklearn.model_selection import GridSearchCV\n",
        "nnb = [1, 3, 5, 10, 15, 20, 25, 35, 45, 55]\n",
        "knn = KNeighborsClassifier()\n",
        "grid = GridSearchCV(knn, param_grid = {'n_neighbors': nnb}, cv=10)\n",
        "grid.fit(X_train, y_train)\n",
        "\n",
        "best_cv_err = 1 - grid.best_score_\n",
        "best_n_neighbors = grid.best_estimator_.n_neighbors\n",
        "print(best_cv_err, best_n_neighbors)"
      ],
      "execution_count": 133,
      "outputs": [
        {
          "output_type": "stream",
          "text": [
            "0.08281358322774979 10\n"
          ],
          "name": "stdout"
        }
      ]
    },
    {
      "cell_type": "markdown",
      "metadata": {
        "id": "GfBenT8t_Csk"
      },
      "source": [
        "В качестве оптимального метод выбрал значение k равное 10. Ошибка перекрестного контроля составила 8,28%, что даже больше ошибки на обучающей выборке для 10 ближайших соседей. Это может быть обусленно тем, что для построения моделей в рамках схемы перекрестного контроля используются не все данные."
      ]
    },
    {
      "cell_type": "markdown",
      "metadata": {
        "id": "n-zn3noz_JwK"
      },
      "source": [
        "###Метод SVC - машина опорных векторов"
      ]
    },
    {
      "cell_type": "code",
      "metadata": {
        "id": "pNLJUKmN_Hp0",
        "colab": {
          "base_uri": "https://localhost:8080/"
        },
        "outputId": "dbc20c5d-1ec7-4977-e1b4-047c2589d4b9"
      },
      "source": [
        "from sklearn.svm import SVC\n",
        "svc = SVC()\n",
        "svc.fit(X_train, y_train)\n",
        "\n",
        "err_train = np.mean(y_train != svc.predict(X_train))\n",
        "err_test  = np.mean(y_test  != svc.predict(X_test))\n",
        "print (err_train, err_test)"
      ],
      "execution_count": 135,
      "outputs": [
        {
          "output_type": "stream",
          "text": [
            "0.0475451467268623 0.06679828891082593\n"
          ],
          "name": "stdout"
        }
      ]
    },
    {
      "cell_type": "markdown",
      "metadata": {
        "id": "o_Rurtgv_cVW"
      },
      "source": [
        "На тестовой выборке получили ошибку в 6,68%."
      ]
    },
    {
      "cell_type": "markdown",
      "metadata": {
        "id": "g5zD9Mjg_ekq"
      },
      "source": [
        "###Random Forest\n",
        "Воспользуемся одним из самых популярных алгоритмов машинного обучения – случайный лес – Random Forest.\n",
        "Алгоритм строит ансамбль случайных деревьев, каждое из которых обучается на выборке, полученной из исходной с помощью процедуры изъятия с возвращением."
      ]
    },
    {
      "cell_type": "code",
      "metadata": {
        "id": "sJufgluF_afe",
        "colab": {
          "base_uri": "https://localhost:8080/"
        },
        "outputId": "ecee1db2-2593-48b2-ddd4-60dfb181ef50"
      },
      "source": [
        "from sklearn import ensemble\n",
        "rf = ensemble.RandomForestClassifier(n_estimators=100, random_state=11)\n",
        "rf.fit(X_train, y_train)\n",
        "\n",
        "err_train = np.mean(y_train != rf.predict(X_train))\n",
        "err_test  = np.mean(y_test  != rf.predict(X_test))\n",
        "print (err_train, err_test)"
      ],
      "execution_count": 136,
      "outputs": [
        {
          "output_type": "stream",
          "text": [
            "0.0 0.05133267522211254\n"
          ],
          "name": "stdout"
        }
      ]
    },
    {
      "cell_type": "markdown",
      "metadata": {
        "id": "PMYrF8fS_pOD"
      },
      "source": [
        "Ошибка на тестовой выборке составила 5,13%"
      ]
    },
    {
      "cell_type": "markdown",
      "metadata": {
        "id": "xbEVjuGh_rXS"
      },
      "source": [
        "Одной из важных процедур предобработки данных в алгоритмах их анализа является отбор значимых признаков. Его цель заключается в том, чтобы отобрать наиболее существенные признаки для решения рассматриваемой задачи классификации."
      ]
    },
    {
      "cell_type": "markdown",
      "metadata": {
        "id": "i6qXsjw9_rrY"
      },
      "source": [
        "Упорядочим значимости и выведем их значения:\n"
      ]
    },
    {
      "cell_type": "code",
      "metadata": {
        "id": "6bqSr5UV_nJU",
        "colab": {
          "base_uri": "https://localhost:8080/"
        },
        "outputId": "eab7bda8-0c34-4c29-e8e5-18738ebcce79"
      },
      "source": [
        "importances = rf.feature_importances_\n",
        "indices = np.argsort(importances)[::-1]\n",
        "\n",
        "print(\"Feature importances:\")\n",
        "for f, idx in enumerate(indices):\n",
        "    print(\"{:2d}. feature '{:5s}' ({:.4f})\".format(f + 1, feature_names[idx], importances[idx]))"
      ],
      "execution_count": 137,
      "outputs": [
        {
          "output_type": "stream",
          "text": [
            "Feature importances:\n",
            " 1. feature 'Total_Trans_Amt' (0.1640)\n",
            " 2. feature 'Total_Trans_Ct' (0.1622)\n",
            " 3. feature 'Total_Ct_Chng_Q4_Q1' (0.1165)\n",
            " 4. feature 'Total_Revolving_Bal' (0.1036)\n",
            " 5. feature 'Avg_Utilization_Ratio' (0.0652)\n",
            " 6. feature 'Total_Amt_Chng_Q4_Q1' (0.0592)\n",
            " 7. feature 'Total_Relationship_Count' (0.0553)\n",
            " 8. feature 'Credit_Limit' (0.0374)\n",
            " 9. feature 'Customer_Age' (0.0356)\n",
            "10. feature 'Avg_Open_To_Buy' (0.0342)\n",
            "11. feature 'Contacts_Count_12_mon' (0.0306)\n",
            "12. feature 'Months_Inactive_12_mon' (0.0293)\n",
            "13. feature 'Months_on_book' (0.0281)\n",
            "14. feature 'Dependent_count' (0.0145)\n",
            "15. feature 'Gender' (0.0089)\n",
            "16. feature 'Marital_Status_Married' (0.0058)\n",
            "17. feature 'Income_Category_Less than $40K' (0.0057)\n",
            "18. feature 'Marital_Status_Single' (0.0054)\n",
            "19. feature 'Education_Level_Graduate' (0.0050)\n",
            "20. feature 'Education_Level_High School' (0.0036)\n",
            "21. feature 'Income_Category_$80K - $120K' (0.0035)\n",
            "22. feature 'Income_Category_$60K - $80K' (0.0034)\n",
            "23. feature 'Income_Category_$40K - $60K' (0.0033)\n",
            "24. feature 'Education_Level_Uneducated' (0.0029)\n",
            "25. feature 'Education_Level_College' (0.0026)\n",
            "26. feature 'Education_Level_Post-Graduate' (0.0025)\n",
            "27. feature 'Marital_Status_Divorced' (0.0025)\n",
            "28. feature 'Education_Level_Doctorate' (0.0024)\n",
            "29. feature 'Income_Category_$120K +' (0.0023)\n",
            "30. feature 'Card_Category_Blue' (0.0019)\n",
            "31. feature 'Card_Category_Silver' (0.0017)\n",
            "32. feature 'Card_Category_Gold' (0.0007)\n",
            "33. feature 'Card_Category_Platinum' (0.0003)\n"
          ],
          "name": "stdout"
        }
      ]
    },
    {
      "cell_type": "markdown",
      "metadata": {
        "id": "ly8cGcMD_1Il"
      },
      "source": [
        "Построим столбцовую диаграмму, графически представляющую значимость первых 20 признаков:"
      ]
    },
    {
      "cell_type": "code",
      "metadata": {
        "id": "cSEqjROy_y5Z",
        "colab": {
          "base_uri": "https://localhost:8080/",
          "height": 657
        },
        "outputId": "d8d21ab7-17e7-4dae-8b3b-29d9842903de"
      },
      "source": [
        "d_first = 20\n",
        "plt.figure(figsize=(8, 8))\n",
        "plt.title(\"Feature importances\")\n",
        "plt.bar(range(d_first), importances[indices[:d_first]], align='center')\n",
        "plt.xticks(range(d_first), np.array(feature_names)[indices[:d_first]], rotation=90)\n",
        "plt.xlim([-1, d_first]);"
      ],
      "execution_count": 138,
      "outputs": [
        {
          "output_type": "display_data",
          "data": {
            "image/png": "[encoded data removed]",
            "text/plain": [
              "<Figure size 576x576 with 1 Axes>"
            ]
          },
          "metadata": {
            "tags": [],
            "needs_background": "light"
          }
        }
      ]
    },
    {
      "cell_type": "code",
      "metadata": {
        "id": "H8eFVOHo_2s4",
        "colab": {
          "base_uri": "https://localhost:8080/"
        },
        "outputId": "a1f03fe7-0cc7-4e62-a0af-2f53baaa2ea5"
      },
      "source": [
        "best_features = indices[:8]\n",
        "best_features_names = feature_names[best_features]\n",
        "print(best_features_names)"
      ],
      "execution_count": 139,
      "outputs": [
        {
          "output_type": "stream",
          "text": [
            "Index(['Total_Trans_Amt', 'Total_Trans_Ct', 'Total_Ct_Chng_Q4_Q1',\n",
            "       'Total_Revolving_Bal', 'Avg_Utilization_Ratio', 'Total_Amt_Chng_Q4_Q1',\n",
            "       'Total_Relationship_Count', 'Credit_Limit'],\n",
            "      dtype='object')\n"
          ],
          "name": "stdout"
        }
      ]
    },
    {
      "cell_type": "markdown",
      "metadata": {
        "id": "Q3wZbNOU_469"
      },
      "source": [
        "Мы видим, что основную роль играют признаки 'Total_Trans_Amt', 'Total_Trans_Ct', 'Total_Ct_Chng_Q4_Q1', 'Total_Revolving_Bal', 'Avg_Utilization_Ratio', 'Total_Amt_Chng_Q4_Q1', 'Total_Relationship_Count', 'Credit_Limit'."
      ]
    },
    {
      "cell_type": "markdown",
      "metadata": {
        "id": "D-XdeajB_7X9"
      },
      "source": [
        "###GBT – градиентный бустинг деревьев решений \n",
        "Это еще один метод, строящий ансамбль деревьев решений. На каждой итерации строится новый классификатор, аппроксимирующий значение градиента функции потерь."
      ]
    },
    {
      "cell_type": "code",
      "metadata": {
        "id": "nWinFHk4_4WA",
        "colab": {
          "base_uri": "https://localhost:8080/"
        },
        "outputId": "e103f66b-1b91-49ba-a75e-d1d44a4053e8"
      },
      "source": [
        "from sklearn import ensemble\n",
        "gbt = ensemble.GradientBoostingClassifier(n_estimators=100, random_state=11)\n",
        "gbt.fit(X_train, y_train)\n",
        "\n",
        "err_train = np.mean(y_train != gbt.predict(X_train))\n",
        "err_test = np.mean(y_test != gbt.predict(X_test))\n",
        "print (err_train, err_test)"
      ],
      "execution_count": 140,
      "outputs": [
        {
          "output_type": "stream",
          "text": [
            "0.023984198645598195 0.036854228364593615\n"
          ],
          "name": "stdout"
        }
      ]
    },
    {
      "cell_type": "markdown",
      "metadata": {
        "id": "2w7Q-FmlAE5k"
      },
      "source": [
        "Ошибка на тестовой выборке составила 3,69%"
      ]
    },
    {
      "cell_type": "markdown",
      "metadata": {
        "id": "zU9nTk83AF-B"
      },
      "source": [
        "###Использование только значимых признаков "
      ]
    },
    {
      "cell_type": "code",
      "metadata": {
        "id": "u4IMDF-LADS-"
      },
      "source": [
        "X = data.loc[:,['Total_Trans_Amt', 'Total_Trans_Ct', 'Total_Ct_Chng_Q4_Q1',\n",
        "       'Total_Revolving_Bal', 'Avg_Utilization_Ratio', 'Total_Amt_Chng_Q4_Q1',\n",
        "       'Total_Relationship_Count', 'Credit_Limit']]\n",
        "y = Prediction"
      ],
      "execution_count": 170,
      "outputs": []
    },
    {
      "cell_type": "code",
      "metadata": {
        "id": "RxoK_dvAAM28",
        "colab": {
          "base_uri": "https://localhost:8080/"
        },
        "outputId": "014137aa-c757-4404-a45a-81d648aec402"
      },
      "source": [
        "X_train, X_test, y_train, y_test = train_test_split(X, y, test_size = 0.3, random_state = 42)\n",
        "\n",
        "N_train, _ = X_train.shape \n",
        "N_test,  _ = X_test.shape \n",
        "\n",
        "print(N_train, N_test)"
      ],
      "execution_count": 171,
      "outputs": [
        {
          "output_type": "stream",
          "text": [
            "7088 3039\n"
          ],
          "name": "stdout"
        }
      ]
    },
    {
      "cell_type": "code",
      "metadata": {
        "id": "CqHV76pdAOdy",
        "colab": {
          "base_uri": "https://localhost:8080/"
        },
        "outputId": "52582904-55ec-45da-e633-ab67dc0a1279"
      },
      "source": [
        "knn = KNeighborsClassifier(n_neighbors = 10)\n",
        "knn.fit(X_train, y_train)\n",
        "y_train_predict = knn.predict(X_train)\n",
        "y_test_predict = knn.predict(X_test)\n",
        "\n",
        "err_train = np.mean(y_train != y_train_predict)\n",
        "err_test  = np.mean(y_test  != y_test_predict)\n",
        "print (err_train, err_test)"
      ],
      "execution_count": 172,
      "outputs": [
        {
          "output_type": "stream",
          "text": [
            "0.06179458239277652 0.07798617966436328\n"
          ],
          "name": "stdout"
        }
      ]
    },
    {
      "cell_type": "markdown",
      "metadata": {
        "id": "4k12g-PtARyR"
      },
      "source": [
        "Метод kNN - ошибка на тестовой выборке 7,8%"
      ]
    },
    {
      "cell_type": "code",
      "metadata": {
        "id": "lil3AbqCAP43",
        "colab": {
          "base_uri": "https://localhost:8080/"
        },
        "outputId": "21f63c6e-fcee-46f9-f8ea-ba8a26d96abd"
      },
      "source": [
        "from sklearn.svm import SVC\n",
        "svc = SVC()\n",
        "svc.fit(X_train, y_train)\n",
        "\n",
        "err_train = np.mean(y_train != svc.predict(X_train))\n",
        "err_test  = np.mean(y_test  != svc.predict(X_test))\n",
        "print (err_train, err_test)"
      ],
      "execution_count": 173,
      "outputs": [
        {
          "output_type": "stream",
          "text": [
            "0.061512415349887134 0.07074695623560381\n"
          ],
          "name": "stdout"
        }
      ]
    },
    {
      "cell_type": "markdown",
      "metadata": {
        "id": "yYqcu1cQAUQw"
      },
      "source": [
        "Метод SVC - ошибка на тестовой выборке 7,07%"
      ]
    },
    {
      "cell_type": "code",
      "metadata": {
        "id": "2sa3uCXQATwR",
        "colab": {
          "base_uri": "https://localhost:8080/"
        },
        "outputId": "2554ba96-5cce-41aa-8823-3dc5cda39e29"
      },
      "source": [
        "from sklearn import ensemble\n",
        "rf = ensemble.RandomForestClassifier(n_estimators=100, random_state=11)\n",
        "rf.fit(X_train, y_train)\n",
        "\n",
        "err_train = np.mean(y_train != rf.predict(X_train))\n",
        "err_test  = np.mean(y_test  != rf.predict(X_test))\n",
        "print (err_train, err_test)"
      ],
      "execution_count": 174,
      "outputs": [
        {
          "output_type": "stream",
          "text": [
            "0.0 0.04113195129976966\n"
          ],
          "name": "stdout"
        }
      ]
    },
    {
      "cell_type": "markdown",
      "metadata": {
        "id": "99icnOjtAXji"
      },
      "source": [
        "Метод RF - ошибка на тестовой выборке 4,11%"
      ]
    },
    {
      "cell_type": "code",
      "metadata": {
        "id": "oGxnEXE4AXEW",
        "colab": {
          "base_uri": "https://localhost:8080/"
        },
        "outputId": "6e09de24-0fdf-4cd3-ee95-84395c7332bf"
      },
      "source": [
        "from sklearn import ensemble\n",
        "gbt = ensemble.GradientBoostingClassifier(n_estimators=100, random_state=11)\n",
        "gbt.fit(X_train, y_train)\n",
        "\n",
        "err_train = np.mean(y_train != gbt.predict(X_train))\n",
        "err_test = np.mean(y_test != gbt.predict(X_test))\n",
        "print (err_train, err_test)"
      ],
      "execution_count": 175,
      "outputs": [
        {
          "output_type": "stream",
          "text": [
            "0.030756207674943567 0.04277722935176045\n"
          ],
          "name": "stdout"
        }
      ]
    },
    {
      "cell_type": "markdown",
      "metadata": {
        "id": "nDRIKC5AAbv0"
      },
      "source": [
        "Метод GBT - ошибка на тестовой выборке 4,28%"
      ]
    },
    {
      "cell_type": "markdown",
      "metadata": {
        "id": "h7J_PYlbAcCW"
      },
      "source": [
        "Заметим, что при обучении модели на всех признаках лучшим проявил себя метод GBT с ошибкой 3,69%. При использовании только значимых признаков для обучения модели ошибка на тестовой выборке только увеличалась."
      ]
    },
    {
      "cell_type": "markdown",
      "metadata": {
        "id": "5CoAt5ReKqEq"
      },
      "source": [
        "##8. Метод главных компонент (РСА)"
      ]
    },
    {
      "cell_type": "code",
      "metadata": {
        "colab": {
          "base_uri": "https://localhost:8080/"
        },
        "id": "WqpBPDd9IMQM",
        "outputId": "61792c4d-2176-4e48-cfd5-3fbcb7da8099"
      },
      "source": [
        "from sklearn.decomposition import PCA\n",
        "pca_model = PCA(n_components = 2)\n",
        "pca_model.fit(X)\n",
        "print(\"Главные компоненты (по строкам):\")\n",
        "print(pca_model.components_)\n",
        "print(\"Дисперсии по главным компонентам:\")\n",
        "print(pca_model.explained_variance_)"
      ],
      "execution_count": 180,
      "outputs": [
        {
          "output_type": "stream",
          "text": [
            "Главные компоненты (по строкам):\n",
            "[[ 0.6322956   0.59011675  0.09627527 -0.03156971 -0.19905242  0.03898262\n",
            "  -0.36578613  0.25837553]\n",
            " [ 0.13627432  0.18733936  0.26206775  0.56136778  0.65075088  0.19937067\n",
            "   0.00287374 -0.31509736]]\n",
            "Дисперсии по главным компонентам:\n",
            "[2.06279721 1.79654583]\n"
          ],
          "name": "stdout"
        }
      ]
    },
    {
      "cell_type": "code",
      "metadata": {
        "colab": {
          "base_uri": "https://localhost:8080/"
        },
        "id": "JlNnYDiHIM0x",
        "outputId": "0a9d402f-d6cd-4ae2-e0aa-30255688e3e4"
      },
      "source": [
        "print(\"Среднеквадратические отклонения:\")\n",
        "print(np.sqrt(pca_model.explained_variance_))"
      ],
      "execution_count": 181,
      "outputs": [
        {
          "output_type": "stream",
          "text": [
            "Среднеквадратические отклонения:\n",
            "[1.43624413 1.34035288]\n"
          ],
          "name": "stdout"
        }
      ]
    },
    {
      "cell_type": "code",
      "metadata": {
        "colab": {
          "base_uri": "https://localhost:8080/"
        },
        "id": "nSK4mSD6Is38",
        "outputId": "90463b31-bc31-4657-9ce2-d00206d93a54"
      },
      "source": [
        "pca_model = PCA(n_components = 2)\n",
        "pca_model.fit(X)\n",
        "X_proj = pca_model.transform(X)\n",
        "print(X.shape)\n",
        "print(X_proj.shape)"
      ],
      "execution_count": 193,
      "outputs": [
        {
          "output_type": "stream",
          "text": [
            "(10127, 8)\n",
            "(10127, 2)\n"
          ],
          "name": "stdout"
        }
      ]
    },
    {
      "cell_type": "code",
      "metadata": {
        "colab": {
          "base_uri": "https://localhost:8080/",
          "height": 265
        },
        "id": "ZZsarAFbIvl3",
        "outputId": "0d793d73-7304-40d7-eeab-6ff346c4072d"
      },
      "source": [
        "X_new = pca_model.inverse_transform(X_proj)\n",
        "plt.scatter(X.iloc[:, 0], X.iloc[:, 1], alpha = 0.35, color = 'b')\n",
        "plt.scatter(X_new[:, 0], X_new[:, 1], alpha = 0.35, color = 'r')\n",
        "plt.axis('equal');"
      ],
      "execution_count": 201,
      "outputs": [
        {
          "output_type": "display_data",
          "data": {
            "image/png": "[encoded data removed]",
            "text/plain": [
              "<Figure size 432x288 with 1 Axes>"
            ]
          },
          "metadata": {
            "tags": [],
            "needs_background": "light"
          }
        }
      ]
    },
    {
      "cell_type": "code",
      "metadata": {
        "colab": {
          "base_uri": "https://localhost:8080/"
        },
        "id": "SZUV0FhwJ_EL",
        "outputId": "12b1b02e-99bb-4b02-93e1-6fc5a115fc6e"
      },
      "source": [
        "pca_model = PCA(n_components = 0.85) # сохраняем 85% дисперсии\n",
        "pca_model.fit(X)\n",
        "X_proj = pca_model.transform(X)\n",
        "print(X.shape)\n",
        "print(X_proj.shape)"
      ],
      "execution_count": 202,
      "outputs": [
        {
          "output_type": "stream",
          "text": [
            "(10127, 8)\n",
            "(10127, 5)\n"
          ],
          "name": "stdout"
        }
      ]
    },
    {
      "cell_type": "code",
      "metadata": {
        "id": "TtqyX7X3XftZ",
        "outputId": "1b48b571-c9c9-456c-eb8e-552e5c3daf79",
        "colab": {
          "base_uri": "https://localhost:8080/",
          "height": 265
        }
      },
      "source": [
        "X_new = pca_model.inverse_transform(X_proj)\n",
        "plt.scatter(X.iloc[:, 0], X.iloc[:, 1], alpha = 0.35, color = 'b')\n",
        "plt.scatter(X_new[:, 0], X_new[:, 1], alpha = 0.35, color = 'r')\n",
        "plt.axis('equal');"
      ],
      "execution_count": 216,
      "outputs": [
        {
          "output_type": "display_data",
          "data": {
            "image/png": "[encoded data removed]",
            "text/plain": [
              "<Figure size 432x288 with 1 Axes>"
            ]
          },
          "metadata": {
            "tags": [],
            "needs_background": "light"
          }
        }
      ]
    }
  ]
}