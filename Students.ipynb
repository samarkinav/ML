{
  "nbformat": 4,
  "nbformat_minor": 0,
  "metadata": {
    "colab": {
      "name": "Копия блокнота \"Untitled0.ipynb\"",
      "provenance": [],
      "collapsed_sections": [],
      "authorship_tag": "ABX9TyOGizRidYvvugIUrsD7yhQG",
      "include_colab_link": true
    },
    "kernelspec": {
      "name": "python3",
      "display_name": "Python 3"
    }
  },
  "cells": [
    {
      "cell_type": "markdown",
      "metadata": {
        "id": "view-in-github",
        "colab_type": "text"
      },
      "source": [
        "<a href=\"https://colab.research.google.com/github/samarkinav/ML/blob/main/Students.ipynb\" target=\"_parent\"><img src=\"https://colab.research.google.com/assets/colab-badge.svg\" alt=\"Open In Colab\"/></a>"
      ]
    },
    {
      "cell_type": "markdown",
      "metadata": {
        "id": "mk8-iUmJ3Nhi"
      },
      "source": [
        "#**Результаты экзамена** \n"
      ]
    },
    {
      "cell_type": "markdown",
      "metadata": {
        "id": "LqwlX-En3iZY"
      },
      "source": [
        "Мы хотим предсказать сдаст или не сдаст студент экзамен исходя из социальной, гендерной и учебной информации о нём."
      ]
    },
    {
      "cell_type": "markdown",
      "metadata": {
        "id": "JSSg4ldz3lyC"
      },
      "source": [
        "##1. Загрузка данных\n",
        "\n"
      ]
    },
    {
      "cell_type": "code",
      "metadata": {
        "id": "c2X6LCj83HVx"
      },
      "source": [
        "import numpy as np\n",
        "import matplotlib.pyplot as plt\n",
        "%matplotlib inline \n",
        "import pandas as pd \n",
        "import seaborn as sns \n",
        "import sklearn"
      ],
      "execution_count": null,
      "outputs": []
    },
    {
      "cell_type": "code",
      "metadata": {
        "id": "lNLIOr9738Lt"
      },
      "source": [
        "url = \"https://raw.githubusercontent.com/samarkinav/ML/main/students_final.csv\"\n",
        "data_raw = pd.read_csv(url)"
      ],
      "execution_count": null,
      "outputs": []
    },
    {
      "cell_type": "markdown",
      "metadata": {
        "id": "QhKt6sAm4Ayc"
      },
      "source": [
        "Таблица содержит данные о студентах, обучающихся на курсах математики и португальского языка в средней школе.\n",
        "Вначале посмотрим на размеры таблицы - количество строк (каждая строка соответствует одному студенту) и количество столбцов (каждый столбец соответствует конкретному признаку):"
      ]
    },
    {
      "cell_type": "code",
      "metadata": {
        "id": "gfubuRH9395b",
        "outputId": "792af61b-cb21-4bbf-b0ad-fc4beac3e74d",
        "colab": {
          "base_uri": "https://localhost:8080/",
          "height": 34
        }
      },
      "source": [
        "data_raw.shape"
      ],
      "execution_count": null,
      "outputs": [
        {
          "output_type": "execute_result",
          "data": {
            "text/plain": [
              "(1044, 31)"
            ]
          },
          "metadata": {
            "tags": []
          },
          "execution_count": 4
        }
      ]
    },
    {
      "cell_type": "code",
      "metadata": {
        "id": "48IF_Bdt6BFG",
        "outputId": "9e59a320-ceaa-408d-8c3a-85ef907cb2ee",
        "colab": {
          "base_uri": "https://localhost:8080/",
          "height": 34
        }
      },
      "source": [
        "type(data_raw)"
      ],
      "execution_count": null,
      "outputs": [
        {
          "output_type": "execute_result",
          "data": {
            "text/plain": [
              "pandas.core.frame.DataFrame"
            ]
          },
          "metadata": {
            "tags": []
          },
          "execution_count": 5
        }
      ]
    },
    {
      "cell_type": "code",
      "metadata": {
        "id": "lZt3A7c56F0p",
        "outputId": "37c533a2-5f1a-4250-c3d5-95eedf75c85e",
        "colab": {
          "base_uri": "https://localhost:8080/",
          "height": 224
        }
      },
      "source": [
        "data_raw.head()"
      ],
      "execution_count": null,
      "outputs": [
        {
          "output_type": "execute_result",
          "data": {
            "text/html": [
              "<div>\n",
              "<style scoped>\n",
              "    .dataframe tbody tr th:only-of-type {\n",
              "        vertical-align: middle;\n",
              "    }\n",
              "\n",
              "    .dataframe tbody tr th {\n",
              "        vertical-align: top;\n",
              "    }\n",
              "\n",
              "    .dataframe thead th {\n",
              "        text-align: right;\n",
              "    }\n",
              "</style>\n",
              "<table border=\"1\" class=\"dataframe\">\n",
              "  <thead>\n",
              "    <tr style=\"text-align: right;\">\n",
              "      <th></th>\n",
              "      <th>school</th>\n",
              "      <th>sex</th>\n",
              "      <th>age</th>\n",
              "      <th>address</th>\n",
              "      <th>famsize</th>\n",
              "      <th>Pstatus</th>\n",
              "      <th>Medu</th>\n",
              "      <th>Fedu</th>\n",
              "      <th>Mjob</th>\n",
              "      <th>Fjob</th>\n",
              "      <th>reason</th>\n",
              "      <th>guardian</th>\n",
              "      <th>traveltime</th>\n",
              "      <th>studytime</th>\n",
              "      <th>failures</th>\n",
              "      <th>schoolsup</th>\n",
              "      <th>famsup</th>\n",
              "      <th>paid</th>\n",
              "      <th>activities</th>\n",
              "      <th>nursery</th>\n",
              "      <th>higher</th>\n",
              "      <th>internet</th>\n",
              "      <th>romantic</th>\n",
              "      <th>famrel</th>\n",
              "      <th>freetime</th>\n",
              "      <th>goout</th>\n",
              "      <th>Dalc</th>\n",
              "      <th>Walc</th>\n",
              "      <th>health</th>\n",
              "      <th>absences</th>\n",
              "      <th>Mark</th>\n",
              "    </tr>\n",
              "  </thead>\n",
              "  <tbody>\n",
              "    <tr>\n",
              "      <th>0</th>\n",
              "      <td>GP</td>\n",
              "      <td>F</td>\n",
              "      <td>18</td>\n",
              "      <td>U</td>\n",
              "      <td>GT3</td>\n",
              "      <td>A</td>\n",
              "      <td>4</td>\n",
              "      <td>4</td>\n",
              "      <td>at_home</td>\n",
              "      <td>teacher</td>\n",
              "      <td>course</td>\n",
              "      <td>mother</td>\n",
              "      <td>2</td>\n",
              "      <td>2</td>\n",
              "      <td>0</td>\n",
              "      <td>yes</td>\n",
              "      <td>no</td>\n",
              "      <td>no</td>\n",
              "      <td>no</td>\n",
              "      <td>yes</td>\n",
              "      <td>yes</td>\n",
              "      <td>no</td>\n",
              "      <td>no</td>\n",
              "      <td>4</td>\n",
              "      <td>3</td>\n",
              "      <td>4</td>\n",
              "      <td>1</td>\n",
              "      <td>1</td>\n",
              "      <td>3</td>\n",
              "      <td>6</td>\n",
              "      <td>fail</td>\n",
              "    </tr>\n",
              "    <tr>\n",
              "      <th>1</th>\n",
              "      <td>GP</td>\n",
              "      <td>F</td>\n",
              "      <td>17</td>\n",
              "      <td>U</td>\n",
              "      <td>GT3</td>\n",
              "      <td>T</td>\n",
              "      <td>1</td>\n",
              "      <td>1</td>\n",
              "      <td>at_home</td>\n",
              "      <td>other</td>\n",
              "      <td>course</td>\n",
              "      <td>father</td>\n",
              "      <td>1</td>\n",
              "      <td>2</td>\n",
              "      <td>0</td>\n",
              "      <td>no</td>\n",
              "      <td>yes</td>\n",
              "      <td>no</td>\n",
              "      <td>no</td>\n",
              "      <td>no</td>\n",
              "      <td>yes</td>\n",
              "      <td>yes</td>\n",
              "      <td>no</td>\n",
              "      <td>5</td>\n",
              "      <td>3</td>\n",
              "      <td>3</td>\n",
              "      <td>1</td>\n",
              "      <td>1</td>\n",
              "      <td>3</td>\n",
              "      <td>4</td>\n",
              "      <td>fail</td>\n",
              "    </tr>\n",
              "    <tr>\n",
              "      <th>2</th>\n",
              "      <td>GP</td>\n",
              "      <td>F</td>\n",
              "      <td>15</td>\n",
              "      <td>U</td>\n",
              "      <td>LE3</td>\n",
              "      <td>T</td>\n",
              "      <td>1</td>\n",
              "      <td>1</td>\n",
              "      <td>at_home</td>\n",
              "      <td>other</td>\n",
              "      <td>other</td>\n",
              "      <td>mother</td>\n",
              "      <td>1</td>\n",
              "      <td>2</td>\n",
              "      <td>3</td>\n",
              "      <td>yes</td>\n",
              "      <td>no</td>\n",
              "      <td>yes</td>\n",
              "      <td>no</td>\n",
              "      <td>yes</td>\n",
              "      <td>yes</td>\n",
              "      <td>yes</td>\n",
              "      <td>no</td>\n",
              "      <td>4</td>\n",
              "      <td>3</td>\n",
              "      <td>2</td>\n",
              "      <td>2</td>\n",
              "      <td>3</td>\n",
              "      <td>3</td>\n",
              "      <td>10</td>\n",
              "      <td>passed</td>\n",
              "    </tr>\n",
              "    <tr>\n",
              "      <th>3</th>\n",
              "      <td>GP</td>\n",
              "      <td>F</td>\n",
              "      <td>15</td>\n",
              "      <td>U</td>\n",
              "      <td>GT3</td>\n",
              "      <td>T</td>\n",
              "      <td>4</td>\n",
              "      <td>2</td>\n",
              "      <td>health</td>\n",
              "      <td>services</td>\n",
              "      <td>home</td>\n",
              "      <td>mother</td>\n",
              "      <td>1</td>\n",
              "      <td>3</td>\n",
              "      <td>0</td>\n",
              "      <td>no</td>\n",
              "      <td>yes</td>\n",
              "      <td>yes</td>\n",
              "      <td>yes</td>\n",
              "      <td>yes</td>\n",
              "      <td>yes</td>\n",
              "      <td>yes</td>\n",
              "      <td>yes</td>\n",
              "      <td>3</td>\n",
              "      <td>2</td>\n",
              "      <td>2</td>\n",
              "      <td>1</td>\n",
              "      <td>1</td>\n",
              "      <td>5</td>\n",
              "      <td>2</td>\n",
              "      <td>passed</td>\n",
              "    </tr>\n",
              "    <tr>\n",
              "      <th>4</th>\n",
              "      <td>GP</td>\n",
              "      <td>F</td>\n",
              "      <td>16</td>\n",
              "      <td>U</td>\n",
              "      <td>GT3</td>\n",
              "      <td>T</td>\n",
              "      <td>3</td>\n",
              "      <td>3</td>\n",
              "      <td>other</td>\n",
              "      <td>other</td>\n",
              "      <td>home</td>\n",
              "      <td>father</td>\n",
              "      <td>1</td>\n",
              "      <td>2</td>\n",
              "      <td>0</td>\n",
              "      <td>no</td>\n",
              "      <td>yes</td>\n",
              "      <td>yes</td>\n",
              "      <td>no</td>\n",
              "      <td>yes</td>\n",
              "      <td>yes</td>\n",
              "      <td>no</td>\n",
              "      <td>no</td>\n",
              "      <td>4</td>\n",
              "      <td>3</td>\n",
              "      <td>2</td>\n",
              "      <td>1</td>\n",
              "      <td>2</td>\n",
              "      <td>5</td>\n",
              "      <td>4</td>\n",
              "      <td>passed</td>\n",
              "    </tr>\n",
              "  </tbody>\n",
              "</table>\n",
              "</div>"
            ],
            "text/plain": [
              "  school sex  age address famsize  ... Dalc  Walc  health absences    Mark\n",
              "0     GP   F   18       U     GT3  ...    1     1       3        6    fail\n",
              "1     GP   F   17       U     GT3  ...    1     1       3        4    fail\n",
              "2     GP   F   15       U     LE3  ...    2     3       3       10  passed\n",
              "3     GP   F   15       U     GT3  ...    1     1       5        2  passed\n",
              "4     GP   F   16       U     GT3  ...    1     2       5        4  passed\n",
              "\n",
              "[5 rows x 31 columns]"
            ]
          },
          "metadata": {
            "tags": []
          },
          "execution_count": 6
        }
      ]
    },
    {
      "cell_type": "code",
      "metadata": {
        "id": "ufzq74LH6HSh",
        "outputId": "4266f86b-98e2-402b-95ba-06394bd22a1c",
        "colab": {
          "base_uri": "https://localhost:8080/",
          "height": 224
        }
      },
      "source": [
        "data_raw.tail()"
      ],
      "execution_count": null,
      "outputs": [
        {
          "output_type": "execute_result",
          "data": {
            "text/html": [
              "<div>\n",
              "<style scoped>\n",
              "    .dataframe tbody tr th:only-of-type {\n",
              "        vertical-align: middle;\n",
              "    }\n",
              "\n",
              "    .dataframe tbody tr th {\n",
              "        vertical-align: top;\n",
              "    }\n",
              "\n",
              "    .dataframe thead th {\n",
              "        text-align: right;\n",
              "    }\n",
              "</style>\n",
              "<table border=\"1\" class=\"dataframe\">\n",
              "  <thead>\n",
              "    <tr style=\"text-align: right;\">\n",
              "      <th></th>\n",
              "      <th>school</th>\n",
              "      <th>sex</th>\n",
              "      <th>age</th>\n",
              "      <th>address</th>\n",
              "      <th>famsize</th>\n",
              "      <th>Pstatus</th>\n",
              "      <th>Medu</th>\n",
              "      <th>Fedu</th>\n",
              "      <th>Mjob</th>\n",
              "      <th>Fjob</th>\n",
              "      <th>reason</th>\n",
              "      <th>guardian</th>\n",
              "      <th>traveltime</th>\n",
              "      <th>studytime</th>\n",
              "      <th>failures</th>\n",
              "      <th>schoolsup</th>\n",
              "      <th>famsup</th>\n",
              "      <th>paid</th>\n",
              "      <th>activities</th>\n",
              "      <th>nursery</th>\n",
              "      <th>higher</th>\n",
              "      <th>internet</th>\n",
              "      <th>romantic</th>\n",
              "      <th>famrel</th>\n",
              "      <th>freetime</th>\n",
              "      <th>goout</th>\n",
              "      <th>Dalc</th>\n",
              "      <th>Walc</th>\n",
              "      <th>health</th>\n",
              "      <th>absences</th>\n",
              "      <th>Mark</th>\n",
              "    </tr>\n",
              "  </thead>\n",
              "  <tbody>\n",
              "    <tr>\n",
              "      <th>1039</th>\n",
              "      <td>MS</td>\n",
              "      <td>F</td>\n",
              "      <td>19</td>\n",
              "      <td>R</td>\n",
              "      <td>GT3</td>\n",
              "      <td>T</td>\n",
              "      <td>2</td>\n",
              "      <td>3</td>\n",
              "      <td>services</td>\n",
              "      <td>other</td>\n",
              "      <td>course</td>\n",
              "      <td>mother</td>\n",
              "      <td>1</td>\n",
              "      <td>3</td>\n",
              "      <td>1</td>\n",
              "      <td>no</td>\n",
              "      <td>no</td>\n",
              "      <td>NaN</td>\n",
              "      <td>yes</td>\n",
              "      <td>no</td>\n",
              "      <td>yes</td>\n",
              "      <td>yes</td>\n",
              "      <td>no</td>\n",
              "      <td>5</td>\n",
              "      <td>4</td>\n",
              "      <td>2</td>\n",
              "      <td>1</td>\n",
              "      <td>2</td>\n",
              "      <td>5</td>\n",
              "      <td>4</td>\n",
              "      <td>passed</td>\n",
              "    </tr>\n",
              "    <tr>\n",
              "      <th>1040</th>\n",
              "      <td>MS</td>\n",
              "      <td>F</td>\n",
              "      <td>18</td>\n",
              "      <td>U</td>\n",
              "      <td>LE3</td>\n",
              "      <td>T</td>\n",
              "      <td>3</td>\n",
              "      <td>1</td>\n",
              "      <td>teacher</td>\n",
              "      <td>services</td>\n",
              "      <td>course</td>\n",
              "      <td>mother</td>\n",
              "      <td>1</td>\n",
              "      <td>2</td>\n",
              "      <td>0</td>\n",
              "      <td>no</td>\n",
              "      <td>yes</td>\n",
              "      <td>no</td>\n",
              "      <td>no</td>\n",
              "      <td>yes</td>\n",
              "      <td>yes</td>\n",
              "      <td>yes</td>\n",
              "      <td>no</td>\n",
              "      <td>4</td>\n",
              "      <td>3</td>\n",
              "      <td>4</td>\n",
              "      <td>1</td>\n",
              "      <td>1</td>\n",
              "      <td>1</td>\n",
              "      <td>4</td>\n",
              "      <td>passed</td>\n",
              "    </tr>\n",
              "    <tr>\n",
              "      <th>1041</th>\n",
              "      <td>MS</td>\n",
              "      <td>F</td>\n",
              "      <td>18</td>\n",
              "      <td>U</td>\n",
              "      <td>GT3</td>\n",
              "      <td>T</td>\n",
              "      <td>1</td>\n",
              "      <td>1</td>\n",
              "      <td>other</td>\n",
              "      <td>other</td>\n",
              "      <td>course</td>\n",
              "      <td>mother</td>\n",
              "      <td>2</td>\n",
              "      <td>2</td>\n",
              "      <td>0</td>\n",
              "      <td>no</td>\n",
              "      <td>no</td>\n",
              "      <td>no</td>\n",
              "      <td>yes</td>\n",
              "      <td>yes</td>\n",
              "      <td>yes</td>\n",
              "      <td>no</td>\n",
              "      <td>no</td>\n",
              "      <td>1</td>\n",
              "      <td>1</td>\n",
              "      <td>1</td>\n",
              "      <td>1</td>\n",
              "      <td>1</td>\n",
              "      <td>5</td>\n",
              "      <td>6</td>\n",
              "      <td>fail</td>\n",
              "    </tr>\n",
              "    <tr>\n",
              "      <th>1042</th>\n",
              "      <td>MS</td>\n",
              "      <td>M</td>\n",
              "      <td>17</td>\n",
              "      <td>U</td>\n",
              "      <td>LE3</td>\n",
              "      <td>T</td>\n",
              "      <td>3</td>\n",
              "      <td>1</td>\n",
              "      <td>services</td>\n",
              "      <td>services</td>\n",
              "      <td>course</td>\n",
              "      <td>mother</td>\n",
              "      <td>2</td>\n",
              "      <td>1</td>\n",
              "      <td>0</td>\n",
              "      <td>no</td>\n",
              "      <td>no</td>\n",
              "      <td>no</td>\n",
              "      <td>no</td>\n",
              "      <td>no</td>\n",
              "      <td>yes</td>\n",
              "      <td>yes</td>\n",
              "      <td>no</td>\n",
              "      <td>2</td>\n",
              "      <td>4</td>\n",
              "      <td>5</td>\n",
              "      <td>3</td>\n",
              "      <td>4</td>\n",
              "      <td>2</td>\n",
              "      <td>6</td>\n",
              "      <td>passed</td>\n",
              "    </tr>\n",
              "    <tr>\n",
              "      <th>1043</th>\n",
              "      <td>MS</td>\n",
              "      <td>M</td>\n",
              "      <td>18</td>\n",
              "      <td>R</td>\n",
              "      <td>LE3</td>\n",
              "      <td>T</td>\n",
              "      <td>3</td>\n",
              "      <td>2</td>\n",
              "      <td>services</td>\n",
              "      <td>other</td>\n",
              "      <td>course</td>\n",
              "      <td>mother</td>\n",
              "      <td>3</td>\n",
              "      <td>1</td>\n",
              "      <td>0</td>\n",
              "      <td>no</td>\n",
              "      <td>no</td>\n",
              "      <td>no</td>\n",
              "      <td>no</td>\n",
              "      <td>no</td>\n",
              "      <td>yes</td>\n",
              "      <td>yes</td>\n",
              "      <td>no</td>\n",
              "      <td>4</td>\n",
              "      <td>4</td>\n",
              "      <td>1</td>\n",
              "      <td>3</td>\n",
              "      <td>4</td>\n",
              "      <td>5</td>\n",
              "      <td>4</td>\n",
              "      <td>passed</td>\n",
              "    </tr>\n",
              "  </tbody>\n",
              "</table>\n",
              "</div>"
            ],
            "text/plain": [
              "     school sex  age address famsize  ... Dalc  Walc  health absences    Mark\n",
              "1039     MS   F   19       R     GT3  ...    1     2       5        4  passed\n",
              "1040     MS   F   18       U     LE3  ...    1     1       1        4  passed\n",
              "1041     MS   F   18       U     GT3  ...    1     1       5        6    fail\n",
              "1042     MS   M   17       U     LE3  ...    3     4       2        6  passed\n",
              "1043     MS   M   18       R     LE3  ...    3     4       5        4  passed\n",
              "\n",
              "[5 rows x 31 columns]"
            ]
          },
          "metadata": {
            "tags": []
          },
          "execution_count": 7
        }
      ]
    },
    {
      "cell_type": "markdown",
      "metadata": {
        "id": "QlXaX0Yt6aUh"
      },
      "source": [
        "Мы видим, что столбцы (признаки) имеют названия:\n",
        "\n",
        "\n",
        "*   school - школа студента (двоичный: 'GP' - Gabriel Pereira или 'MS' - Mousinho da Silveira) \n",
        "*   sex - пол студента (двоичный: 'F' - женский или 'M' - мужской)\n",
        "*   age - возраст студента (числовой: от 15 до 22)\n",
        "*   address - тип домашнего адреса студента (двоичный: 'U' - городской or 'R' - сельский)\n",
        "*   famsize - размер семьи (двоичный: 'LE3' - меньше или равно 3 или 'GT3' - больше 3) \n",
        "*   Pstatus - статус сожительства родителей (двоичный: 'T' - живут вместе или 'A' - раздельно) \n",
        "*   Medu - образование матери (числовой: 0 - без, 1 - начальное образование (4 класса), 2 – с 5 по 9 класс, 3 – среднее образование или 4 – высшее образование) \n",
        "*   Fedu - образование отца (числовой: 0 - без, 1 - начальное образование (4 класса), 2 – с 5 по 9 \n",
        "класс, 3 – среднее образование или 4 – высшее образование) \n",
        "*   Mjob - работа матери (номинальный: 'teacher', 'health' care related, civil 'services', 'at_home' или 'other') \n",
        "*   Fjob - father's job (nominal: 'teacher', 'health' care related, civil 'services', 'at_home' или 'other')\n",
        "*   reason - причина выбора данной школы (номинальный: близко к 'home', школьная 'reputation', 'course' или 'other')\n",
        "*   guardian - опекун студента (номинальный: 'mother', 'father' или 'other') • traveltime - время в пути от дома до школы (номинальный: 1 - 1 hour)\n",
        "*   studytime - кол-во учебного времени в неделю (номинальный: 1 - 10 hours)\n",
        "*   failures - кол-во пропущенных занятий \n",
        "*   schoolsup - дополнительная образовательная поддержка (двоичный: yes или no)\n",
        "*   famsup - семейная образовательная поддержка (двоичный: yes или no)\n",
        "*   paid - платные дополнительные занятия по курсу (математика или португальский) (двоичный: yes или no) \n",
        "*   activities - внеклассные мероприятия (двоичный: yes или no)\n",
        "*   nursery - посещал ли студент детский сад (двоичный: yes или no)\n",
        "*   higher - хочет ли студент получить высшее образование (двоичный: yes или no)\n",
        "*   internet - доступ к Интернету дома (двоичный: yes или no)\n",
        "*   romantic - состоит ли студент в романтических отношениях ((двоичный: yes или no)\n",
        "*   famrel - качество семейных отношений (номинальный: от 1 - очень плохо до 5 - прекрасно) \n",
        "*   freetime - свободное рвемя после школы (номинальный: от 1 - очень мало до 5 - очень много)\n",
        "*   goout - встречи с друзьями (номинальный: от 1 - очень мало до 5 - очень много)\n",
        "*   Dalc - потребление алкоголя в течение будних дней (номинальный: от 1 - очень мало до 5 - очень много)\n",
        "*   Walc - потребление алкоголя в течение выходных дней (номинальный: от 1 - очень мало до 5 - очень много) \n",
        "*   health - текущее состояние здоровья (номинальный: от 1 - очень плохо до 5 - очень хорошо)\n",
        "*   absences - кол-во пропусков в школе (номинальное: от 0 до 93)\n",
        "\n",
        "У каждого студента есть итоговая оценка ('fail' и 'passed')\n",
        "Требуется предсказать результат студента Mark по остальным признакам. Это задача классификации."
      ]
    },
    {
      "cell_type": "code",
      "metadata": {
        "id": "2fwQzLFL6JLm",
        "outputId": "47884662-db51-4089-8428-2dc59bb50117",
        "colab": {
          "base_uri": "https://localhost:8080/",
          "height": 119
        }
      },
      "source": [
        "data_raw.columns"
      ],
      "execution_count": null,
      "outputs": [
        {
          "output_type": "execute_result",
          "data": {
            "text/plain": [
              "Index(['school', 'sex', 'age', 'address', 'famsize', 'Pstatus', 'Medu', 'Fedu',\n",
              "       'Mjob', 'Fjob', 'reason', 'guardian', 'traveltime', 'studytime',\n",
              "       'failures', 'schoolsup', 'famsup', 'paid', 'activities', 'nursery',\n",
              "       'higher', 'internet', 'romantic', 'famrel', 'freetime', 'goout', 'Dalc',\n",
              "       'Walc', 'health', 'absences', 'Mark'],\n",
              "      dtype='object')"
            ]
          },
          "metadata": {
            "tags": []
          },
          "execution_count": 8
        }
      ]
    },
    {
      "cell_type": "code",
      "metadata": {
        "id": "kEz3uYCp6cdF",
        "outputId": "55eea679-186f-457a-cbde-305de463c1d3",
        "colab": {
          "base_uri": "https://localhost:8080/",
          "height": 34
        }
      },
      "source": [
        "data_raw.index"
      ],
      "execution_count": null,
      "outputs": [
        {
          "output_type": "execute_result",
          "data": {
            "text/plain": [
              "RangeIndex(start=0, stop=1044, step=1)"
            ]
          },
          "metadata": {
            "tags": []
          },
          "execution_count": 9
        }
      ]
    },
    {
      "cell_type": "markdown",
      "metadata": {
        "id": "FXR-F7Bz8Lc0"
      },
      "source": [
        "##2. Визуализация данных и вычисление основных характеристик"
      ]
    },
    {
      "cell_type": "markdown",
      "metadata": {
        "id": "fw1XUrMb83hw"
      },
      "source": [
        "Вначале рассмотрим среднее значение, стандартное отклонение, минимальное и максимальное значения, медиану и квартили. По умолчанию этот метод даёт информацию только о количественных признаках."
      ]
    },
    {
      "cell_type": "code",
      "metadata": {
        "id": "lg_k-wMk6dxA",
        "outputId": "bb369726-c4ea-46ed-fd30-0f36d75d98c5",
        "colab": {
          "base_uri": "https://localhost:8080/",
          "height": 317
        }
      },
      "source": [
        "data_raw.describe()"
      ],
      "execution_count": null,
      "outputs": [
        {
          "output_type": "execute_result",
          "data": {
            "text/html": [
              "<div>\n",
              "<style scoped>\n",
              "    .dataframe tbody tr th:only-of-type {\n",
              "        vertical-align: middle;\n",
              "    }\n",
              "\n",
              "    .dataframe tbody tr th {\n",
              "        vertical-align: top;\n",
              "    }\n",
              "\n",
              "    .dataframe thead th {\n",
              "        text-align: right;\n",
              "    }\n",
              "</style>\n",
              "<table border=\"1\" class=\"dataframe\">\n",
              "  <thead>\n",
              "    <tr style=\"text-align: right;\">\n",
              "      <th></th>\n",
              "      <th>age</th>\n",
              "      <th>Medu</th>\n",
              "      <th>Fedu</th>\n",
              "      <th>traveltime</th>\n",
              "      <th>studytime</th>\n",
              "      <th>failures</th>\n",
              "      <th>famrel</th>\n",
              "      <th>freetime</th>\n",
              "      <th>goout</th>\n",
              "      <th>Dalc</th>\n",
              "      <th>Walc</th>\n",
              "      <th>health</th>\n",
              "      <th>absences</th>\n",
              "    </tr>\n",
              "  </thead>\n",
              "  <tbody>\n",
              "    <tr>\n",
              "      <th>count</th>\n",
              "      <td>1044.000000</td>\n",
              "      <td>1044.000000</td>\n",
              "      <td>1044.000000</td>\n",
              "      <td>1044.000000</td>\n",
              "      <td>1044.000000</td>\n",
              "      <td>1044.000000</td>\n",
              "      <td>1044.000000</td>\n",
              "      <td>1044.000000</td>\n",
              "      <td>1044.000000</td>\n",
              "      <td>1044.000000</td>\n",
              "      <td>1044.000000</td>\n",
              "      <td>1044.000000</td>\n",
              "      <td>1044.000000</td>\n",
              "    </tr>\n",
              "    <tr>\n",
              "      <th>mean</th>\n",
              "      <td>16.726054</td>\n",
              "      <td>2.603448</td>\n",
              "      <td>2.387931</td>\n",
              "      <td>1.522989</td>\n",
              "      <td>1.970307</td>\n",
              "      <td>0.264368</td>\n",
              "      <td>3.935824</td>\n",
              "      <td>3.201149</td>\n",
              "      <td>3.156130</td>\n",
              "      <td>1.494253</td>\n",
              "      <td>2.284483</td>\n",
              "      <td>3.543103</td>\n",
              "      <td>4.434866</td>\n",
              "    </tr>\n",
              "    <tr>\n",
              "      <th>std</th>\n",
              "      <td>1.239975</td>\n",
              "      <td>1.124907</td>\n",
              "      <td>1.099938</td>\n",
              "      <td>0.731727</td>\n",
              "      <td>0.834353</td>\n",
              "      <td>0.656142</td>\n",
              "      <td>0.933401</td>\n",
              "      <td>1.031507</td>\n",
              "      <td>1.152575</td>\n",
              "      <td>0.911714</td>\n",
              "      <td>1.285105</td>\n",
              "      <td>1.424703</td>\n",
              "      <td>6.210017</td>\n",
              "    </tr>\n",
              "    <tr>\n",
              "      <th>min</th>\n",
              "      <td>15.000000</td>\n",
              "      <td>0.000000</td>\n",
              "      <td>0.000000</td>\n",
              "      <td>1.000000</td>\n",
              "      <td>1.000000</td>\n",
              "      <td>0.000000</td>\n",
              "      <td>1.000000</td>\n",
              "      <td>1.000000</td>\n",
              "      <td>1.000000</td>\n",
              "      <td>1.000000</td>\n",
              "      <td>1.000000</td>\n",
              "      <td>1.000000</td>\n",
              "      <td>0.000000</td>\n",
              "    </tr>\n",
              "    <tr>\n",
              "      <th>25%</th>\n",
              "      <td>16.000000</td>\n",
              "      <td>2.000000</td>\n",
              "      <td>1.000000</td>\n",
              "      <td>1.000000</td>\n",
              "      <td>1.000000</td>\n",
              "      <td>0.000000</td>\n",
              "      <td>4.000000</td>\n",
              "      <td>3.000000</td>\n",
              "      <td>2.000000</td>\n",
              "      <td>1.000000</td>\n",
              "      <td>1.000000</td>\n",
              "      <td>3.000000</td>\n",
              "      <td>0.000000</td>\n",
              "    </tr>\n",
              "    <tr>\n",
              "      <th>50%</th>\n",
              "      <td>17.000000</td>\n",
              "      <td>3.000000</td>\n",
              "      <td>2.000000</td>\n",
              "      <td>1.000000</td>\n",
              "      <td>2.000000</td>\n",
              "      <td>0.000000</td>\n",
              "      <td>4.000000</td>\n",
              "      <td>3.000000</td>\n",
              "      <td>3.000000</td>\n",
              "      <td>1.000000</td>\n",
              "      <td>2.000000</td>\n",
              "      <td>4.000000</td>\n",
              "      <td>2.000000</td>\n",
              "    </tr>\n",
              "    <tr>\n",
              "      <th>75%</th>\n",
              "      <td>18.000000</td>\n",
              "      <td>4.000000</td>\n",
              "      <td>3.000000</td>\n",
              "      <td>2.000000</td>\n",
              "      <td>2.000000</td>\n",
              "      <td>0.000000</td>\n",
              "      <td>5.000000</td>\n",
              "      <td>4.000000</td>\n",
              "      <td>4.000000</td>\n",
              "      <td>2.000000</td>\n",
              "      <td>3.000000</td>\n",
              "      <td>5.000000</td>\n",
              "      <td>6.000000</td>\n",
              "    </tr>\n",
              "    <tr>\n",
              "      <th>max</th>\n",
              "      <td>22.000000</td>\n",
              "      <td>4.000000</td>\n",
              "      <td>4.000000</td>\n",
              "      <td>4.000000</td>\n",
              "      <td>4.000000</td>\n",
              "      <td>3.000000</td>\n",
              "      <td>5.000000</td>\n",
              "      <td>5.000000</td>\n",
              "      <td>5.000000</td>\n",
              "      <td>5.000000</td>\n",
              "      <td>5.000000</td>\n",
              "      <td>5.000000</td>\n",
              "      <td>75.000000</td>\n",
              "    </tr>\n",
              "  </tbody>\n",
              "</table>\n",
              "</div>"
            ],
            "text/plain": [
              "               age         Medu  ...       health     absences\n",
              "count  1044.000000  1044.000000  ...  1044.000000  1044.000000\n",
              "mean     16.726054     2.603448  ...     3.543103     4.434866\n",
              "std       1.239975     1.124907  ...     1.424703     6.210017\n",
              "min      15.000000     0.000000  ...     1.000000     0.000000\n",
              "25%      16.000000     2.000000  ...     3.000000     0.000000\n",
              "50%      17.000000     3.000000  ...     4.000000     2.000000\n",
              "75%      18.000000     4.000000  ...     5.000000     6.000000\n",
              "max      22.000000     4.000000  ...     5.000000    75.000000\n",
              "\n",
              "[8 rows x 13 columns]"
            ]
          },
          "metadata": {
            "tags": []
          },
          "execution_count": 10
        }
      ]
    },
    {
      "cell_type": "markdown",
      "metadata": {
        "id": "mlYBDDWH877U"
      },
      "source": [
        "Получим информацию о категориальных признаках:"
      ]
    },
    {
      "cell_type": "code",
      "metadata": {
        "id": "NtYlwPpI85bH",
        "outputId": "d4d5cd8f-7fc1-4631-ea3c-0ec18ee73e3d",
        "colab": {
          "base_uri": "https://localhost:8080/",
          "height": 193
        }
      },
      "source": [
        "data_raw.describe(include = ['object'])"
      ],
      "execution_count": null,
      "outputs": [
        {
          "output_type": "execute_result",
          "data": {
            "text/html": [
              "<div>\n",
              "<style scoped>\n",
              "    .dataframe tbody tr th:only-of-type {\n",
              "        vertical-align: middle;\n",
              "    }\n",
              "\n",
              "    .dataframe tbody tr th {\n",
              "        vertical-align: top;\n",
              "    }\n",
              "\n",
              "    .dataframe thead th {\n",
              "        text-align: right;\n",
              "    }\n",
              "</style>\n",
              "<table border=\"1\" class=\"dataframe\">\n",
              "  <thead>\n",
              "    <tr style=\"text-align: right;\">\n",
              "      <th></th>\n",
              "      <th>school</th>\n",
              "      <th>sex</th>\n",
              "      <th>address</th>\n",
              "      <th>famsize</th>\n",
              "      <th>Pstatus</th>\n",
              "      <th>Mjob</th>\n",
              "      <th>Fjob</th>\n",
              "      <th>reason</th>\n",
              "      <th>guardian</th>\n",
              "      <th>schoolsup</th>\n",
              "      <th>famsup</th>\n",
              "      <th>paid</th>\n",
              "      <th>activities</th>\n",
              "      <th>nursery</th>\n",
              "      <th>higher</th>\n",
              "      <th>internet</th>\n",
              "      <th>romantic</th>\n",
              "      <th>Mark</th>\n",
              "    </tr>\n",
              "  </thead>\n",
              "  <tbody>\n",
              "    <tr>\n",
              "      <th>count</th>\n",
              "      <td>1044</td>\n",
              "      <td>1044</td>\n",
              "      <td>1044</td>\n",
              "      <td>1044</td>\n",
              "      <td>1044</td>\n",
              "      <td>1044</td>\n",
              "      <td>1020</td>\n",
              "      <td>1037</td>\n",
              "      <td>1044</td>\n",
              "      <td>1044</td>\n",
              "      <td>1033</td>\n",
              "      <td>1024</td>\n",
              "      <td>1037</td>\n",
              "      <td>1044</td>\n",
              "      <td>1044</td>\n",
              "      <td>1044</td>\n",
              "      <td>1044</td>\n",
              "      <td>1044</td>\n",
              "    </tr>\n",
              "    <tr>\n",
              "      <th>unique</th>\n",
              "      <td>2</td>\n",
              "      <td>2</td>\n",
              "      <td>2</td>\n",
              "      <td>2</td>\n",
              "      <td>2</td>\n",
              "      <td>5</td>\n",
              "      <td>5</td>\n",
              "      <td>4</td>\n",
              "      <td>3</td>\n",
              "      <td>2</td>\n",
              "      <td>2</td>\n",
              "      <td>2</td>\n",
              "      <td>2</td>\n",
              "      <td>2</td>\n",
              "      <td>2</td>\n",
              "      <td>2</td>\n",
              "      <td>2</td>\n",
              "      <td>2</td>\n",
              "    </tr>\n",
              "    <tr>\n",
              "      <th>top</th>\n",
              "      <td>GP</td>\n",
              "      <td>F</td>\n",
              "      <td>U</td>\n",
              "      <td>GT3</td>\n",
              "      <td>T</td>\n",
              "      <td>other</td>\n",
              "      <td>other</td>\n",
              "      <td>course</td>\n",
              "      <td>mother</td>\n",
              "      <td>no</td>\n",
              "      <td>yes</td>\n",
              "      <td>no</td>\n",
              "      <td>no</td>\n",
              "      <td>yes</td>\n",
              "      <td>yes</td>\n",
              "      <td>yes</td>\n",
              "      <td>no</td>\n",
              "      <td>passed</td>\n",
              "    </tr>\n",
              "    <tr>\n",
              "      <th>freq</th>\n",
              "      <td>772</td>\n",
              "      <td>591</td>\n",
              "      <td>759</td>\n",
              "      <td>738</td>\n",
              "      <td>923</td>\n",
              "      <td>399</td>\n",
              "      <td>573</td>\n",
              "      <td>428</td>\n",
              "      <td>728</td>\n",
              "      <td>925</td>\n",
              "      <td>635</td>\n",
              "      <td>810</td>\n",
              "      <td>524</td>\n",
              "      <td>835</td>\n",
              "      <td>955</td>\n",
              "      <td>827</td>\n",
              "      <td>673</td>\n",
              "      <td>814</td>\n",
              "    </tr>\n",
              "  </tbody>\n",
              "</table>\n",
              "</div>"
            ],
            "text/plain": [
              "       school   sex address famsize  ... higher internet romantic    Mark\n",
              "count    1044  1044    1044    1044  ...   1044     1044     1044    1044\n",
              "unique      2     2       2       2  ...      2        2        2       2\n",
              "top        GP     F       U     GT3  ...    yes      yes       no  passed\n",
              "freq      772   591     759     738  ...    955      827      673     814\n",
              "\n",
              "[4 rows x 18 columns]"
            ]
          },
          "metadata": {
            "tags": []
          },
          "execution_count": 11
        }
      ]
    },
    {
      "cell_type": "markdown",
      "metadata": {
        "id": "nnfW5AAb9A5o"
      },
      "source": [
        "Из таблицы видно, что данные в стоблце Mark являются сбалансированными, так как ни один из классов не представляет меньше 10% от общего числа студентов."
      ]
    },
    {
      "cell_type": "markdown",
      "metadata": {
        "id": "Mu0Mso9b9BHG"
      },
      "source": [
        "Построим попарные матрицы разброса:"
      ]
    },
    {
      "cell_type": "code",
      "metadata": {
        "id": "1uSviqjG89xQ",
        "outputId": "430f49ef-9f4e-448e-d85d-23b8889a9110",
        "colab": {
          "base_uri": "https://localhost:8080/",
          "height": 608
        }
      },
      "source": [
        "from pandas.plotting import scatter_matrix\n",
        "scatter_matrix(data_raw, alpha = .01, figsize = (10, 10))\n",
        "pass"
      ],
      "execution_count": null,
      "outputs": [
        {
          "output_type": "display_data",
          "data": {
            "image/png": "[encoded data removed]",
            "text/plain": [
              "<Figure size 720x720 with 169 Axes>"
            ]
          },
          "metadata": {
            "tags": [],
            "needs_background": "light"
          }
        }
      ]
    },
    {
      "cell_type": "markdown",
      "metadata": {
        "id": "SnDjWFSI9JKK"
      },
      "source": [
        "Матрица корреляции для количественных признаков:"
      ]
    },
    {
      "cell_type": "code",
      "metadata": {
        "id": "fzR0wKvQ9Gvv",
        "outputId": "033a72b6-63d6-48f3-b167-c12bf2111ae1",
        "colab": {
          "base_uri": "https://localhost:8080/",
          "height": 472
        }
      },
      "source": [
        "corr_mat = data_raw.corr()\n",
        "corr_mat"
      ],
      "execution_count": null,
      "outputs": [
        {
          "output_type": "execute_result",
          "data": {
            "text/html": [
              "<div>\n",
              "<style scoped>\n",
              "    .dataframe tbody tr th:only-of-type {\n",
              "        vertical-align: middle;\n",
              "    }\n",
              "\n",
              "    .dataframe tbody tr th {\n",
              "        vertical-align: top;\n",
              "    }\n",
              "\n",
              "    .dataframe thead th {\n",
              "        text-align: right;\n",
              "    }\n",
              "</style>\n",
              "<table border=\"1\" class=\"dataframe\">\n",
              "  <thead>\n",
              "    <tr style=\"text-align: right;\">\n",
              "      <th></th>\n",
              "      <th>age</th>\n",
              "      <th>Medu</th>\n",
              "      <th>Fedu</th>\n",
              "      <th>traveltime</th>\n",
              "      <th>studytime</th>\n",
              "      <th>failures</th>\n",
              "      <th>famrel</th>\n",
              "      <th>freetime</th>\n",
              "      <th>goout</th>\n",
              "      <th>Dalc</th>\n",
              "      <th>Walc</th>\n",
              "      <th>health</th>\n",
              "      <th>absences</th>\n",
              "    </tr>\n",
              "  </thead>\n",
              "  <tbody>\n",
              "    <tr>\n",
              "      <th>age</th>\n",
              "      <td>1.000000</td>\n",
              "      <td>-0.130196</td>\n",
              "      <td>-0.138521</td>\n",
              "      <td>0.049216</td>\n",
              "      <td>-0.007870</td>\n",
              "      <td>0.282364</td>\n",
              "      <td>0.007162</td>\n",
              "      <td>0.002645</td>\n",
              "      <td>0.118510</td>\n",
              "      <td>0.133453</td>\n",
              "      <td>0.098291</td>\n",
              "      <td>-0.029129</td>\n",
              "      <td>0.153196</td>\n",
              "    </tr>\n",
              "    <tr>\n",
              "      <th>Medu</th>\n",
              "      <td>-0.130196</td>\n",
              "      <td>1.000000</td>\n",
              "      <td>0.642063</td>\n",
              "      <td>-0.238181</td>\n",
              "      <td>0.090616</td>\n",
              "      <td>-0.187769</td>\n",
              "      <td>0.015004</td>\n",
              "      <td>0.001054</td>\n",
              "      <td>0.025614</td>\n",
              "      <td>0.001515</td>\n",
              "      <td>-0.029331</td>\n",
              "      <td>-0.013254</td>\n",
              "      <td>0.059708</td>\n",
              "    </tr>\n",
              "    <tr>\n",
              "      <th>Fedu</th>\n",
              "      <td>-0.138521</td>\n",
              "      <td>0.642063</td>\n",
              "      <td>1.000000</td>\n",
              "      <td>-0.196328</td>\n",
              "      <td>0.033458</td>\n",
              "      <td>-0.191390</td>\n",
              "      <td>0.013066</td>\n",
              "      <td>0.002142</td>\n",
              "      <td>0.030075</td>\n",
              "      <td>-0.000165</td>\n",
              "      <td>0.019524</td>\n",
              "      <td>0.034288</td>\n",
              "      <td>0.040829</td>\n",
              "    </tr>\n",
              "    <tr>\n",
              "      <th>traveltime</th>\n",
              "      <td>0.049216</td>\n",
              "      <td>-0.238181</td>\n",
              "      <td>-0.196328</td>\n",
              "      <td>1.000000</td>\n",
              "      <td>-0.081328</td>\n",
              "      <td>0.087177</td>\n",
              "      <td>-0.012578</td>\n",
              "      <td>-0.007403</td>\n",
              "      <td>0.049740</td>\n",
              "      <td>0.109423</td>\n",
              "      <td>0.084292</td>\n",
              "      <td>-0.029002</td>\n",
              "      <td>-0.022669</td>\n",
              "    </tr>\n",
              "    <tr>\n",
              "      <th>studytime</th>\n",
              "      <td>-0.007870</td>\n",
              "      <td>0.090616</td>\n",
              "      <td>0.033458</td>\n",
              "      <td>-0.081328</td>\n",
              "      <td>1.000000</td>\n",
              "      <td>-0.152024</td>\n",
              "      <td>0.012324</td>\n",
              "      <td>-0.094429</td>\n",
              "      <td>-0.072941</td>\n",
              "      <td>-0.159665</td>\n",
              "      <td>-0.229073</td>\n",
              "      <td>-0.063044</td>\n",
              "      <td>-0.075594</td>\n",
              "    </tr>\n",
              "    <tr>\n",
              "      <th>failures</th>\n",
              "      <td>0.282364</td>\n",
              "      <td>-0.187769</td>\n",
              "      <td>-0.191390</td>\n",
              "      <td>0.087177</td>\n",
              "      <td>-0.152024</td>\n",
              "      <td>1.000000</td>\n",
              "      <td>-0.053676</td>\n",
              "      <td>0.102679</td>\n",
              "      <td>0.074683</td>\n",
              "      <td>0.116336</td>\n",
              "      <td>0.107432</td>\n",
              "      <td>0.048311</td>\n",
              "      <td>0.099998</td>\n",
              "    </tr>\n",
              "    <tr>\n",
              "      <th>famrel</th>\n",
              "      <td>0.007162</td>\n",
              "      <td>0.015004</td>\n",
              "      <td>0.013066</td>\n",
              "      <td>-0.012578</td>\n",
              "      <td>0.012324</td>\n",
              "      <td>-0.053676</td>\n",
              "      <td>1.000000</td>\n",
              "      <td>0.136901</td>\n",
              "      <td>0.080619</td>\n",
              "      <td>-0.076483</td>\n",
              "      <td>-0.100663</td>\n",
              "      <td>0.104101</td>\n",
              "      <td>-0.062171</td>\n",
              "    </tr>\n",
              "    <tr>\n",
              "      <th>freetime</th>\n",
              "      <td>0.002645</td>\n",
              "      <td>0.001054</td>\n",
              "      <td>0.002142</td>\n",
              "      <td>-0.007403</td>\n",
              "      <td>-0.094429</td>\n",
              "      <td>0.102679</td>\n",
              "      <td>0.136901</td>\n",
              "      <td>1.000000</td>\n",
              "      <td>0.323556</td>\n",
              "      <td>0.144979</td>\n",
              "      <td>0.130377</td>\n",
              "      <td>0.081517</td>\n",
              "      <td>-0.032079</td>\n",
              "    </tr>\n",
              "    <tr>\n",
              "      <th>goout</th>\n",
              "      <td>0.118510</td>\n",
              "      <td>0.025614</td>\n",
              "      <td>0.030075</td>\n",
              "      <td>0.049740</td>\n",
              "      <td>-0.072941</td>\n",
              "      <td>0.074683</td>\n",
              "      <td>0.080619</td>\n",
              "      <td>0.323556</td>\n",
              "      <td>1.000000</td>\n",
              "      <td>0.253135</td>\n",
              "      <td>0.399794</td>\n",
              "      <td>-0.013736</td>\n",
              "      <td>0.056142</td>\n",
              "    </tr>\n",
              "    <tr>\n",
              "      <th>Dalc</th>\n",
              "      <td>0.133453</td>\n",
              "      <td>0.001515</td>\n",
              "      <td>-0.000165</td>\n",
              "      <td>0.109423</td>\n",
              "      <td>-0.159665</td>\n",
              "      <td>0.116336</td>\n",
              "      <td>-0.076483</td>\n",
              "      <td>0.144979</td>\n",
              "      <td>0.253135</td>\n",
              "      <td>1.000000</td>\n",
              "      <td>0.627814</td>\n",
              "      <td>0.065515</td>\n",
              "      <td>0.132867</td>\n",
              "    </tr>\n",
              "    <tr>\n",
              "      <th>Walc</th>\n",
              "      <td>0.098291</td>\n",
              "      <td>-0.029331</td>\n",
              "      <td>0.019524</td>\n",
              "      <td>0.084292</td>\n",
              "      <td>-0.229073</td>\n",
              "      <td>0.107432</td>\n",
              "      <td>-0.100663</td>\n",
              "      <td>0.130377</td>\n",
              "      <td>0.399794</td>\n",
              "      <td>0.627814</td>\n",
              "      <td>1.000000</td>\n",
              "      <td>0.106669</td>\n",
              "      <td>0.139703</td>\n",
              "    </tr>\n",
              "    <tr>\n",
              "      <th>health</th>\n",
              "      <td>-0.029129</td>\n",
              "      <td>-0.013254</td>\n",
              "      <td>0.034288</td>\n",
              "      <td>-0.029002</td>\n",
              "      <td>-0.063044</td>\n",
              "      <td>0.048311</td>\n",
              "      <td>0.104101</td>\n",
              "      <td>0.081517</td>\n",
              "      <td>-0.013736</td>\n",
              "      <td>0.065515</td>\n",
              "      <td>0.106669</td>\n",
              "      <td>1.000000</td>\n",
              "      <td>-0.027479</td>\n",
              "    </tr>\n",
              "    <tr>\n",
              "      <th>absences</th>\n",
              "      <td>0.153196</td>\n",
              "      <td>0.059708</td>\n",
              "      <td>0.040829</td>\n",
              "      <td>-0.022669</td>\n",
              "      <td>-0.075594</td>\n",
              "      <td>0.099998</td>\n",
              "      <td>-0.062171</td>\n",
              "      <td>-0.032079</td>\n",
              "      <td>0.056142</td>\n",
              "      <td>0.132867</td>\n",
              "      <td>0.139703</td>\n",
              "      <td>-0.027479</td>\n",
              "      <td>1.000000</td>\n",
              "    </tr>\n",
              "  </tbody>\n",
              "</table>\n",
              "</div>"
            ],
            "text/plain": [
              "                 age      Medu      Fedu  ...      Walc    health  absences\n",
              "age         1.000000 -0.130196 -0.138521  ...  0.098291 -0.029129  0.153196\n",
              "Medu       -0.130196  1.000000  0.642063  ... -0.029331 -0.013254  0.059708\n",
              "Fedu       -0.138521  0.642063  1.000000  ...  0.019524  0.034288  0.040829\n",
              "traveltime  0.049216 -0.238181 -0.196328  ...  0.084292 -0.029002 -0.022669\n",
              "studytime  -0.007870  0.090616  0.033458  ... -0.229073 -0.063044 -0.075594\n",
              "failures    0.282364 -0.187769 -0.191390  ...  0.107432  0.048311  0.099998\n",
              "famrel      0.007162  0.015004  0.013066  ... -0.100663  0.104101 -0.062171\n",
              "freetime    0.002645  0.001054  0.002142  ...  0.130377  0.081517 -0.032079\n",
              "goout       0.118510  0.025614  0.030075  ...  0.399794 -0.013736  0.056142\n",
              "Dalc        0.133453  0.001515 -0.000165  ...  0.627814  0.065515  0.132867\n",
              "Walc        0.098291 -0.029331  0.019524  ...  1.000000  0.106669  0.139703\n",
              "health     -0.029129 -0.013254  0.034288  ...  0.106669  1.000000 -0.027479\n",
              "absences    0.153196  0.059708  0.040829  ...  0.139703 -0.027479  1.000000\n",
              "\n",
              "[13 rows x 13 columns]"
            ]
          },
          "metadata": {
            "tags": []
          },
          "execution_count": 13
        }
      ]
    },
    {
      "cell_type": "markdown",
      "metadata": {
        "id": "oSvlpiqN9Mw1"
      },
      "source": [
        "Удобно использовать визуальный образ этой матрицы. Чем светлее ячейка, тем меньше по абсолютной величине коэффициент корреляции:"
      ]
    },
    {
      "cell_type": "code",
      "metadata": {
        "id": "rb09GRql9MB2",
        "outputId": "6696fa6c-2e9d-4f2a-bbb5-ec81f5d9afa7",
        "colab": {
          "base_uri": "https://localhost:8080/",
          "height": 311
        }
      },
      "source": [
        "sns.heatmap(corr_mat, square=True, cmap='coolwarm')\n",
        "pass"
      ],
      "execution_count": null,
      "outputs": [
        {
          "output_type": "display_data",
          "data": {
            "image/png": "[encoded data removed]",
            "text/plain": [
              "<Figure size 432x288 with 2 Axes>"
            ]
          },
          "metadata": {
            "tags": [],
            "needs_background": "light"
          }
        }
      ]
    },
    {
      "cell_type": "markdown",
      "metadata": {
        "id": "yotoKEU_9RLS"
      },
      "source": [
        "Выведем коэффициенты корреляции больше заданного значения 0,4:"
      ]
    },
    {
      "cell_type": "code",
      "metadata": {
        "id": "QPs8y4sl9VF0",
        "outputId": "2f526b52-8804-4884-e284-3922186486dc",
        "colab": {
          "base_uri": "https://localhost:8080/",
          "height": 472
        }
      },
      "source": [
        "corr_mat > 0.4"
      ],
      "execution_count": null,
      "outputs": [
        {
          "output_type": "execute_result",
          "data": {
            "text/html": [
              "<div>\n",
              "<style scoped>\n",
              "    .dataframe tbody tr th:only-of-type {\n",
              "        vertical-align: middle;\n",
              "    }\n",
              "\n",
              "    .dataframe tbody tr th {\n",
              "        vertical-align: top;\n",
              "    }\n",
              "\n",
              "    .dataframe thead th {\n",
              "        text-align: right;\n",
              "    }\n",
              "</style>\n",
              "<table border=\"1\" class=\"dataframe\">\n",
              "  <thead>\n",
              "    <tr style=\"text-align: right;\">\n",
              "      <th></th>\n",
              "      <th>age</th>\n",
              "      <th>Medu</th>\n",
              "      <th>Fedu</th>\n",
              "      <th>traveltime</th>\n",
              "      <th>studytime</th>\n",
              "      <th>failures</th>\n",
              "      <th>famrel</th>\n",
              "      <th>freetime</th>\n",
              "      <th>goout</th>\n",
              "      <th>Dalc</th>\n",
              "      <th>Walc</th>\n",
              "      <th>health</th>\n",
              "      <th>absences</th>\n",
              "    </tr>\n",
              "  </thead>\n",
              "  <tbody>\n",
              "    <tr>\n",
              "      <th>age</th>\n",
              "      <td>True</td>\n",
              "      <td>False</td>\n",
              "      <td>False</td>\n",
              "      <td>False</td>\n",
              "      <td>False</td>\n",
              "      <td>False</td>\n",
              "      <td>False</td>\n",
              "      <td>False</td>\n",
              "      <td>False</td>\n",
              "      <td>False</td>\n",
              "      <td>False</td>\n",
              "      <td>False</td>\n",
              "      <td>False</td>\n",
              "    </tr>\n",
              "    <tr>\n",
              "      <th>Medu</th>\n",
              "      <td>False</td>\n",
              "      <td>True</td>\n",
              "      <td>True</td>\n",
              "      <td>False</td>\n",
              "      <td>False</td>\n",
              "      <td>False</td>\n",
              "      <td>False</td>\n",
              "      <td>False</td>\n",
              "      <td>False</td>\n",
              "      <td>False</td>\n",
              "      <td>False</td>\n",
              "      <td>False</td>\n",
              "      <td>False</td>\n",
              "    </tr>\n",
              "    <tr>\n",
              "      <th>Fedu</th>\n",
              "      <td>False</td>\n",
              "      <td>True</td>\n",
              "      <td>True</td>\n",
              "      <td>False</td>\n",
              "      <td>False</td>\n",
              "      <td>False</td>\n",
              "      <td>False</td>\n",
              "      <td>False</td>\n",
              "      <td>False</td>\n",
              "      <td>False</td>\n",
              "      <td>False</td>\n",
              "      <td>False</td>\n",
              "      <td>False</td>\n",
              "    </tr>\n",
              "    <tr>\n",
              "      <th>traveltime</th>\n",
              "      <td>False</td>\n",
              "      <td>False</td>\n",
              "      <td>False</td>\n",
              "      <td>True</td>\n",
              "      <td>False</td>\n",
              "      <td>False</td>\n",
              "      <td>False</td>\n",
              "      <td>False</td>\n",
              "      <td>False</td>\n",
              "      <td>False</td>\n",
              "      <td>False</td>\n",
              "      <td>False</td>\n",
              "      <td>False</td>\n",
              "    </tr>\n",
              "    <tr>\n",
              "      <th>studytime</th>\n",
              "      <td>False</td>\n",
              "      <td>False</td>\n",
              "      <td>False</td>\n",
              "      <td>False</td>\n",
              "      <td>True</td>\n",
              "      <td>False</td>\n",
              "      <td>False</td>\n",
              "      <td>False</td>\n",
              "      <td>False</td>\n",
              "      <td>False</td>\n",
              "      <td>False</td>\n",
              "      <td>False</td>\n",
              "      <td>False</td>\n",
              "    </tr>\n",
              "    <tr>\n",
              "      <th>failures</th>\n",
              "      <td>False</td>\n",
              "      <td>False</td>\n",
              "      <td>False</td>\n",
              "      <td>False</td>\n",
              "      <td>False</td>\n",
              "      <td>True</td>\n",
              "      <td>False</td>\n",
              "      <td>False</td>\n",
              "      <td>False</td>\n",
              "      <td>False</td>\n",
              "      <td>False</td>\n",
              "      <td>False</td>\n",
              "      <td>False</td>\n",
              "    </tr>\n",
              "    <tr>\n",
              "      <th>famrel</th>\n",
              "      <td>False</td>\n",
              "      <td>False</td>\n",
              "      <td>False</td>\n",
              "      <td>False</td>\n",
              "      <td>False</td>\n",
              "      <td>False</td>\n",
              "      <td>True</td>\n",
              "      <td>False</td>\n",
              "      <td>False</td>\n",
              "      <td>False</td>\n",
              "      <td>False</td>\n",
              "      <td>False</td>\n",
              "      <td>False</td>\n",
              "    </tr>\n",
              "    <tr>\n",
              "      <th>freetime</th>\n",
              "      <td>False</td>\n",
              "      <td>False</td>\n",
              "      <td>False</td>\n",
              "      <td>False</td>\n",
              "      <td>False</td>\n",
              "      <td>False</td>\n",
              "      <td>False</td>\n",
              "      <td>True</td>\n",
              "      <td>False</td>\n",
              "      <td>False</td>\n",
              "      <td>False</td>\n",
              "      <td>False</td>\n",
              "      <td>False</td>\n",
              "    </tr>\n",
              "    <tr>\n",
              "      <th>goout</th>\n",
              "      <td>False</td>\n",
              "      <td>False</td>\n",
              "      <td>False</td>\n",
              "      <td>False</td>\n",
              "      <td>False</td>\n",
              "      <td>False</td>\n",
              "      <td>False</td>\n",
              "      <td>False</td>\n",
              "      <td>True</td>\n",
              "      <td>False</td>\n",
              "      <td>False</td>\n",
              "      <td>False</td>\n",
              "      <td>False</td>\n",
              "    </tr>\n",
              "    <tr>\n",
              "      <th>Dalc</th>\n",
              "      <td>False</td>\n",
              "      <td>False</td>\n",
              "      <td>False</td>\n",
              "      <td>False</td>\n",
              "      <td>False</td>\n",
              "      <td>False</td>\n",
              "      <td>False</td>\n",
              "      <td>False</td>\n",
              "      <td>False</td>\n",
              "      <td>True</td>\n",
              "      <td>True</td>\n",
              "      <td>False</td>\n",
              "      <td>False</td>\n",
              "    </tr>\n",
              "    <tr>\n",
              "      <th>Walc</th>\n",
              "      <td>False</td>\n",
              "      <td>False</td>\n",
              "      <td>False</td>\n",
              "      <td>False</td>\n",
              "      <td>False</td>\n",
              "      <td>False</td>\n",
              "      <td>False</td>\n",
              "      <td>False</td>\n",
              "      <td>False</td>\n",
              "      <td>True</td>\n",
              "      <td>True</td>\n",
              "      <td>False</td>\n",
              "      <td>False</td>\n",
              "    </tr>\n",
              "    <tr>\n",
              "      <th>health</th>\n",
              "      <td>False</td>\n",
              "      <td>False</td>\n",
              "      <td>False</td>\n",
              "      <td>False</td>\n",
              "      <td>False</td>\n",
              "      <td>False</td>\n",
              "      <td>False</td>\n",
              "      <td>False</td>\n",
              "      <td>False</td>\n",
              "      <td>False</td>\n",
              "      <td>False</td>\n",
              "      <td>True</td>\n",
              "      <td>False</td>\n",
              "    </tr>\n",
              "    <tr>\n",
              "      <th>absences</th>\n",
              "      <td>False</td>\n",
              "      <td>False</td>\n",
              "      <td>False</td>\n",
              "      <td>False</td>\n",
              "      <td>False</td>\n",
              "      <td>False</td>\n",
              "      <td>False</td>\n",
              "      <td>False</td>\n",
              "      <td>False</td>\n",
              "      <td>False</td>\n",
              "      <td>False</td>\n",
              "      <td>False</td>\n",
              "      <td>True</td>\n",
              "    </tr>\n",
              "  </tbody>\n",
              "</table>\n",
              "</div>"
            ],
            "text/plain": [
              "              age   Medu   Fedu  traveltime  ...   Dalc   Walc  health  absences\n",
              "age          True  False  False       False  ...  False  False   False     False\n",
              "Medu        False   True   True       False  ...  False  False   False     False\n",
              "Fedu        False   True   True       False  ...  False  False   False     False\n",
              "traveltime  False  False  False        True  ...  False  False   False     False\n",
              "studytime   False  False  False       False  ...  False  False   False     False\n",
              "failures    False  False  False       False  ...  False  False   False     False\n",
              "famrel      False  False  False       False  ...  False  False   False     False\n",
              "freetime    False  False  False       False  ...  False  False   False     False\n",
              "goout       False  False  False       False  ...  False  False   False     False\n",
              "Dalc        False  False  False       False  ...   True   True   False     False\n",
              "Walc        False  False  False       False  ...   True   True   False     False\n",
              "health      False  False  False       False  ...  False  False    True     False\n",
              "absences    False  False  False       False  ...  False  False   False      True\n",
              "\n",
              "[13 rows x 13 columns]"
            ]
          },
          "metadata": {
            "tags": []
          },
          "execution_count": 15
        }
      ]
    },
    {
      "cell_type": "code",
      "metadata": {
        "id": "Yyg1X3Oo9WQw",
        "outputId": "03b1a21f-52c2-43ad-9805-da634997b28e",
        "colab": {
          "base_uri": "https://localhost:8080/",
          "height": 68
        }
      },
      "source": [
        "corr_mat.where(np.triu(corr_mat > 0.4, k=1)).stack().sort_values(ascending=False)"
      ],
      "execution_count": null,
      "outputs": [
        {
          "output_type": "execute_result",
          "data": {
            "text/plain": [
              "Medu  Fedu    0.642063\n",
              "Dalc  Walc    0.627814\n",
              "dtype: float64"
            ]
          },
          "metadata": {
            "tags": []
          },
          "execution_count": 16
        }
      ]
    },
    {
      "cell_type": "markdown",
      "metadata": {
        "id": "7SJ2pUTn9Yie"
      },
      "source": [
        "Заметим, что максимальный коэффициент корреляции достигается между признаки, отвечающими за образование родителей (Medu и Fedu - образование матери и отца соответственно) и за потребление алкоголя (Dalc и Walc - потребление алкоголя в будние и выходные дни соответсвенно). Остальные признаки почти не коррелируют между собой."
      ]
    },
    {
      "cell_type": "markdown",
      "metadata": {
        "id": "xucC7tKI9eK9"
      },
      "source": [
        "##3. Обработка пропущенных значений"
      ]
    },
    {
      "cell_type": "code",
      "metadata": {
        "id": "XgDCoSc79Xw0",
        "outputId": "ee522791-d4df-480f-8d65-59a8486beb21",
        "colab": {
          "base_uri": "https://localhost:8080/",
          "height": 561
        }
      },
      "source": [
        "data_raw.isna().sum()"
      ],
      "execution_count": null,
      "outputs": [
        {
          "output_type": "execute_result",
          "data": {
            "text/plain": [
              "school         0\n",
              "sex            0\n",
              "age            0\n",
              "address        0\n",
              "famsize        0\n",
              "Pstatus        0\n",
              "Medu           0\n",
              "Fedu           0\n",
              "Mjob           0\n",
              "Fjob          24\n",
              "reason         7\n",
              "guardian       0\n",
              "traveltime     0\n",
              "studytime      0\n",
              "failures       0\n",
              "schoolsup      0\n",
              "famsup        11\n",
              "paid          20\n",
              "activities     7\n",
              "nursery        0\n",
              "higher         0\n",
              "internet       0\n",
              "romantic       0\n",
              "famrel         0\n",
              "freetime       0\n",
              "goout          0\n",
              "Dalc           0\n",
              "Walc           0\n",
              "health         0\n",
              "absences       0\n",
              "Mark           0\n",
              "dtype: int64"
            ]
          },
          "metadata": {
            "tags": []
          },
          "execution_count": 18
        }
      ]
    },
    {
      "cell_type": "markdown",
      "metadata": {
        "id": "DcEWC-BI9i1g"
      },
      "source": [
        "Заполним медианами пропущенные значения в столбцах, соответствующих числовым признакам:"
      ]
    },
    {
      "cell_type": "code",
      "metadata": {
        "id": "GQbAl0Ty9cpR"
      },
      "source": [
        "data_raw.fillna(data_raw.median(axis = 0), axis=0 , inplace=True)"
      ],
      "execution_count": null,
      "outputs": []
    },
    {
      "cell_type": "code",
      "metadata": {
        "id": "-YONmBZI9kob",
        "outputId": "90c5c59a-0c42-447f-e05a-73c4118d7bd3",
        "colab": {
          "base_uri": "https://localhost:8080/",
          "height": 561
        }
      },
      "source": [
        "data_raw.isna().sum()"
      ],
      "execution_count": null,
      "outputs": [
        {
          "output_type": "execute_result",
          "data": {
            "text/plain": [
              "school         0\n",
              "sex            0\n",
              "age            0\n",
              "address        0\n",
              "famsize        0\n",
              "Pstatus        0\n",
              "Medu           0\n",
              "Fedu           0\n",
              "Mjob           0\n",
              "Fjob          24\n",
              "reason         7\n",
              "guardian       0\n",
              "traveltime     0\n",
              "studytime      0\n",
              "failures       0\n",
              "schoolsup      0\n",
              "famsup        11\n",
              "paid          20\n",
              "activities     7\n",
              "nursery        0\n",
              "higher         0\n",
              "internet       0\n",
              "romantic       0\n",
              "famrel         0\n",
              "freetime       0\n",
              "goout          0\n",
              "Dalc           0\n",
              "Walc           0\n",
              "health         0\n",
              "absences       0\n",
              "Mark           0\n",
              "dtype: int64"
            ]
          },
          "metadata": {
            "tags": []
          },
          "execution_count": 20
        }
      ]
    },
    {
      "cell_type": "markdown",
      "metadata": {
        "id": "sNX5b8409oFt"
      },
      "source": [
        "Пропущенные значения в столбцах, соответствующих категориальным признакам, заполним модой:"
      ]
    },
    {
      "cell_type": "code",
      "metadata": {
        "id": "jg3M6f3E9mDt"
      },
      "source": [
        "data_raw['reason'].fillna(data_raw['reason'].mode().iloc[0], inplace=True)\n",
        "data_raw['activities'].fillna(data_raw['activities'].mode().iloc[0], inplace=True)\n",
        "data_raw['Fjob'].fillna(data_raw['Fjob'].mode().iloc[0], inplace=True)\n",
        "data_raw['famsup'].fillna(data_raw['famsup'].mode().iloc[0], inplace=True)\n",
        "data_raw['paid'].fillna(data_raw['paid'].mode().iloc[0], inplace=True)"
      ],
      "execution_count": null,
      "outputs": []
    },
    {
      "cell_type": "code",
      "metadata": {
        "id": "AN3S4Rzz9p3p",
        "outputId": "ac38479f-fcc9-47ac-c60d-b951327b8eed",
        "colab": {
          "base_uri": "https://localhost:8080/",
          "height": 561
        }
      },
      "source": [
        "data_raw.isna().sum()"
      ],
      "execution_count": null,
      "outputs": [
        {
          "output_type": "execute_result",
          "data": {
            "text/plain": [
              "school        0\n",
              "sex           0\n",
              "age           0\n",
              "address       0\n",
              "famsize       0\n",
              "Pstatus       0\n",
              "Medu          0\n",
              "Fedu          0\n",
              "Mjob          0\n",
              "Fjob          0\n",
              "reason        0\n",
              "guardian      0\n",
              "traveltime    0\n",
              "studytime     0\n",
              "failures      0\n",
              "schoolsup     0\n",
              "famsup        0\n",
              "paid          0\n",
              "activities    0\n",
              "nursery       0\n",
              "higher        0\n",
              "internet      0\n",
              "romantic      0\n",
              "famrel        0\n",
              "freetime      0\n",
              "goout         0\n",
              "Dalc          0\n",
              "Walc          0\n",
              "health        0\n",
              "absences      0\n",
              "Mark          0\n",
              "dtype: int64"
            ]
          },
          "metadata": {
            "tags": []
          },
          "execution_count": 22
        }
      ]
    },
    {
      "cell_type": "code",
      "metadata": {
        "id": "KmeU6OU39q-V",
        "outputId": "ea92ec9a-688e-4594-e15e-732351f88cdb",
        "colab": {
          "base_uri": "https://localhost:8080/",
          "height": 410
        }
      },
      "source": [
        "data_raw.describe(include = 'all')"
      ],
      "execution_count": null,
      "outputs": [
        {
          "output_type": "execute_result",
          "data": {
            "text/html": [
              "<div>\n",
              "<style scoped>\n",
              "    .dataframe tbody tr th:only-of-type {\n",
              "        vertical-align: middle;\n",
              "    }\n",
              "\n",
              "    .dataframe tbody tr th {\n",
              "        vertical-align: top;\n",
              "    }\n",
              "\n",
              "    .dataframe thead th {\n",
              "        text-align: right;\n",
              "    }\n",
              "</style>\n",
              "<table border=\"1\" class=\"dataframe\">\n",
              "  <thead>\n",
              "    <tr style=\"text-align: right;\">\n",
              "      <th></th>\n",
              "      <th>school</th>\n",
              "      <th>sex</th>\n",
              "      <th>age</th>\n",
              "      <th>address</th>\n",
              "      <th>famsize</th>\n",
              "      <th>Pstatus</th>\n",
              "      <th>Medu</th>\n",
              "      <th>Fedu</th>\n",
              "      <th>Mjob</th>\n",
              "      <th>Fjob</th>\n",
              "      <th>reason</th>\n",
              "      <th>guardian</th>\n",
              "      <th>traveltime</th>\n",
              "      <th>studytime</th>\n",
              "      <th>failures</th>\n",
              "      <th>schoolsup</th>\n",
              "      <th>famsup</th>\n",
              "      <th>paid</th>\n",
              "      <th>activities</th>\n",
              "      <th>nursery</th>\n",
              "      <th>higher</th>\n",
              "      <th>internet</th>\n",
              "      <th>romantic</th>\n",
              "      <th>famrel</th>\n",
              "      <th>freetime</th>\n",
              "      <th>goout</th>\n",
              "      <th>Dalc</th>\n",
              "      <th>Walc</th>\n",
              "      <th>health</th>\n",
              "      <th>absences</th>\n",
              "      <th>Mark</th>\n",
              "    </tr>\n",
              "  </thead>\n",
              "  <tbody>\n",
              "    <tr>\n",
              "      <th>count</th>\n",
              "      <td>1044</td>\n",
              "      <td>1044</td>\n",
              "      <td>1044.000000</td>\n",
              "      <td>1044</td>\n",
              "      <td>1044</td>\n",
              "      <td>1044</td>\n",
              "      <td>1044.000000</td>\n",
              "      <td>1044.000000</td>\n",
              "      <td>1044</td>\n",
              "      <td>1044</td>\n",
              "      <td>1044</td>\n",
              "      <td>1044</td>\n",
              "      <td>1044.000000</td>\n",
              "      <td>1044.000000</td>\n",
              "      <td>1044.000000</td>\n",
              "      <td>1044</td>\n",
              "      <td>1044</td>\n",
              "      <td>1044</td>\n",
              "      <td>1044</td>\n",
              "      <td>1044</td>\n",
              "      <td>1044</td>\n",
              "      <td>1044</td>\n",
              "      <td>1044</td>\n",
              "      <td>1044.000000</td>\n",
              "      <td>1044.000000</td>\n",
              "      <td>1044.000000</td>\n",
              "      <td>1044.000000</td>\n",
              "      <td>1044.000000</td>\n",
              "      <td>1044.000000</td>\n",
              "      <td>1044.000000</td>\n",
              "      <td>1044</td>\n",
              "    </tr>\n",
              "    <tr>\n",
              "      <th>unique</th>\n",
              "      <td>2</td>\n",
              "      <td>2</td>\n",
              "      <td>NaN</td>\n",
              "      <td>2</td>\n",
              "      <td>2</td>\n",
              "      <td>2</td>\n",
              "      <td>NaN</td>\n",
              "      <td>NaN</td>\n",
              "      <td>5</td>\n",
              "      <td>5</td>\n",
              "      <td>4</td>\n",
              "      <td>3</td>\n",
              "      <td>NaN</td>\n",
              "      <td>NaN</td>\n",
              "      <td>NaN</td>\n",
              "      <td>2</td>\n",
              "      <td>2</td>\n",
              "      <td>2</td>\n",
              "      <td>2</td>\n",
              "      <td>2</td>\n",
              "      <td>2</td>\n",
              "      <td>2</td>\n",
              "      <td>2</td>\n",
              "      <td>NaN</td>\n",
              "      <td>NaN</td>\n",
              "      <td>NaN</td>\n",
              "      <td>NaN</td>\n",
              "      <td>NaN</td>\n",
              "      <td>NaN</td>\n",
              "      <td>NaN</td>\n",
              "      <td>2</td>\n",
              "    </tr>\n",
              "    <tr>\n",
              "      <th>top</th>\n",
              "      <td>GP</td>\n",
              "      <td>F</td>\n",
              "      <td>NaN</td>\n",
              "      <td>U</td>\n",
              "      <td>GT3</td>\n",
              "      <td>T</td>\n",
              "      <td>NaN</td>\n",
              "      <td>NaN</td>\n",
              "      <td>other</td>\n",
              "      <td>other</td>\n",
              "      <td>course</td>\n",
              "      <td>mother</td>\n",
              "      <td>NaN</td>\n",
              "      <td>NaN</td>\n",
              "      <td>NaN</td>\n",
              "      <td>no</td>\n",
              "      <td>yes</td>\n",
              "      <td>no</td>\n",
              "      <td>no</td>\n",
              "      <td>yes</td>\n",
              "      <td>yes</td>\n",
              "      <td>yes</td>\n",
              "      <td>no</td>\n",
              "      <td>NaN</td>\n",
              "      <td>NaN</td>\n",
              "      <td>NaN</td>\n",
              "      <td>NaN</td>\n",
              "      <td>NaN</td>\n",
              "      <td>NaN</td>\n",
              "      <td>NaN</td>\n",
              "      <td>passed</td>\n",
              "    </tr>\n",
              "    <tr>\n",
              "      <th>freq</th>\n",
              "      <td>772</td>\n",
              "      <td>591</td>\n",
              "      <td>NaN</td>\n",
              "      <td>759</td>\n",
              "      <td>738</td>\n",
              "      <td>923</td>\n",
              "      <td>NaN</td>\n",
              "      <td>NaN</td>\n",
              "      <td>399</td>\n",
              "      <td>597</td>\n",
              "      <td>435</td>\n",
              "      <td>728</td>\n",
              "      <td>NaN</td>\n",
              "      <td>NaN</td>\n",
              "      <td>NaN</td>\n",
              "      <td>925</td>\n",
              "      <td>646</td>\n",
              "      <td>830</td>\n",
              "      <td>531</td>\n",
              "      <td>835</td>\n",
              "      <td>955</td>\n",
              "      <td>827</td>\n",
              "      <td>673</td>\n",
              "      <td>NaN</td>\n",
              "      <td>NaN</td>\n",
              "      <td>NaN</td>\n",
              "      <td>NaN</td>\n",
              "      <td>NaN</td>\n",
              "      <td>NaN</td>\n",
              "      <td>NaN</td>\n",
              "      <td>814</td>\n",
              "    </tr>\n",
              "    <tr>\n",
              "      <th>mean</th>\n",
              "      <td>NaN</td>\n",
              "      <td>NaN</td>\n",
              "      <td>16.726054</td>\n",
              "      <td>NaN</td>\n",
              "      <td>NaN</td>\n",
              "      <td>NaN</td>\n",
              "      <td>2.603448</td>\n",
              "      <td>2.387931</td>\n",
              "      <td>NaN</td>\n",
              "      <td>NaN</td>\n",
              "      <td>NaN</td>\n",
              "      <td>NaN</td>\n",
              "      <td>1.522989</td>\n",
              "      <td>1.970307</td>\n",
              "      <td>0.264368</td>\n",
              "      <td>NaN</td>\n",
              "      <td>NaN</td>\n",
              "      <td>NaN</td>\n",
              "      <td>NaN</td>\n",
              "      <td>NaN</td>\n",
              "      <td>NaN</td>\n",
              "      <td>NaN</td>\n",
              "      <td>NaN</td>\n",
              "      <td>3.935824</td>\n",
              "      <td>3.201149</td>\n",
              "      <td>3.156130</td>\n",
              "      <td>1.494253</td>\n",
              "      <td>2.284483</td>\n",
              "      <td>3.543103</td>\n",
              "      <td>4.434866</td>\n",
              "      <td>NaN</td>\n",
              "    </tr>\n",
              "    <tr>\n",
              "      <th>std</th>\n",
              "      <td>NaN</td>\n",
              "      <td>NaN</td>\n",
              "      <td>1.239975</td>\n",
              "      <td>NaN</td>\n",
              "      <td>NaN</td>\n",
              "      <td>NaN</td>\n",
              "      <td>1.124907</td>\n",
              "      <td>1.099938</td>\n",
              "      <td>NaN</td>\n",
              "      <td>NaN</td>\n",
              "      <td>NaN</td>\n",
              "      <td>NaN</td>\n",
              "      <td>0.731727</td>\n",
              "      <td>0.834353</td>\n",
              "      <td>0.656142</td>\n",
              "      <td>NaN</td>\n",
              "      <td>NaN</td>\n",
              "      <td>NaN</td>\n",
              "      <td>NaN</td>\n",
              "      <td>NaN</td>\n",
              "      <td>NaN</td>\n",
              "      <td>NaN</td>\n",
              "      <td>NaN</td>\n",
              "      <td>0.933401</td>\n",
              "      <td>1.031507</td>\n",
              "      <td>1.152575</td>\n",
              "      <td>0.911714</td>\n",
              "      <td>1.285105</td>\n",
              "      <td>1.424703</td>\n",
              "      <td>6.210017</td>\n",
              "      <td>NaN</td>\n",
              "    </tr>\n",
              "    <tr>\n",
              "      <th>min</th>\n",
              "      <td>NaN</td>\n",
              "      <td>NaN</td>\n",
              "      <td>15.000000</td>\n",
              "      <td>NaN</td>\n",
              "      <td>NaN</td>\n",
              "      <td>NaN</td>\n",
              "      <td>0.000000</td>\n",
              "      <td>0.000000</td>\n",
              "      <td>NaN</td>\n",
              "      <td>NaN</td>\n",
              "      <td>NaN</td>\n",
              "      <td>NaN</td>\n",
              "      <td>1.000000</td>\n",
              "      <td>1.000000</td>\n",
              "      <td>0.000000</td>\n",
              "      <td>NaN</td>\n",
              "      <td>NaN</td>\n",
              "      <td>NaN</td>\n",
              "      <td>NaN</td>\n",
              "      <td>NaN</td>\n",
              "      <td>NaN</td>\n",
              "      <td>NaN</td>\n",
              "      <td>NaN</td>\n",
              "      <td>1.000000</td>\n",
              "      <td>1.000000</td>\n",
              "      <td>1.000000</td>\n",
              "      <td>1.000000</td>\n",
              "      <td>1.000000</td>\n",
              "      <td>1.000000</td>\n",
              "      <td>0.000000</td>\n",
              "      <td>NaN</td>\n",
              "    </tr>\n",
              "    <tr>\n",
              "      <th>25%</th>\n",
              "      <td>NaN</td>\n",
              "      <td>NaN</td>\n",
              "      <td>16.000000</td>\n",
              "      <td>NaN</td>\n",
              "      <td>NaN</td>\n",
              "      <td>NaN</td>\n",
              "      <td>2.000000</td>\n",
              "      <td>1.000000</td>\n",
              "      <td>NaN</td>\n",
              "      <td>NaN</td>\n",
              "      <td>NaN</td>\n",
              "      <td>NaN</td>\n",
              "      <td>1.000000</td>\n",
              "      <td>1.000000</td>\n",
              "      <td>0.000000</td>\n",
              "      <td>NaN</td>\n",
              "      <td>NaN</td>\n",
              "      <td>NaN</td>\n",
              "      <td>NaN</td>\n",
              "      <td>NaN</td>\n",
              "      <td>NaN</td>\n",
              "      <td>NaN</td>\n",
              "      <td>NaN</td>\n",
              "      <td>4.000000</td>\n",
              "      <td>3.000000</td>\n",
              "      <td>2.000000</td>\n",
              "      <td>1.000000</td>\n",
              "      <td>1.000000</td>\n",
              "      <td>3.000000</td>\n",
              "      <td>0.000000</td>\n",
              "      <td>NaN</td>\n",
              "    </tr>\n",
              "    <tr>\n",
              "      <th>50%</th>\n",
              "      <td>NaN</td>\n",
              "      <td>NaN</td>\n",
              "      <td>17.000000</td>\n",
              "      <td>NaN</td>\n",
              "      <td>NaN</td>\n",
              "      <td>NaN</td>\n",
              "      <td>3.000000</td>\n",
              "      <td>2.000000</td>\n",
              "      <td>NaN</td>\n",
              "      <td>NaN</td>\n",
              "      <td>NaN</td>\n",
              "      <td>NaN</td>\n",
              "      <td>1.000000</td>\n",
              "      <td>2.000000</td>\n",
              "      <td>0.000000</td>\n",
              "      <td>NaN</td>\n",
              "      <td>NaN</td>\n",
              "      <td>NaN</td>\n",
              "      <td>NaN</td>\n",
              "      <td>NaN</td>\n",
              "      <td>NaN</td>\n",
              "      <td>NaN</td>\n",
              "      <td>NaN</td>\n",
              "      <td>4.000000</td>\n",
              "      <td>3.000000</td>\n",
              "      <td>3.000000</td>\n",
              "      <td>1.000000</td>\n",
              "      <td>2.000000</td>\n",
              "      <td>4.000000</td>\n",
              "      <td>2.000000</td>\n",
              "      <td>NaN</td>\n",
              "    </tr>\n",
              "    <tr>\n",
              "      <th>75%</th>\n",
              "      <td>NaN</td>\n",
              "      <td>NaN</td>\n",
              "      <td>18.000000</td>\n",
              "      <td>NaN</td>\n",
              "      <td>NaN</td>\n",
              "      <td>NaN</td>\n",
              "      <td>4.000000</td>\n",
              "      <td>3.000000</td>\n",
              "      <td>NaN</td>\n",
              "      <td>NaN</td>\n",
              "      <td>NaN</td>\n",
              "      <td>NaN</td>\n",
              "      <td>2.000000</td>\n",
              "      <td>2.000000</td>\n",
              "      <td>0.000000</td>\n",
              "      <td>NaN</td>\n",
              "      <td>NaN</td>\n",
              "      <td>NaN</td>\n",
              "      <td>NaN</td>\n",
              "      <td>NaN</td>\n",
              "      <td>NaN</td>\n",
              "      <td>NaN</td>\n",
              "      <td>NaN</td>\n",
              "      <td>5.000000</td>\n",
              "      <td>4.000000</td>\n",
              "      <td>4.000000</td>\n",
              "      <td>2.000000</td>\n",
              "      <td>3.000000</td>\n",
              "      <td>5.000000</td>\n",
              "      <td>6.000000</td>\n",
              "      <td>NaN</td>\n",
              "    </tr>\n",
              "    <tr>\n",
              "      <th>max</th>\n",
              "      <td>NaN</td>\n",
              "      <td>NaN</td>\n",
              "      <td>22.000000</td>\n",
              "      <td>NaN</td>\n",
              "      <td>NaN</td>\n",
              "      <td>NaN</td>\n",
              "      <td>4.000000</td>\n",
              "      <td>4.000000</td>\n",
              "      <td>NaN</td>\n",
              "      <td>NaN</td>\n",
              "      <td>NaN</td>\n",
              "      <td>NaN</td>\n",
              "      <td>4.000000</td>\n",
              "      <td>4.000000</td>\n",
              "      <td>3.000000</td>\n",
              "      <td>NaN</td>\n",
              "      <td>NaN</td>\n",
              "      <td>NaN</td>\n",
              "      <td>NaN</td>\n",
              "      <td>NaN</td>\n",
              "      <td>NaN</td>\n",
              "      <td>NaN</td>\n",
              "      <td>NaN</td>\n",
              "      <td>5.000000</td>\n",
              "      <td>5.000000</td>\n",
              "      <td>5.000000</td>\n",
              "      <td>5.000000</td>\n",
              "      <td>5.000000</td>\n",
              "      <td>5.000000</td>\n",
              "      <td>75.000000</td>\n",
              "      <td>NaN</td>\n",
              "    </tr>\n",
              "  </tbody>\n",
              "</table>\n",
              "</div>"
            ],
            "text/plain": [
              "       school   sex          age  ...       health     absences    Mark\n",
              "count    1044  1044  1044.000000  ...  1044.000000  1044.000000    1044\n",
              "unique      2     2          NaN  ...          NaN          NaN       2\n",
              "top        GP     F          NaN  ...          NaN          NaN  passed\n",
              "freq      772   591          NaN  ...          NaN          NaN     814\n",
              "mean      NaN   NaN    16.726054  ...     3.543103     4.434866     NaN\n",
              "std       NaN   NaN     1.239975  ...     1.424703     6.210017     NaN\n",
              "min       NaN   NaN    15.000000  ...     1.000000     0.000000     NaN\n",
              "25%       NaN   NaN    16.000000  ...     3.000000     0.000000     NaN\n",
              "50%       NaN   NaN    17.000000  ...     4.000000     2.000000     NaN\n",
              "75%       NaN   NaN    18.000000  ...     5.000000     6.000000     NaN\n",
              "max       NaN   NaN    22.000000  ...     5.000000    75.000000     NaN\n",
              "\n",
              "[11 rows x 31 columns]"
            ]
          },
          "metadata": {
            "tags": []
          },
          "execution_count": 23
        }
      ]
    },
    {
      "cell_type": "markdown",
      "metadata": {
        "id": "Z027jMvl9uwx"
      },
      "source": [
        "##4. Обработка категориальных признаков"
      ]
    },
    {
      "cell_type": "markdown",
      "metadata": {
        "id": "dN3ZuxTt9xQD"
      },
      "source": [
        "Нужно что-то сделать с категориальными (номинальными) признаками"
      ]
    },
    {
      "cell_type": "code",
      "metadata": {
        "id": "hNgxX5s39s7a"
      },
      "source": [
        "Mark_col = data_raw['Mark']\n",
        "data_raw = data_raw.drop('Mark', axis = 1)"
      ],
      "execution_count": null,
      "outputs": []
    },
    {
      "cell_type": "code",
      "metadata": {
        "id": "GqaPGIjR9yvG",
        "outputId": "d0f3117b-b854-4091-a9c5-deb46cb978a0",
        "colab": {
          "base_uri": "https://localhost:8080/",
          "height": 71
        }
      },
      "source": [
        "categorical_columns = [c for c in data_raw.columns if data_raw[c].dtype.name == 'object']\n",
        "numerical_columns   = [c for c in data_raw.columns if data_raw[c].dtype.name != 'object']\n",
        "print(categorical_columns)\n",
        "print(numerical_columns)"
      ],
      "execution_count": null,
      "outputs": [
        {
          "output_type": "stream",
          "text": [
            "['school', 'sex', 'address', 'famsize', 'Pstatus', 'Mjob', 'Fjob', 'reason', 'guardian', 'schoolsup', 'famsup', 'paid', 'activities', 'nursery', 'higher', 'internet', 'romantic']\n",
            "['age', 'Medu', 'Fedu', 'traveltime', 'studytime', 'failures', 'famrel', 'freetime', 'goout', 'Dalc', 'Walc', 'health', 'absences']\n"
          ],
          "name": "stdout"
        }
      ]
    },
    {
      "cell_type": "markdown",
      "metadata": {
        "id": "7mSmLidB92Nf"
      },
      "source": [
        "Отдельная таблица для количественных признаков:"
      ]
    },
    {
      "cell_type": "code",
      "metadata": {
        "id": "V1XcUvuE90A3",
        "outputId": "9ac11449-c2a4-40b2-d75b-6517036cf349",
        "colab": {
          "base_uri": "https://localhost:8080/",
          "height": 439
        }
      },
      "source": [
        "data_num = data_raw[numerical_columns]\n",
        "data_num"
      ],
      "execution_count": null,
      "outputs": [
        {
          "output_type": "execute_result",
          "data": {
            "text/html": [
              "<div>\n",
              "<style scoped>\n",
              "    .dataframe tbody tr th:only-of-type {\n",
              "        vertical-align: middle;\n",
              "    }\n",
              "\n",
              "    .dataframe tbody tr th {\n",
              "        vertical-align: top;\n",
              "    }\n",
              "\n",
              "    .dataframe thead th {\n",
              "        text-align: right;\n",
              "    }\n",
              "</style>\n",
              "<table border=\"1\" class=\"dataframe\">\n",
              "  <thead>\n",
              "    <tr style=\"text-align: right;\">\n",
              "      <th></th>\n",
              "      <th>age</th>\n",
              "      <th>Medu</th>\n",
              "      <th>Fedu</th>\n",
              "      <th>traveltime</th>\n",
              "      <th>studytime</th>\n",
              "      <th>failures</th>\n",
              "      <th>famrel</th>\n",
              "      <th>freetime</th>\n",
              "      <th>goout</th>\n",
              "      <th>Dalc</th>\n",
              "      <th>Walc</th>\n",
              "      <th>health</th>\n",
              "      <th>absences</th>\n",
              "    </tr>\n",
              "  </thead>\n",
              "  <tbody>\n",
              "    <tr>\n",
              "      <th>0</th>\n",
              "      <td>18</td>\n",
              "      <td>4</td>\n",
              "      <td>4</td>\n",
              "      <td>2</td>\n",
              "      <td>2</td>\n",
              "      <td>0</td>\n",
              "      <td>4</td>\n",
              "      <td>3</td>\n",
              "      <td>4</td>\n",
              "      <td>1</td>\n",
              "      <td>1</td>\n",
              "      <td>3</td>\n",
              "      <td>6</td>\n",
              "    </tr>\n",
              "    <tr>\n",
              "      <th>1</th>\n",
              "      <td>17</td>\n",
              "      <td>1</td>\n",
              "      <td>1</td>\n",
              "      <td>1</td>\n",
              "      <td>2</td>\n",
              "      <td>0</td>\n",
              "      <td>5</td>\n",
              "      <td>3</td>\n",
              "      <td>3</td>\n",
              "      <td>1</td>\n",
              "      <td>1</td>\n",
              "      <td>3</td>\n",
              "      <td>4</td>\n",
              "    </tr>\n",
              "    <tr>\n",
              "      <th>2</th>\n",
              "      <td>15</td>\n",
              "      <td>1</td>\n",
              "      <td>1</td>\n",
              "      <td>1</td>\n",
              "      <td>2</td>\n",
              "      <td>3</td>\n",
              "      <td>4</td>\n",
              "      <td>3</td>\n",
              "      <td>2</td>\n",
              "      <td>2</td>\n",
              "      <td>3</td>\n",
              "      <td>3</td>\n",
              "      <td>10</td>\n",
              "    </tr>\n",
              "    <tr>\n",
              "      <th>3</th>\n",
              "      <td>15</td>\n",
              "      <td>4</td>\n",
              "      <td>2</td>\n",
              "      <td>1</td>\n",
              "      <td>3</td>\n",
              "      <td>0</td>\n",
              "      <td>3</td>\n",
              "      <td>2</td>\n",
              "      <td>2</td>\n",
              "      <td>1</td>\n",
              "      <td>1</td>\n",
              "      <td>5</td>\n",
              "      <td>2</td>\n",
              "    </tr>\n",
              "    <tr>\n",
              "      <th>4</th>\n",
              "      <td>16</td>\n",
              "      <td>3</td>\n",
              "      <td>3</td>\n",
              "      <td>1</td>\n",
              "      <td>2</td>\n",
              "      <td>0</td>\n",
              "      <td>4</td>\n",
              "      <td>3</td>\n",
              "      <td>2</td>\n",
              "      <td>1</td>\n",
              "      <td>2</td>\n",
              "      <td>5</td>\n",
              "      <td>4</td>\n",
              "    </tr>\n",
              "    <tr>\n",
              "      <th>...</th>\n",
              "      <td>...</td>\n",
              "      <td>...</td>\n",
              "      <td>...</td>\n",
              "      <td>...</td>\n",
              "      <td>...</td>\n",
              "      <td>...</td>\n",
              "      <td>...</td>\n",
              "      <td>...</td>\n",
              "      <td>...</td>\n",
              "      <td>...</td>\n",
              "      <td>...</td>\n",
              "      <td>...</td>\n",
              "      <td>...</td>\n",
              "    </tr>\n",
              "    <tr>\n",
              "      <th>1039</th>\n",
              "      <td>19</td>\n",
              "      <td>2</td>\n",
              "      <td>3</td>\n",
              "      <td>1</td>\n",
              "      <td>3</td>\n",
              "      <td>1</td>\n",
              "      <td>5</td>\n",
              "      <td>4</td>\n",
              "      <td>2</td>\n",
              "      <td>1</td>\n",
              "      <td>2</td>\n",
              "      <td>5</td>\n",
              "      <td>4</td>\n",
              "    </tr>\n",
              "    <tr>\n",
              "      <th>1040</th>\n",
              "      <td>18</td>\n",
              "      <td>3</td>\n",
              "      <td>1</td>\n",
              "      <td>1</td>\n",
              "      <td>2</td>\n",
              "      <td>0</td>\n",
              "      <td>4</td>\n",
              "      <td>3</td>\n",
              "      <td>4</td>\n",
              "      <td>1</td>\n",
              "      <td>1</td>\n",
              "      <td>1</td>\n",
              "      <td>4</td>\n",
              "    </tr>\n",
              "    <tr>\n",
              "      <th>1041</th>\n",
              "      <td>18</td>\n",
              "      <td>1</td>\n",
              "      <td>1</td>\n",
              "      <td>2</td>\n",
              "      <td>2</td>\n",
              "      <td>0</td>\n",
              "      <td>1</td>\n",
              "      <td>1</td>\n",
              "      <td>1</td>\n",
              "      <td>1</td>\n",
              "      <td>1</td>\n",
              "      <td>5</td>\n",
              "      <td>6</td>\n",
              "    </tr>\n",
              "    <tr>\n",
              "      <th>1042</th>\n",
              "      <td>17</td>\n",
              "      <td>3</td>\n",
              "      <td>1</td>\n",
              "      <td>2</td>\n",
              "      <td>1</td>\n",
              "      <td>0</td>\n",
              "      <td>2</td>\n",
              "      <td>4</td>\n",
              "      <td>5</td>\n",
              "      <td>3</td>\n",
              "      <td>4</td>\n",
              "      <td>2</td>\n",
              "      <td>6</td>\n",
              "    </tr>\n",
              "    <tr>\n",
              "      <th>1043</th>\n",
              "      <td>18</td>\n",
              "      <td>3</td>\n",
              "      <td>2</td>\n",
              "      <td>3</td>\n",
              "      <td>1</td>\n",
              "      <td>0</td>\n",
              "      <td>4</td>\n",
              "      <td>4</td>\n",
              "      <td>1</td>\n",
              "      <td>3</td>\n",
              "      <td>4</td>\n",
              "      <td>5</td>\n",
              "      <td>4</td>\n",
              "    </tr>\n",
              "  </tbody>\n",
              "</table>\n",
              "<p>1044 rows × 13 columns</p>\n",
              "</div>"
            ],
            "text/plain": [
              "      age  Medu  Fedu  traveltime  ...  Dalc  Walc  health  absences\n",
              "0      18     4     4           2  ...     1     1       3         6\n",
              "1      17     1     1           1  ...     1     1       3         4\n",
              "2      15     1     1           1  ...     2     3       3        10\n",
              "3      15     4     2           1  ...     1     1       5         2\n",
              "4      16     3     3           1  ...     1     2       5         4\n",
              "...   ...   ...   ...         ...  ...   ...   ...     ...       ...\n",
              "1039   19     2     3           1  ...     1     2       5         4\n",
              "1040   18     3     1           1  ...     1     1       1         4\n",
              "1041   18     1     1           2  ...     1     1       5         6\n",
              "1042   17     3     1           2  ...     3     4       2         6\n",
              "1043   18     3     2           3  ...     3     4       5         4\n",
              "\n",
              "[1044 rows x 13 columns]"
            ]
          },
          "metadata": {
            "tags": []
          },
          "execution_count": 26
        }
      ]
    },
    {
      "cell_type": "markdown",
      "metadata": {
        "id": "mQn1uw6o95ei"
      },
      "source": [
        "Выделим бинарные и небинарные категориальные признаки:"
      ]
    },
    {
      "cell_type": "code",
      "metadata": {
        "id": "0rQTTFdJ93sB",
        "outputId": "262c5524-b764-4fe3-80b6-ebcdbe3e6cee",
        "colab": {
          "base_uri": "https://localhost:8080/",
          "height": 71
        }
      },
      "source": [
        "data_describe = data_raw.describe(include = [object])\n",
        "for col in categorical_columns:\n",
        "    data_raw[col] = data_raw[col].fillna(data_describe[col]['top'])\n",
        "binary_columns    = [col for col in categorical_columns if data_describe[col]['unique'] == 2]\n",
        "nonbinary_columns = [col for col in categorical_columns if data_describe[col]['unique'] > 2]\n",
        "print(binary_columns)\n",
        "print(nonbinary_columns)"
      ],
      "execution_count": null,
      "outputs": [
        {
          "output_type": "stream",
          "text": [
            "['school', 'sex', 'address', 'famsize', 'Pstatus', 'schoolsup', 'famsup', 'paid', 'activities', 'nursery', 'higher', 'internet', 'romantic']\n",
            "['Mjob', 'Fjob', 'reason', 'guardian']\n"
          ],
          "name": "stdout"
        }
      ]
    },
    {
      "cell_type": "markdown",
      "metadata": {
        "id": "O8B9U98V974r"
      },
      "source": [
        "Бинарные признаки заменим на числовые:"
      ]
    },
    {
      "cell_type": "code",
      "metadata": {
        "id": "r0aDxnoT97Lq"
      },
      "source": [
        "for col in binary_columns:\n",
        "    data_raw[col] = pd.factorize(data_raw[col])[0]"
      ],
      "execution_count": null,
      "outputs": []
    },
    {
      "cell_type": "markdown",
      "metadata": {
        "id": "pjvR-6t5-DZm"
      },
      "source": [
        "Отдельная таблица для бинарных признаков:"
      ]
    },
    {
      "cell_type": "code",
      "metadata": {
        "id": "xO-bgFIU9-Zl",
        "outputId": "cc857af6-5841-417d-af02-aaf9c1e474e2",
        "colab": {
          "base_uri": "https://localhost:8080/",
          "height": 439
        }
      },
      "source": [
        "data_binary = data_raw[binary_columns]\n",
        "data_binary"
      ],
      "execution_count": null,
      "outputs": [
        {
          "output_type": "execute_result",
          "data": {
            "text/html": [
              "<div>\n",
              "<style scoped>\n",
              "    .dataframe tbody tr th:only-of-type {\n",
              "        vertical-align: middle;\n",
              "    }\n",
              "\n",
              "    .dataframe tbody tr th {\n",
              "        vertical-align: top;\n",
              "    }\n",
              "\n",
              "    .dataframe thead th {\n",
              "        text-align: right;\n",
              "    }\n",
              "</style>\n",
              "<table border=\"1\" class=\"dataframe\">\n",
              "  <thead>\n",
              "    <tr style=\"text-align: right;\">\n",
              "      <th></th>\n",
              "      <th>school</th>\n",
              "      <th>sex</th>\n",
              "      <th>address</th>\n",
              "      <th>famsize</th>\n",
              "      <th>Pstatus</th>\n",
              "      <th>schoolsup</th>\n",
              "      <th>famsup</th>\n",
              "      <th>paid</th>\n",
              "      <th>activities</th>\n",
              "      <th>nursery</th>\n",
              "      <th>higher</th>\n",
              "      <th>internet</th>\n",
              "      <th>romantic</th>\n",
              "    </tr>\n",
              "  </thead>\n",
              "  <tbody>\n",
              "    <tr>\n",
              "      <th>0</th>\n",
              "      <td>0</td>\n",
              "      <td>0</td>\n",
              "      <td>0</td>\n",
              "      <td>0</td>\n",
              "      <td>0</td>\n",
              "      <td>0</td>\n",
              "      <td>0</td>\n",
              "      <td>0</td>\n",
              "      <td>0</td>\n",
              "      <td>0</td>\n",
              "      <td>0</td>\n",
              "      <td>0</td>\n",
              "      <td>0</td>\n",
              "    </tr>\n",
              "    <tr>\n",
              "      <th>1</th>\n",
              "      <td>0</td>\n",
              "      <td>0</td>\n",
              "      <td>0</td>\n",
              "      <td>0</td>\n",
              "      <td>1</td>\n",
              "      <td>1</td>\n",
              "      <td>1</td>\n",
              "      <td>0</td>\n",
              "      <td>0</td>\n",
              "      <td>1</td>\n",
              "      <td>0</td>\n",
              "      <td>1</td>\n",
              "      <td>0</td>\n",
              "    </tr>\n",
              "    <tr>\n",
              "      <th>2</th>\n",
              "      <td>0</td>\n",
              "      <td>0</td>\n",
              "      <td>0</td>\n",
              "      <td>1</td>\n",
              "      <td>1</td>\n",
              "      <td>0</td>\n",
              "      <td>0</td>\n",
              "      <td>1</td>\n",
              "      <td>0</td>\n",
              "      <td>0</td>\n",
              "      <td>0</td>\n",
              "      <td>1</td>\n",
              "      <td>0</td>\n",
              "    </tr>\n",
              "    <tr>\n",
              "      <th>3</th>\n",
              "      <td>0</td>\n",
              "      <td>0</td>\n",
              "      <td>0</td>\n",
              "      <td>0</td>\n",
              "      <td>1</td>\n",
              "      <td>1</td>\n",
              "      <td>1</td>\n",
              "      <td>1</td>\n",
              "      <td>1</td>\n",
              "      <td>0</td>\n",
              "      <td>0</td>\n",
              "      <td>1</td>\n",
              "      <td>1</td>\n",
              "    </tr>\n",
              "    <tr>\n",
              "      <th>4</th>\n",
              "      <td>0</td>\n",
              "      <td>0</td>\n",
              "      <td>0</td>\n",
              "      <td>0</td>\n",
              "      <td>1</td>\n",
              "      <td>1</td>\n",
              "      <td>1</td>\n",
              "      <td>1</td>\n",
              "      <td>0</td>\n",
              "      <td>0</td>\n",
              "      <td>0</td>\n",
              "      <td>0</td>\n",
              "      <td>0</td>\n",
              "    </tr>\n",
              "    <tr>\n",
              "      <th>...</th>\n",
              "      <td>...</td>\n",
              "      <td>...</td>\n",
              "      <td>...</td>\n",
              "      <td>...</td>\n",
              "      <td>...</td>\n",
              "      <td>...</td>\n",
              "      <td>...</td>\n",
              "      <td>...</td>\n",
              "      <td>...</td>\n",
              "      <td>...</td>\n",
              "      <td>...</td>\n",
              "      <td>...</td>\n",
              "      <td>...</td>\n",
              "    </tr>\n",
              "    <tr>\n",
              "      <th>1039</th>\n",
              "      <td>1</td>\n",
              "      <td>0</td>\n",
              "      <td>1</td>\n",
              "      <td>0</td>\n",
              "      <td>1</td>\n",
              "      <td>1</td>\n",
              "      <td>0</td>\n",
              "      <td>0</td>\n",
              "      <td>1</td>\n",
              "      <td>1</td>\n",
              "      <td>0</td>\n",
              "      <td>1</td>\n",
              "      <td>0</td>\n",
              "    </tr>\n",
              "    <tr>\n",
              "      <th>1040</th>\n",
              "      <td>1</td>\n",
              "      <td>0</td>\n",
              "      <td>0</td>\n",
              "      <td>1</td>\n",
              "      <td>1</td>\n",
              "      <td>1</td>\n",
              "      <td>1</td>\n",
              "      <td>0</td>\n",
              "      <td>0</td>\n",
              "      <td>0</td>\n",
              "      <td>0</td>\n",
              "      <td>1</td>\n",
              "      <td>0</td>\n",
              "    </tr>\n",
              "    <tr>\n",
              "      <th>1041</th>\n",
              "      <td>1</td>\n",
              "      <td>0</td>\n",
              "      <td>0</td>\n",
              "      <td>0</td>\n",
              "      <td>1</td>\n",
              "      <td>1</td>\n",
              "      <td>0</td>\n",
              "      <td>0</td>\n",
              "      <td>1</td>\n",
              "      <td>0</td>\n",
              "      <td>0</td>\n",
              "      <td>0</td>\n",
              "      <td>0</td>\n",
              "    </tr>\n",
              "    <tr>\n",
              "      <th>1042</th>\n",
              "      <td>1</td>\n",
              "      <td>1</td>\n",
              "      <td>0</td>\n",
              "      <td>1</td>\n",
              "      <td>1</td>\n",
              "      <td>1</td>\n",
              "      <td>0</td>\n",
              "      <td>0</td>\n",
              "      <td>0</td>\n",
              "      <td>1</td>\n",
              "      <td>0</td>\n",
              "      <td>1</td>\n",
              "      <td>0</td>\n",
              "    </tr>\n",
              "    <tr>\n",
              "      <th>1043</th>\n",
              "      <td>1</td>\n",
              "      <td>1</td>\n",
              "      <td>1</td>\n",
              "      <td>1</td>\n",
              "      <td>1</td>\n",
              "      <td>1</td>\n",
              "      <td>0</td>\n",
              "      <td>0</td>\n",
              "      <td>0</td>\n",
              "      <td>1</td>\n",
              "      <td>0</td>\n",
              "      <td>1</td>\n",
              "      <td>0</td>\n",
              "    </tr>\n",
              "  </tbody>\n",
              "</table>\n",
              "<p>1044 rows × 13 columns</p>\n",
              "</div>"
            ],
            "text/plain": [
              "      school  sex  address  famsize  ...  nursery  higher  internet  romantic\n",
              "0          0    0        0        0  ...        0       0         0         0\n",
              "1          0    0        0        0  ...        1       0         1         0\n",
              "2          0    0        0        1  ...        0       0         1         0\n",
              "3          0    0        0        0  ...        0       0         1         1\n",
              "4          0    0        0        0  ...        0       0         0         0\n",
              "...      ...  ...      ...      ...  ...      ...     ...       ...       ...\n",
              "1039       1    0        1        0  ...        1       0         1         0\n",
              "1040       1    0        0        1  ...        0       0         1         0\n",
              "1041       1    0        0        0  ...        0       0         0         0\n",
              "1042       1    1        0        1  ...        1       0         1         0\n",
              "1043       1    1        1        1  ...        1       0         1         0\n",
              "\n",
              "[1044 rows x 13 columns]"
            ]
          },
          "metadata": {
            "tags": []
          },
          "execution_count": 29
        }
      ]
    },
    {
      "cell_type": "markdown",
      "metadata": {
        "id": "oMm0NNDP-Hqx"
      },
      "source": [
        "К небинарными признакам применим метод векторизации, который заключается в следующем. Признак j, принимающий s значений, заменим на s признаков, принимащих значения 0 или 1, в зависимости от того, чему равно значение исходного признака j."
      ]
    },
    {
      "cell_type": "code",
      "metadata": {
        "id": "4Sf-PkL4-Fol",
        "outputId": "99577aba-f3a9-4115-d12c-9c7aeec6d98c",
        "colab": {
          "base_uri": "https://localhost:8080/",
          "height": 119
        }
      },
      "source": [
        "data_nonbinary = pd.get_dummies(data_raw[nonbinary_columns])\n",
        "print(data_nonbinary.columns)"
      ],
      "execution_count": null,
      "outputs": [
        {
          "output_type": "stream",
          "text": [
            "Index(['Mjob_at_home', 'Mjob_health', 'Mjob_other', 'Mjob_services',\n",
            "       'Mjob_teacher', 'Fjob_at_home', 'Fjob_health', 'Fjob_other',\n",
            "       'Fjob_services', 'Fjob_teacher', 'reason_course', 'reason_home',\n",
            "       'reason_other', 'reason_reputation', 'guardian_father',\n",
            "       'guardian_mother', 'guardian_other'],\n",
            "      dtype='object')\n"
          ],
          "name": "stdout"
        }
      ]
    },
    {
      "cell_type": "markdown",
      "metadata": {
        "id": "edvNIUsR-LQQ"
      },
      "source": [
        "Отдельная таблица для небинарных признаков:"
      ]
    },
    {
      "cell_type": "code",
      "metadata": {
        "id": "STAWjaUf-JUp",
        "outputId": "ee5678ce-1c1a-4b21-ac73-46da096266dd",
        "colab": {
          "base_uri": "https://localhost:8080/",
          "height": 439
        }
      },
      "source": [
        "data_nonbinary"
      ],
      "execution_count": null,
      "outputs": [
        {
          "output_type": "execute_result",
          "data": {
            "text/html": [
              "<div>\n",
              "<style scoped>\n",
              "    .dataframe tbody tr th:only-of-type {\n",
              "        vertical-align: middle;\n",
              "    }\n",
              "\n",
              "    .dataframe tbody tr th {\n",
              "        vertical-align: top;\n",
              "    }\n",
              "\n",
              "    .dataframe thead th {\n",
              "        text-align: right;\n",
              "    }\n",
              "</style>\n",
              "<table border=\"1\" class=\"dataframe\">\n",
              "  <thead>\n",
              "    <tr style=\"text-align: right;\">\n",
              "      <th></th>\n",
              "      <th>Mjob_at_home</th>\n",
              "      <th>Mjob_health</th>\n",
              "      <th>Mjob_other</th>\n",
              "      <th>Mjob_services</th>\n",
              "      <th>Mjob_teacher</th>\n",
              "      <th>Fjob_at_home</th>\n",
              "      <th>Fjob_health</th>\n",
              "      <th>Fjob_other</th>\n",
              "      <th>Fjob_services</th>\n",
              "      <th>Fjob_teacher</th>\n",
              "      <th>reason_course</th>\n",
              "      <th>reason_home</th>\n",
              "      <th>reason_other</th>\n",
              "      <th>reason_reputation</th>\n",
              "      <th>guardian_father</th>\n",
              "      <th>guardian_mother</th>\n",
              "      <th>guardian_other</th>\n",
              "    </tr>\n",
              "  </thead>\n",
              "  <tbody>\n",
              "    <tr>\n",
              "      <th>0</th>\n",
              "      <td>1</td>\n",
              "      <td>0</td>\n",
              "      <td>0</td>\n",
              "      <td>0</td>\n",
              "      <td>0</td>\n",
              "      <td>0</td>\n",
              "      <td>0</td>\n",
              "      <td>0</td>\n",
              "      <td>0</td>\n",
              "      <td>1</td>\n",
              "      <td>1</td>\n",
              "      <td>0</td>\n",
              "      <td>0</td>\n",
              "      <td>0</td>\n",
              "      <td>0</td>\n",
              "      <td>1</td>\n",
              "      <td>0</td>\n",
              "    </tr>\n",
              "    <tr>\n",
              "      <th>1</th>\n",
              "      <td>1</td>\n",
              "      <td>0</td>\n",
              "      <td>0</td>\n",
              "      <td>0</td>\n",
              "      <td>0</td>\n",
              "      <td>0</td>\n",
              "      <td>0</td>\n",
              "      <td>1</td>\n",
              "      <td>0</td>\n",
              "      <td>0</td>\n",
              "      <td>1</td>\n",
              "      <td>0</td>\n",
              "      <td>0</td>\n",
              "      <td>0</td>\n",
              "      <td>1</td>\n",
              "      <td>0</td>\n",
              "      <td>0</td>\n",
              "    </tr>\n",
              "    <tr>\n",
              "      <th>2</th>\n",
              "      <td>1</td>\n",
              "      <td>0</td>\n",
              "      <td>0</td>\n",
              "      <td>0</td>\n",
              "      <td>0</td>\n",
              "      <td>0</td>\n",
              "      <td>0</td>\n",
              "      <td>1</td>\n",
              "      <td>0</td>\n",
              "      <td>0</td>\n",
              "      <td>0</td>\n",
              "      <td>0</td>\n",
              "      <td>1</td>\n",
              "      <td>0</td>\n",
              "      <td>0</td>\n",
              "      <td>1</td>\n",
              "      <td>0</td>\n",
              "    </tr>\n",
              "    <tr>\n",
              "      <th>3</th>\n",
              "      <td>0</td>\n",
              "      <td>1</td>\n",
              "      <td>0</td>\n",
              "      <td>0</td>\n",
              "      <td>0</td>\n",
              "      <td>0</td>\n",
              "      <td>0</td>\n",
              "      <td>0</td>\n",
              "      <td>1</td>\n",
              "      <td>0</td>\n",
              "      <td>0</td>\n",
              "      <td>1</td>\n",
              "      <td>0</td>\n",
              "      <td>0</td>\n",
              "      <td>0</td>\n",
              "      <td>1</td>\n",
              "      <td>0</td>\n",
              "    </tr>\n",
              "    <tr>\n",
              "      <th>4</th>\n",
              "      <td>0</td>\n",
              "      <td>0</td>\n",
              "      <td>1</td>\n",
              "      <td>0</td>\n",
              "      <td>0</td>\n",
              "      <td>0</td>\n",
              "      <td>0</td>\n",
              "      <td>1</td>\n",
              "      <td>0</td>\n",
              "      <td>0</td>\n",
              "      <td>0</td>\n",
              "      <td>1</td>\n",
              "      <td>0</td>\n",
              "      <td>0</td>\n",
              "      <td>1</td>\n",
              "      <td>0</td>\n",
              "      <td>0</td>\n",
              "    </tr>\n",
              "    <tr>\n",
              "      <th>...</th>\n",
              "      <td>...</td>\n",
              "      <td>...</td>\n",
              "      <td>...</td>\n",
              "      <td>...</td>\n",
              "      <td>...</td>\n",
              "      <td>...</td>\n",
              "      <td>...</td>\n",
              "      <td>...</td>\n",
              "      <td>...</td>\n",
              "      <td>...</td>\n",
              "      <td>...</td>\n",
              "      <td>...</td>\n",
              "      <td>...</td>\n",
              "      <td>...</td>\n",
              "      <td>...</td>\n",
              "      <td>...</td>\n",
              "      <td>...</td>\n",
              "    </tr>\n",
              "    <tr>\n",
              "      <th>1039</th>\n",
              "      <td>0</td>\n",
              "      <td>0</td>\n",
              "      <td>0</td>\n",
              "      <td>1</td>\n",
              "      <td>0</td>\n",
              "      <td>0</td>\n",
              "      <td>0</td>\n",
              "      <td>1</td>\n",
              "      <td>0</td>\n",
              "      <td>0</td>\n",
              "      <td>1</td>\n",
              "      <td>0</td>\n",
              "      <td>0</td>\n",
              "      <td>0</td>\n",
              "      <td>0</td>\n",
              "      <td>1</td>\n",
              "      <td>0</td>\n",
              "    </tr>\n",
              "    <tr>\n",
              "      <th>1040</th>\n",
              "      <td>0</td>\n",
              "      <td>0</td>\n",
              "      <td>0</td>\n",
              "      <td>0</td>\n",
              "      <td>1</td>\n",
              "      <td>0</td>\n",
              "      <td>0</td>\n",
              "      <td>0</td>\n",
              "      <td>1</td>\n",
              "      <td>0</td>\n",
              "      <td>1</td>\n",
              "      <td>0</td>\n",
              "      <td>0</td>\n",
              "      <td>0</td>\n",
              "      <td>0</td>\n",
              "      <td>1</td>\n",
              "      <td>0</td>\n",
              "    </tr>\n",
              "    <tr>\n",
              "      <th>1041</th>\n",
              "      <td>0</td>\n",
              "      <td>0</td>\n",
              "      <td>1</td>\n",
              "      <td>0</td>\n",
              "      <td>0</td>\n",
              "      <td>0</td>\n",
              "      <td>0</td>\n",
              "      <td>1</td>\n",
              "      <td>0</td>\n",
              "      <td>0</td>\n",
              "      <td>1</td>\n",
              "      <td>0</td>\n",
              "      <td>0</td>\n",
              "      <td>0</td>\n",
              "      <td>0</td>\n",
              "      <td>1</td>\n",
              "      <td>0</td>\n",
              "    </tr>\n",
              "    <tr>\n",
              "      <th>1042</th>\n",
              "      <td>0</td>\n",
              "      <td>0</td>\n",
              "      <td>0</td>\n",
              "      <td>1</td>\n",
              "      <td>0</td>\n",
              "      <td>0</td>\n",
              "      <td>0</td>\n",
              "      <td>0</td>\n",
              "      <td>1</td>\n",
              "      <td>0</td>\n",
              "      <td>1</td>\n",
              "      <td>0</td>\n",
              "      <td>0</td>\n",
              "      <td>0</td>\n",
              "      <td>0</td>\n",
              "      <td>1</td>\n",
              "      <td>0</td>\n",
              "    </tr>\n",
              "    <tr>\n",
              "      <th>1043</th>\n",
              "      <td>0</td>\n",
              "      <td>0</td>\n",
              "      <td>0</td>\n",
              "      <td>1</td>\n",
              "      <td>0</td>\n",
              "      <td>0</td>\n",
              "      <td>0</td>\n",
              "      <td>1</td>\n",
              "      <td>0</td>\n",
              "      <td>0</td>\n",
              "      <td>1</td>\n",
              "      <td>0</td>\n",
              "      <td>0</td>\n",
              "      <td>0</td>\n",
              "      <td>0</td>\n",
              "      <td>1</td>\n",
              "      <td>0</td>\n",
              "    </tr>\n",
              "  </tbody>\n",
              "</table>\n",
              "<p>1044 rows × 17 columns</p>\n",
              "</div>"
            ],
            "text/plain": [
              "      Mjob_at_home  Mjob_health  ...  guardian_mother  guardian_other\n",
              "0                1            0  ...                1               0\n",
              "1                1            0  ...                0               0\n",
              "2                1            0  ...                1               0\n",
              "3                0            1  ...                1               0\n",
              "4                0            0  ...                0               0\n",
              "...            ...          ...  ...              ...             ...\n",
              "1039             0            0  ...                1               0\n",
              "1040             0            0  ...                1               0\n",
              "1041             0            0  ...                1               0\n",
              "1042             0            0  ...                1               0\n",
              "1043             0            0  ...                1               0\n",
              "\n",
              "[1044 rows x 17 columns]"
            ]
          },
          "metadata": {
            "tags": []
          },
          "execution_count": 31
        }
      ]
    },
    {
      "cell_type": "markdown",
      "metadata": {
        "id": "40u16MDD-PLu"
      },
      "source": [
        "##5. Нормализация"
      ]
    },
    {
      "cell_type": "markdown",
      "metadata": {
        "id": "2RusULWj-SFA"
      },
      "source": [
        "Перед применением алгоритмов машинного обучения количественные признаки полезно нормализовать.\n",
        "Выполним стандартизацию (линейное преобразование, приводящее все значения к нулевому среднему и единичному стандартному отклонению) всех признаков:"
      ]
    },
    {
      "cell_type": "code",
      "metadata": {
        "id": "YJ86lGL--M26",
        "outputId": "7c207f7a-4b39-4d56-ee25-5cb4ded8bbc4",
        "colab": {
          "base_uri": "https://localhost:8080/",
          "height": 317
        }
      },
      "source": [
        "data_numerical = data_raw[numerical_columns]\n",
        "data_numerical.describe()"
      ],
      "execution_count": null,
      "outputs": [
        {
          "output_type": "execute_result",
          "data": {
            "text/html": [
              "<div>\n",
              "<style scoped>\n",
              "    .dataframe tbody tr th:only-of-type {\n",
              "        vertical-align: middle;\n",
              "    }\n",
              "\n",
              "    .dataframe tbody tr th {\n",
              "        vertical-align: top;\n",
              "    }\n",
              "\n",
              "    .dataframe thead th {\n",
              "        text-align: right;\n",
              "    }\n",
              "</style>\n",
              "<table border=\"1\" class=\"dataframe\">\n",
              "  <thead>\n",
              "    <tr style=\"text-align: right;\">\n",
              "      <th></th>\n",
              "      <th>age</th>\n",
              "      <th>Medu</th>\n",
              "      <th>Fedu</th>\n",
              "      <th>traveltime</th>\n",
              "      <th>studytime</th>\n",
              "      <th>failures</th>\n",
              "      <th>famrel</th>\n",
              "      <th>freetime</th>\n",
              "      <th>goout</th>\n",
              "      <th>Dalc</th>\n",
              "      <th>Walc</th>\n",
              "      <th>health</th>\n",
              "      <th>absences</th>\n",
              "    </tr>\n",
              "  </thead>\n",
              "  <tbody>\n",
              "    <tr>\n",
              "      <th>count</th>\n",
              "      <td>1044.000000</td>\n",
              "      <td>1044.000000</td>\n",
              "      <td>1044.000000</td>\n",
              "      <td>1044.000000</td>\n",
              "      <td>1044.000000</td>\n",
              "      <td>1044.000000</td>\n",
              "      <td>1044.000000</td>\n",
              "      <td>1044.000000</td>\n",
              "      <td>1044.000000</td>\n",
              "      <td>1044.000000</td>\n",
              "      <td>1044.000000</td>\n",
              "      <td>1044.000000</td>\n",
              "      <td>1044.000000</td>\n",
              "    </tr>\n",
              "    <tr>\n",
              "      <th>mean</th>\n",
              "      <td>16.726054</td>\n",
              "      <td>2.603448</td>\n",
              "      <td>2.387931</td>\n",
              "      <td>1.522989</td>\n",
              "      <td>1.970307</td>\n",
              "      <td>0.264368</td>\n",
              "      <td>3.935824</td>\n",
              "      <td>3.201149</td>\n",
              "      <td>3.156130</td>\n",
              "      <td>1.494253</td>\n",
              "      <td>2.284483</td>\n",
              "      <td>3.543103</td>\n",
              "      <td>4.434866</td>\n",
              "    </tr>\n",
              "    <tr>\n",
              "      <th>std</th>\n",
              "      <td>1.239975</td>\n",
              "      <td>1.124907</td>\n",
              "      <td>1.099938</td>\n",
              "      <td>0.731727</td>\n",
              "      <td>0.834353</td>\n",
              "      <td>0.656142</td>\n",
              "      <td>0.933401</td>\n",
              "      <td>1.031507</td>\n",
              "      <td>1.152575</td>\n",
              "      <td>0.911714</td>\n",
              "      <td>1.285105</td>\n",
              "      <td>1.424703</td>\n",
              "      <td>6.210017</td>\n",
              "    </tr>\n",
              "    <tr>\n",
              "      <th>min</th>\n",
              "      <td>15.000000</td>\n",
              "      <td>0.000000</td>\n",
              "      <td>0.000000</td>\n",
              "      <td>1.000000</td>\n",
              "      <td>1.000000</td>\n",
              "      <td>0.000000</td>\n",
              "      <td>1.000000</td>\n",
              "      <td>1.000000</td>\n",
              "      <td>1.000000</td>\n",
              "      <td>1.000000</td>\n",
              "      <td>1.000000</td>\n",
              "      <td>1.000000</td>\n",
              "      <td>0.000000</td>\n",
              "    </tr>\n",
              "    <tr>\n",
              "      <th>25%</th>\n",
              "      <td>16.000000</td>\n",
              "      <td>2.000000</td>\n",
              "      <td>1.000000</td>\n",
              "      <td>1.000000</td>\n",
              "      <td>1.000000</td>\n",
              "      <td>0.000000</td>\n",
              "      <td>4.000000</td>\n",
              "      <td>3.000000</td>\n",
              "      <td>2.000000</td>\n",
              "      <td>1.000000</td>\n",
              "      <td>1.000000</td>\n",
              "      <td>3.000000</td>\n",
              "      <td>0.000000</td>\n",
              "    </tr>\n",
              "    <tr>\n",
              "      <th>50%</th>\n",
              "      <td>17.000000</td>\n",
              "      <td>3.000000</td>\n",
              "      <td>2.000000</td>\n",
              "      <td>1.000000</td>\n",
              "      <td>2.000000</td>\n",
              "      <td>0.000000</td>\n",
              "      <td>4.000000</td>\n",
              "      <td>3.000000</td>\n",
              "      <td>3.000000</td>\n",
              "      <td>1.000000</td>\n",
              "      <td>2.000000</td>\n",
              "      <td>4.000000</td>\n",
              "      <td>2.000000</td>\n",
              "    </tr>\n",
              "    <tr>\n",
              "      <th>75%</th>\n",
              "      <td>18.000000</td>\n",
              "      <td>4.000000</td>\n",
              "      <td>3.000000</td>\n",
              "      <td>2.000000</td>\n",
              "      <td>2.000000</td>\n",
              "      <td>0.000000</td>\n",
              "      <td>5.000000</td>\n",
              "      <td>4.000000</td>\n",
              "      <td>4.000000</td>\n",
              "      <td>2.000000</td>\n",
              "      <td>3.000000</td>\n",
              "      <td>5.000000</td>\n",
              "      <td>6.000000</td>\n",
              "    </tr>\n",
              "    <tr>\n",
              "      <th>max</th>\n",
              "      <td>22.000000</td>\n",
              "      <td>4.000000</td>\n",
              "      <td>4.000000</td>\n",
              "      <td>4.000000</td>\n",
              "      <td>4.000000</td>\n",
              "      <td>3.000000</td>\n",
              "      <td>5.000000</td>\n",
              "      <td>5.000000</td>\n",
              "      <td>5.000000</td>\n",
              "      <td>5.000000</td>\n",
              "      <td>5.000000</td>\n",
              "      <td>5.000000</td>\n",
              "      <td>75.000000</td>\n",
              "    </tr>\n",
              "  </tbody>\n",
              "</table>\n",
              "</div>"
            ],
            "text/plain": [
              "               age         Medu  ...       health     absences\n",
              "count  1044.000000  1044.000000  ...  1044.000000  1044.000000\n",
              "mean     16.726054     2.603448  ...     3.543103     4.434866\n",
              "std       1.239975     1.124907  ...     1.424703     6.210017\n",
              "min      15.000000     0.000000  ...     1.000000     0.000000\n",
              "25%      16.000000     2.000000  ...     3.000000     0.000000\n",
              "50%      17.000000     3.000000  ...     4.000000     2.000000\n",
              "75%      18.000000     4.000000  ...     5.000000     6.000000\n",
              "max      22.000000     4.000000  ...     5.000000    75.000000\n",
              "\n",
              "[8 rows x 13 columns]"
            ]
          },
          "metadata": {
            "tags": []
          },
          "execution_count": 32
        }
      ]
    },
    {
      "cell_type": "code",
      "metadata": {
        "id": "iHAe643Y-Tz2"
      },
      "source": [
        "data_numerical = (data_numerical - data_numerical.mean(axis = 0))/data_numerical.std(axis = 0)"
      ],
      "execution_count": null,
      "outputs": []
    },
    {
      "cell_type": "code",
      "metadata": {
        "id": "N04K0_iR-Vpl",
        "outputId": "bdfbd209-ced0-4a36-d30d-8d2ab277ba40",
        "colab": {
          "base_uri": "https://localhost:8080/",
          "height": 402
        }
      },
      "source": [
        "data_numerical.describe()"
      ],
      "execution_count": null,
      "outputs": [
        {
          "output_type": "execute_result",
          "data": {
            "text/html": [
              "<div>\n",
              "<style scoped>\n",
              "    .dataframe tbody tr th:only-of-type {\n",
              "        vertical-align: middle;\n",
              "    }\n",
              "\n",
              "    .dataframe tbody tr th {\n",
              "        vertical-align: top;\n",
              "    }\n",
              "\n",
              "    .dataframe thead th {\n",
              "        text-align: right;\n",
              "    }\n",
              "</style>\n",
              "<table border=\"1\" class=\"dataframe\">\n",
              "  <thead>\n",
              "    <tr style=\"text-align: right;\">\n",
              "      <th></th>\n",
              "      <th>age</th>\n",
              "      <th>Medu</th>\n",
              "      <th>Fedu</th>\n",
              "      <th>traveltime</th>\n",
              "      <th>studytime</th>\n",
              "      <th>failures</th>\n",
              "      <th>famrel</th>\n",
              "      <th>freetime</th>\n",
              "      <th>goout</th>\n",
              "      <th>Dalc</th>\n",
              "      <th>Walc</th>\n",
              "      <th>health</th>\n",
              "      <th>absences</th>\n",
              "    </tr>\n",
              "  </thead>\n",
              "  <tbody>\n",
              "    <tr>\n",
              "      <th>count</th>\n",
              "      <td>1.044000e+03</td>\n",
              "      <td>1.044000e+03</td>\n",
              "      <td>1.044000e+03</td>\n",
              "      <td>1.044000e+03</td>\n",
              "      <td>1.044000e+03</td>\n",
              "      <td>1.044000e+03</td>\n",
              "      <td>1.044000e+03</td>\n",
              "      <td>1.044000e+03</td>\n",
              "      <td>1.044000e+03</td>\n",
              "      <td>1.044000e+03</td>\n",
              "      <td>1.044000e+03</td>\n",
              "      <td>1.044000e+03</td>\n",
              "      <td>1.044000e+03</td>\n",
              "    </tr>\n",
              "    <tr>\n",
              "      <th>mean</th>\n",
              "      <td>-4.594026e-16</td>\n",
              "      <td>-6.107290e-16</td>\n",
              "      <td>-1.079543e-15</td>\n",
              "      <td>-3.836863e-16</td>\n",
              "      <td>-2.177909e-16</td>\n",
              "      <td>3.422124e-16</td>\n",
              "      <td>-4.714992e-17</td>\n",
              "      <td>-2.511826e-16</td>\n",
              "      <td>8.294770e-17</td>\n",
              "      <td>2.560744e-16</td>\n",
              "      <td>3.466788e-16</td>\n",
              "      <td>4.679101e-18</td>\n",
              "      <td>-1.023952e-16</td>\n",
              "    </tr>\n",
              "    <tr>\n",
              "      <th>std</th>\n",
              "      <td>1.000000e+00</td>\n",
              "      <td>1.000000e+00</td>\n",
              "      <td>1.000000e+00</td>\n",
              "      <td>1.000000e+00</td>\n",
              "      <td>1.000000e+00</td>\n",
              "      <td>1.000000e+00</td>\n",
              "      <td>1.000000e+00</td>\n",
              "      <td>1.000000e+00</td>\n",
              "      <td>1.000000e+00</td>\n",
              "      <td>1.000000e+00</td>\n",
              "      <td>1.000000e+00</td>\n",
              "      <td>1.000000e+00</td>\n",
              "      <td>1.000000e+00</td>\n",
              "    </tr>\n",
              "    <tr>\n",
              "      <th>min</th>\n",
              "      <td>-1.392007e+00</td>\n",
              "      <td>-2.314368e+00</td>\n",
              "      <td>-2.170969e+00</td>\n",
              "      <td>-7.147313e-01</td>\n",
              "      <td>-1.162945e+00</td>\n",
              "      <td>-4.029126e-01</td>\n",
              "      <td>-3.145298e+00</td>\n",
              "      <td>-2.133916e+00</td>\n",
              "      <td>-1.870708e+00</td>\n",
              "      <td>-5.421138e-01</td>\n",
              "      <td>-9.995160e-01</td>\n",
              "      <td>-1.785006e+00</td>\n",
              "      <td>-7.141472e-01</td>\n",
              "    </tr>\n",
              "    <tr>\n",
              "      <th>25%</th>\n",
              "      <td>-5.855391e-01</td>\n",
              "      <td>-5.364430e-01</td>\n",
              "      <td>-1.261827e+00</td>\n",
              "      <td>-7.147313e-01</td>\n",
              "      <td>-1.162945e+00</td>\n",
              "      <td>-4.029126e-01</td>\n",
              "      <td>6.875529e-02</td>\n",
              "      <td>-1.950054e-01</td>\n",
              "      <td>-1.003085e+00</td>\n",
              "      <td>-5.421138e-01</td>\n",
              "      <td>-9.995160e-01</td>\n",
              "      <td>-3.812046e-01</td>\n",
              "      <td>-7.141472e-01</td>\n",
              "    </tr>\n",
              "    <tr>\n",
              "      <th>50%</th>\n",
              "      <td>2.209290e-01</td>\n",
              "      <td>3.525197e-01</td>\n",
              "      <td>-3.526844e-01</td>\n",
              "      <td>-7.147313e-01</td>\n",
              "      <td>3.558863e-02</td>\n",
              "      <td>-4.029126e-01</td>\n",
              "      <td>6.875529e-02</td>\n",
              "      <td>-1.950054e-01</td>\n",
              "      <td>-1.354622e-01</td>\n",
              "      <td>-5.421138e-01</td>\n",
              "      <td>-2.213693e-01</td>\n",
              "      <td>3.206959e-01</td>\n",
              "      <td>-3.920869e-01</td>\n",
              "    </tr>\n",
              "    <tr>\n",
              "      <th>75%</th>\n",
              "      <td>1.027397e+00</td>\n",
              "      <td>1.241482e+00</td>\n",
              "      <td>5.564577e-01</td>\n",
              "      <td>6.518978e-01</td>\n",
              "      <td>3.558863e-02</td>\n",
              "      <td>-4.029126e-01</td>\n",
              "      <td>1.140106e+00</td>\n",
              "      <td>7.744501e-01</td>\n",
              "      <td>7.321606e-01</td>\n",
              "      <td>5.547211e-01</td>\n",
              "      <td>5.567773e-01</td>\n",
              "      <td>1.022596e+00</td>\n",
              "      <td>2.520338e-01</td>\n",
              "    </tr>\n",
              "    <tr>\n",
              "      <th>max</th>\n",
              "      <td>4.253269e+00</td>\n",
              "      <td>1.241482e+00</td>\n",
              "      <td>1.465600e+00</td>\n",
              "      <td>3.385156e+00</td>\n",
              "      <td>2.432655e+00</td>\n",
              "      <td>4.169270e+00</td>\n",
              "      <td>1.140106e+00</td>\n",
              "      <td>1.743906e+00</td>\n",
              "      <td>1.599783e+00</td>\n",
              "      <td>3.845226e+00</td>\n",
              "      <td>2.113071e+00</td>\n",
              "      <td>1.022596e+00</td>\n",
              "      <td>1.136312e+01</td>\n",
              "    </tr>\n",
              "  </tbody>\n",
              "</table>\n",
              "</div>"
            ],
            "text/plain": [
              "                age          Medu  ...        health      absences\n",
              "count  1.044000e+03  1.044000e+03  ...  1.044000e+03  1.044000e+03\n",
              "mean  -4.594026e-16 -6.107290e-16  ...  4.679101e-18 -1.023952e-16\n",
              "std    1.000000e+00  1.000000e+00  ...  1.000000e+00  1.000000e+00\n",
              "min   -1.392007e+00 -2.314368e+00  ... -1.785006e+00 -7.141472e-01\n",
              "25%   -5.855391e-01 -5.364430e-01  ... -3.812046e-01 -7.141472e-01\n",
              "50%    2.209290e-01  3.525197e-01  ...  3.206959e-01 -3.920869e-01\n",
              "75%    1.027397e+00  1.241482e+00  ...  1.022596e+00  2.520338e-01\n",
              "max    4.253269e+00  1.241482e+00  ...  1.022596e+00  1.136312e+01\n",
              "\n",
              "[8 rows x 13 columns]"
            ]
          },
          "metadata": {
            "tags": []
          },
          "execution_count": 34
        }
      ]
    },
    {
      "cell_type": "markdown",
      "metadata": {
        "id": "gNoauYDh-Yrg"
      },
      "source": [
        "Соединим всё в одну таблицу:"
      ]
    },
    {
      "cell_type": "code",
      "metadata": {
        "id": "lPSVf-Bl-W9U",
        "outputId": "ac0d3312-9e1c-4f60-ad57-da96a5e1bb10",
        "colab": {
          "base_uri": "https://localhost:8080/",
          "height": 34
        }
      },
      "source": [
        "data = pd.concat((data_numerical, data_nonbinary, data_raw[binary_columns]), axis = 1)\n",
        "print(data.shape)"
      ],
      "execution_count": null,
      "outputs": [
        {
          "output_type": "stream",
          "text": [
            "(1044, 43)\n"
          ],
          "name": "stdout"
        }
      ]
    },
    {
      "cell_type": "code",
      "metadata": {
        "id": "07S5Mx0R-aOF",
        "outputId": "17f3927f-7da6-418d-fe35-b403acde97f4",
        "colab": {
          "base_uri": "https://localhost:8080/",
          "height": 402
        }
      },
      "source": [
        "data.describe()"
      ],
      "execution_count": null,
      "outputs": [
        {
          "output_type": "execute_result",
          "data": {
            "text/html": [
              "<div>\n",
              "<style scoped>\n",
              "    .dataframe tbody tr th:only-of-type {\n",
              "        vertical-align: middle;\n",
              "    }\n",
              "\n",
              "    .dataframe tbody tr th {\n",
              "        vertical-align: top;\n",
              "    }\n",
              "\n",
              "    .dataframe thead th {\n",
              "        text-align: right;\n",
              "    }\n",
              "</style>\n",
              "<table border=\"1\" class=\"dataframe\">\n",
              "  <thead>\n",
              "    <tr style=\"text-align: right;\">\n",
              "      <th></th>\n",
              "      <th>age</th>\n",
              "      <th>Medu</th>\n",
              "      <th>Fedu</th>\n",
              "      <th>traveltime</th>\n",
              "      <th>studytime</th>\n",
              "      <th>failures</th>\n",
              "      <th>famrel</th>\n",
              "      <th>freetime</th>\n",
              "      <th>goout</th>\n",
              "      <th>Dalc</th>\n",
              "      <th>Walc</th>\n",
              "      <th>health</th>\n",
              "      <th>absences</th>\n",
              "      <th>Mjob_at_home</th>\n",
              "      <th>Mjob_health</th>\n",
              "      <th>Mjob_other</th>\n",
              "      <th>Mjob_services</th>\n",
              "      <th>Mjob_teacher</th>\n",
              "      <th>Fjob_at_home</th>\n",
              "      <th>Fjob_health</th>\n",
              "      <th>Fjob_other</th>\n",
              "      <th>Fjob_services</th>\n",
              "      <th>Fjob_teacher</th>\n",
              "      <th>reason_course</th>\n",
              "      <th>reason_home</th>\n",
              "      <th>reason_other</th>\n",
              "      <th>reason_reputation</th>\n",
              "      <th>guardian_father</th>\n",
              "      <th>guardian_mother</th>\n",
              "      <th>guardian_other</th>\n",
              "      <th>school</th>\n",
              "      <th>sex</th>\n",
              "      <th>address</th>\n",
              "      <th>famsize</th>\n",
              "      <th>Pstatus</th>\n",
              "      <th>schoolsup</th>\n",
              "      <th>famsup</th>\n",
              "      <th>paid</th>\n",
              "      <th>activities</th>\n",
              "      <th>nursery</th>\n",
              "      <th>higher</th>\n",
              "      <th>internet</th>\n",
              "      <th>romantic</th>\n",
              "    </tr>\n",
              "  </thead>\n",
              "  <tbody>\n",
              "    <tr>\n",
              "      <th>count</th>\n",
              "      <td>1.044000e+03</td>\n",
              "      <td>1.044000e+03</td>\n",
              "      <td>1.044000e+03</td>\n",
              "      <td>1.044000e+03</td>\n",
              "      <td>1.044000e+03</td>\n",
              "      <td>1.044000e+03</td>\n",
              "      <td>1.044000e+03</td>\n",
              "      <td>1.044000e+03</td>\n",
              "      <td>1.044000e+03</td>\n",
              "      <td>1.044000e+03</td>\n",
              "      <td>1.044000e+03</td>\n",
              "      <td>1.044000e+03</td>\n",
              "      <td>1.044000e+03</td>\n",
              "      <td>1044.000000</td>\n",
              "      <td>1044.000000</td>\n",
              "      <td>1044.000000</td>\n",
              "      <td>1044.000000</td>\n",
              "      <td>1044.000000</td>\n",
              "      <td>1044.000000</td>\n",
              "      <td>1044.000000</td>\n",
              "      <td>1044.000000</td>\n",
              "      <td>1044.000000</td>\n",
              "      <td>1044.000000</td>\n",
              "      <td>1044.000000</td>\n",
              "      <td>1044.000000</td>\n",
              "      <td>1044.000000</td>\n",
              "      <td>1044.000000</td>\n",
              "      <td>1044.000000</td>\n",
              "      <td>1044.000000</td>\n",
              "      <td>1044.000000</td>\n",
              "      <td>1044.000000</td>\n",
              "      <td>1044.000000</td>\n",
              "      <td>1044.000000</td>\n",
              "      <td>1044.000000</td>\n",
              "      <td>1044.000000</td>\n",
              "      <td>1044.000000</td>\n",
              "      <td>1044.000000</td>\n",
              "      <td>1044.000000</td>\n",
              "      <td>1044.000000</td>\n",
              "      <td>1044.000000</td>\n",
              "      <td>1044.000000</td>\n",
              "      <td>1044.000000</td>\n",
              "      <td>1044.000000</td>\n",
              "    </tr>\n",
              "    <tr>\n",
              "      <th>mean</th>\n",
              "      <td>-4.594026e-16</td>\n",
              "      <td>-6.107290e-16</td>\n",
              "      <td>-1.079543e-15</td>\n",
              "      <td>-3.836863e-16</td>\n",
              "      <td>-2.177909e-16</td>\n",
              "      <td>3.422124e-16</td>\n",
              "      <td>-4.714992e-17</td>\n",
              "      <td>-2.511826e-16</td>\n",
              "      <td>8.294770e-17</td>\n",
              "      <td>2.560744e-16</td>\n",
              "      <td>3.466788e-16</td>\n",
              "      <td>4.679101e-18</td>\n",
              "      <td>-1.023952e-16</td>\n",
              "      <td>0.185824</td>\n",
              "      <td>0.078544</td>\n",
              "      <td>0.382184</td>\n",
              "      <td>0.228927</td>\n",
              "      <td>0.124521</td>\n",
              "      <td>0.059387</td>\n",
              "      <td>0.036398</td>\n",
              "      <td>0.571839</td>\n",
              "      <td>0.273946</td>\n",
              "      <td>0.058429</td>\n",
              "      <td>0.416667</td>\n",
              "      <td>0.245211</td>\n",
              "      <td>0.102490</td>\n",
              "      <td>0.235632</td>\n",
              "      <td>0.232759</td>\n",
              "      <td>0.697318</td>\n",
              "      <td>0.069923</td>\n",
              "      <td>0.260536</td>\n",
              "      <td>0.433908</td>\n",
              "      <td>0.272989</td>\n",
              "      <td>0.293103</td>\n",
              "      <td>0.884100</td>\n",
              "      <td>0.886015</td>\n",
              "      <td>0.618774</td>\n",
              "      <td>0.204981</td>\n",
              "      <td>0.491379</td>\n",
              "      <td>0.200192</td>\n",
              "      <td>0.085249</td>\n",
              "      <td>0.792146</td>\n",
              "      <td>0.355364</td>\n",
              "    </tr>\n",
              "    <tr>\n",
              "      <th>std</th>\n",
              "      <td>1.000000e+00</td>\n",
              "      <td>1.000000e+00</td>\n",
              "      <td>1.000000e+00</td>\n",
              "      <td>1.000000e+00</td>\n",
              "      <td>1.000000e+00</td>\n",
              "      <td>1.000000e+00</td>\n",
              "      <td>1.000000e+00</td>\n",
              "      <td>1.000000e+00</td>\n",
              "      <td>1.000000e+00</td>\n",
              "      <td>1.000000e+00</td>\n",
              "      <td>1.000000e+00</td>\n",
              "      <td>1.000000e+00</td>\n",
              "      <td>1.000000e+00</td>\n",
              "      <td>0.389151</td>\n",
              "      <td>0.269155</td>\n",
              "      <td>0.486154</td>\n",
              "      <td>0.420344</td>\n",
              "      <td>0.330333</td>\n",
              "      <td>0.236461</td>\n",
              "      <td>0.187369</td>\n",
              "      <td>0.495049</td>\n",
              "      <td>0.446196</td>\n",
              "      <td>0.234666</td>\n",
              "      <td>0.493243</td>\n",
              "      <td>0.430418</td>\n",
              "      <td>0.303438</td>\n",
              "      <td>0.424597</td>\n",
              "      <td>0.422792</td>\n",
              "      <td>0.459639</td>\n",
              "      <td>0.255140</td>\n",
              "      <td>0.439138</td>\n",
              "      <td>0.495850</td>\n",
              "      <td>0.445708</td>\n",
              "      <td>0.455404</td>\n",
              "      <td>0.320259</td>\n",
              "      <td>0.317945</td>\n",
              "      <td>0.485921</td>\n",
              "      <td>0.403881</td>\n",
              "      <td>0.500165</td>\n",
              "      <td>0.400335</td>\n",
              "      <td>0.279386</td>\n",
              "      <td>0.405967</td>\n",
              "      <td>0.478853</td>\n",
              "    </tr>\n",
              "    <tr>\n",
              "      <th>min</th>\n",
              "      <td>-1.392007e+00</td>\n",
              "      <td>-2.314368e+00</td>\n",
              "      <td>-2.170969e+00</td>\n",
              "      <td>-7.147313e-01</td>\n",
              "      <td>-1.162945e+00</td>\n",
              "      <td>-4.029126e-01</td>\n",
              "      <td>-3.145298e+00</td>\n",
              "      <td>-2.133916e+00</td>\n",
              "      <td>-1.870708e+00</td>\n",
              "      <td>-5.421138e-01</td>\n",
              "      <td>-9.995160e-01</td>\n",
              "      <td>-1.785006e+00</td>\n",
              "      <td>-7.141472e-01</td>\n",
              "      <td>0.000000</td>\n",
              "      <td>0.000000</td>\n",
              "      <td>0.000000</td>\n",
              "      <td>0.000000</td>\n",
              "      <td>0.000000</td>\n",
              "      <td>0.000000</td>\n",
              "      <td>0.000000</td>\n",
              "      <td>0.000000</td>\n",
              "      <td>0.000000</td>\n",
              "      <td>0.000000</td>\n",
              "      <td>0.000000</td>\n",
              "      <td>0.000000</td>\n",
              "      <td>0.000000</td>\n",
              "      <td>0.000000</td>\n",
              "      <td>0.000000</td>\n",
              "      <td>0.000000</td>\n",
              "      <td>0.000000</td>\n",
              "      <td>0.000000</td>\n",
              "      <td>0.000000</td>\n",
              "      <td>0.000000</td>\n",
              "      <td>0.000000</td>\n",
              "      <td>0.000000</td>\n",
              "      <td>0.000000</td>\n",
              "      <td>0.000000</td>\n",
              "      <td>0.000000</td>\n",
              "      <td>0.000000</td>\n",
              "      <td>0.000000</td>\n",
              "      <td>0.000000</td>\n",
              "      <td>0.000000</td>\n",
              "      <td>0.000000</td>\n",
              "    </tr>\n",
              "    <tr>\n",
              "      <th>25%</th>\n",
              "      <td>-5.855391e-01</td>\n",
              "      <td>-5.364430e-01</td>\n",
              "      <td>-1.261827e+00</td>\n",
              "      <td>-7.147313e-01</td>\n",
              "      <td>-1.162945e+00</td>\n",
              "      <td>-4.029126e-01</td>\n",
              "      <td>6.875529e-02</td>\n",
              "      <td>-1.950054e-01</td>\n",
              "      <td>-1.003085e+00</td>\n",
              "      <td>-5.421138e-01</td>\n",
              "      <td>-9.995160e-01</td>\n",
              "      <td>-3.812046e-01</td>\n",
              "      <td>-7.141472e-01</td>\n",
              "      <td>0.000000</td>\n",
              "      <td>0.000000</td>\n",
              "      <td>0.000000</td>\n",
              "      <td>0.000000</td>\n",
              "      <td>0.000000</td>\n",
              "      <td>0.000000</td>\n",
              "      <td>0.000000</td>\n",
              "      <td>0.000000</td>\n",
              "      <td>0.000000</td>\n",
              "      <td>0.000000</td>\n",
              "      <td>0.000000</td>\n",
              "      <td>0.000000</td>\n",
              "      <td>0.000000</td>\n",
              "      <td>0.000000</td>\n",
              "      <td>0.000000</td>\n",
              "      <td>0.000000</td>\n",
              "      <td>0.000000</td>\n",
              "      <td>0.000000</td>\n",
              "      <td>0.000000</td>\n",
              "      <td>0.000000</td>\n",
              "      <td>0.000000</td>\n",
              "      <td>1.000000</td>\n",
              "      <td>1.000000</td>\n",
              "      <td>0.000000</td>\n",
              "      <td>0.000000</td>\n",
              "      <td>0.000000</td>\n",
              "      <td>0.000000</td>\n",
              "      <td>0.000000</td>\n",
              "      <td>1.000000</td>\n",
              "      <td>0.000000</td>\n",
              "    </tr>\n",
              "    <tr>\n",
              "      <th>50%</th>\n",
              "      <td>2.209290e-01</td>\n",
              "      <td>3.525197e-01</td>\n",
              "      <td>-3.526844e-01</td>\n",
              "      <td>-7.147313e-01</td>\n",
              "      <td>3.558863e-02</td>\n",
              "      <td>-4.029126e-01</td>\n",
              "      <td>6.875529e-02</td>\n",
              "      <td>-1.950054e-01</td>\n",
              "      <td>-1.354622e-01</td>\n",
              "      <td>-5.421138e-01</td>\n",
              "      <td>-2.213693e-01</td>\n",
              "      <td>3.206959e-01</td>\n",
              "      <td>-3.920869e-01</td>\n",
              "      <td>0.000000</td>\n",
              "      <td>0.000000</td>\n",
              "      <td>0.000000</td>\n",
              "      <td>0.000000</td>\n",
              "      <td>0.000000</td>\n",
              "      <td>0.000000</td>\n",
              "      <td>0.000000</td>\n",
              "      <td>1.000000</td>\n",
              "      <td>0.000000</td>\n",
              "      <td>0.000000</td>\n",
              "      <td>0.000000</td>\n",
              "      <td>0.000000</td>\n",
              "      <td>0.000000</td>\n",
              "      <td>0.000000</td>\n",
              "      <td>0.000000</td>\n",
              "      <td>1.000000</td>\n",
              "      <td>0.000000</td>\n",
              "      <td>0.000000</td>\n",
              "      <td>0.000000</td>\n",
              "      <td>0.000000</td>\n",
              "      <td>0.000000</td>\n",
              "      <td>1.000000</td>\n",
              "      <td>1.000000</td>\n",
              "      <td>1.000000</td>\n",
              "      <td>0.000000</td>\n",
              "      <td>0.000000</td>\n",
              "      <td>0.000000</td>\n",
              "      <td>0.000000</td>\n",
              "      <td>1.000000</td>\n",
              "      <td>0.000000</td>\n",
              "    </tr>\n",
              "    <tr>\n",
              "      <th>75%</th>\n",
              "      <td>1.027397e+00</td>\n",
              "      <td>1.241482e+00</td>\n",
              "      <td>5.564577e-01</td>\n",
              "      <td>6.518978e-01</td>\n",
              "      <td>3.558863e-02</td>\n",
              "      <td>-4.029126e-01</td>\n",
              "      <td>1.140106e+00</td>\n",
              "      <td>7.744501e-01</td>\n",
              "      <td>7.321606e-01</td>\n",
              "      <td>5.547211e-01</td>\n",
              "      <td>5.567773e-01</td>\n",
              "      <td>1.022596e+00</td>\n",
              "      <td>2.520338e-01</td>\n",
              "      <td>0.000000</td>\n",
              "      <td>0.000000</td>\n",
              "      <td>1.000000</td>\n",
              "      <td>0.000000</td>\n",
              "      <td>0.000000</td>\n",
              "      <td>0.000000</td>\n",
              "      <td>0.000000</td>\n",
              "      <td>1.000000</td>\n",
              "      <td>1.000000</td>\n",
              "      <td>0.000000</td>\n",
              "      <td>1.000000</td>\n",
              "      <td>0.000000</td>\n",
              "      <td>0.000000</td>\n",
              "      <td>0.000000</td>\n",
              "      <td>0.000000</td>\n",
              "      <td>1.000000</td>\n",
              "      <td>0.000000</td>\n",
              "      <td>1.000000</td>\n",
              "      <td>1.000000</td>\n",
              "      <td>1.000000</td>\n",
              "      <td>1.000000</td>\n",
              "      <td>1.000000</td>\n",
              "      <td>1.000000</td>\n",
              "      <td>1.000000</td>\n",
              "      <td>0.000000</td>\n",
              "      <td>1.000000</td>\n",
              "      <td>0.000000</td>\n",
              "      <td>0.000000</td>\n",
              "      <td>1.000000</td>\n",
              "      <td>1.000000</td>\n",
              "    </tr>\n",
              "    <tr>\n",
              "      <th>max</th>\n",
              "      <td>4.253269e+00</td>\n",
              "      <td>1.241482e+00</td>\n",
              "      <td>1.465600e+00</td>\n",
              "      <td>3.385156e+00</td>\n",
              "      <td>2.432655e+00</td>\n",
              "      <td>4.169270e+00</td>\n",
              "      <td>1.140106e+00</td>\n",
              "      <td>1.743906e+00</td>\n",
              "      <td>1.599783e+00</td>\n",
              "      <td>3.845226e+00</td>\n",
              "      <td>2.113071e+00</td>\n",
              "      <td>1.022596e+00</td>\n",
              "      <td>1.136312e+01</td>\n",
              "      <td>1.000000</td>\n",
              "      <td>1.000000</td>\n",
              "      <td>1.000000</td>\n",
              "      <td>1.000000</td>\n",
              "      <td>1.000000</td>\n",
              "      <td>1.000000</td>\n",
              "      <td>1.000000</td>\n",
              "      <td>1.000000</td>\n",
              "      <td>1.000000</td>\n",
              "      <td>1.000000</td>\n",
              "      <td>1.000000</td>\n",
              "      <td>1.000000</td>\n",
              "      <td>1.000000</td>\n",
              "      <td>1.000000</td>\n",
              "      <td>1.000000</td>\n",
              "      <td>1.000000</td>\n",
              "      <td>1.000000</td>\n",
              "      <td>1.000000</td>\n",
              "      <td>1.000000</td>\n",
              "      <td>1.000000</td>\n",
              "      <td>1.000000</td>\n",
              "      <td>1.000000</td>\n",
              "      <td>1.000000</td>\n",
              "      <td>1.000000</td>\n",
              "      <td>1.000000</td>\n",
              "      <td>1.000000</td>\n",
              "      <td>1.000000</td>\n",
              "      <td>1.000000</td>\n",
              "      <td>1.000000</td>\n",
              "      <td>1.000000</td>\n",
              "    </tr>\n",
              "  </tbody>\n",
              "</table>\n",
              "</div>"
            ],
            "text/plain": [
              "                age          Medu  ...     internet     romantic\n",
              "count  1.044000e+03  1.044000e+03  ...  1044.000000  1044.000000\n",
              "mean  -4.594026e-16 -6.107290e-16  ...     0.792146     0.355364\n",
              "std    1.000000e+00  1.000000e+00  ...     0.405967     0.478853\n",
              "min   -1.392007e+00 -2.314368e+00  ...     0.000000     0.000000\n",
              "25%   -5.855391e-01 -5.364430e-01  ...     1.000000     0.000000\n",
              "50%    2.209290e-01  3.525197e-01  ...     1.000000     0.000000\n",
              "75%    1.027397e+00  1.241482e+00  ...     1.000000     1.000000\n",
              "max    4.253269e+00  1.241482e+00  ...     1.000000     1.000000\n",
              "\n",
              "[8 rows x 43 columns]"
            ]
          },
          "metadata": {
            "tags": []
          },
          "execution_count": 36
        }
      ]
    },
    {
      "cell_type": "markdown",
      "metadata": {
        "id": "rbdIEEfQ-dYh"
      },
      "source": [
        "##6. Разбиение данных на обучающую и тестовую выборки"
      ]
    },
    {
      "cell_type": "code",
      "metadata": {
        "id": "QGz5hWwq-bXo"
      },
      "source": [
        "X = data\n",
        "y = Mark_col\n",
        "feature_names = X.columns"
      ],
      "execution_count": null,
      "outputs": []
    },
    {
      "cell_type": "code",
      "metadata": {
        "id": "9ts02TH9-fhc",
        "outputId": "6ccbee95-4da9-46e2-eeb5-4410ba87c4d4",
        "colab": {
          "base_uri": "https://localhost:8080/",
          "height": 34
        }
      },
      "source": [
        "type(feature_names)"
      ],
      "execution_count": null,
      "outputs": [
        {
          "output_type": "execute_result",
          "data": {
            "text/plain": [
              "pandas.core.indexes.base.Index"
            ]
          },
          "metadata": {
            "tags": []
          },
          "execution_count": 38
        }
      ]
    },
    {
      "cell_type": "code",
      "metadata": {
        "id": "WDJLmWlr-gve",
        "outputId": "1309d38c-538d-4688-f1d1-192e31af1bd1",
        "colab": {
          "base_uri": "https://localhost:8080/",
          "height": 187
        }
      },
      "source": [
        "feature_names"
      ],
      "execution_count": null,
      "outputs": [
        {
          "output_type": "execute_result",
          "data": {
            "text/plain": [
              "Index(['age', 'Medu', 'Fedu', 'traveltime', 'studytime', 'failures', 'famrel',\n",
              "       'freetime', 'goout', 'Dalc', 'Walc', 'health', 'absences',\n",
              "       'Mjob_at_home', 'Mjob_health', 'Mjob_other', 'Mjob_services',\n",
              "       'Mjob_teacher', 'Fjob_at_home', 'Fjob_health', 'Fjob_other',\n",
              "       'Fjob_services', 'Fjob_teacher', 'reason_course', 'reason_home',\n",
              "       'reason_other', 'reason_reputation', 'guardian_father',\n",
              "       'guardian_mother', 'guardian_other', 'school', 'sex', 'address',\n",
              "       'famsize', 'Pstatus', 'schoolsup', 'famsup', 'paid', 'activities',\n",
              "       'nursery', 'higher', 'internet', 'romantic'],\n",
              "      dtype='object')"
            ]
          },
          "metadata": {
            "tags": []
          },
          "execution_count": 39
        }
      ]
    },
    {
      "cell_type": "markdown",
      "metadata": {
        "id": "Uz98_wM--jwL"
      },
      "source": [
        "70% выборки сделаем обучающей, остальные 30% - тестовой"
      ]
    },
    {
      "cell_type": "code",
      "metadata": {
        "id": "ATHCZMFn-iEY",
        "outputId": "877e0ab5-5ddd-4cd3-e7d3-c155f4a2c2f7",
        "colab": {
          "base_uri": "https://localhost:8080/",
          "height": 34
        }
      },
      "source": [
        "from sklearn.model_selection import train_test_split\n",
        "X_train, X_test, y_train, y_test = train_test_split(X, y, test_size = 0.3, random_state = 42)\n",
        "\n",
        "N_train, _ = X_train.shape \n",
        "N_test,  _ = X_test.shape \n",
        "\n",
        "print(N_train, N_test)"
      ],
      "execution_count": null,
      "outputs": [
        {
          "output_type": "stream",
          "text": [
            "730 314\n"
          ],
          "name": "stdout"
        }
      ]
    },
    {
      "cell_type": "markdown",
      "metadata": {
        "id": "1dQAXvZa-nLE"
      },
      "source": [
        "##7. Классификация и вычисление ошибок"
      ]
    },
    {
      "cell_type": "markdown",
      "metadata": {
        "id": "LErk-Un8-quL"
      },
      "source": [
        "###Метод ближайших соседей \n",
        "Для нового объекта алгоритм ищет в обучающей выборке k наиболее близких объекта и относит новый объект к тому классу, которому принадлежит большинство из них."
      ]
    },
    {
      "cell_type": "markdown",
      "metadata": {
        "id": "yOtQACUT-q_a"
      },
      "source": [
        "Вначале обучим модель:"
      ]
    },
    {
      "cell_type": "code",
      "metadata": {
        "id": "df-bMiQX-la9",
        "outputId": "bf42fe2d-f53c-445f-f9d0-90962555e9f0",
        "colab": {
          "base_uri": "https://localhost:8080/",
          "height": 68
        }
      },
      "source": [
        "from sklearn.neighbors import KNeighborsClassifier\n",
        "\n",
        "knn = KNeighborsClassifier(n_neighbors = 10)\n",
        "knn.fit(X_train, y_train)"
      ],
      "execution_count": null,
      "outputs": [
        {
          "output_type": "execute_result",
          "data": {
            "text/plain": [
              "KNeighborsClassifier(algorithm='auto', leaf_size=30, metric='minkowski',\n",
              "                     metric_params=None, n_jobs=None, n_neighbors=10, p=2,\n",
              "                     weights='uniform')"
            ]
          },
          "metadata": {
            "tags": []
          },
          "execution_count": 41
        }
      ]
    },
    {
      "cell_type": "markdown",
      "metadata": {
        "id": "Jvkn0nDc-1G1"
      },
      "source": [
        "После того, как модель обучена, мы можем предсказывать значение целевого признака по входным признакам для новых объектов. Делается это с помощью метода predict.\n",
        "Нас интересует качество построенной модели, поэтому будем предсказывать значение выходного признака на тех данных, для которых оно известно: на обучающей и (что более важно) тестовой выборках:"
      ]
    },
    {
      "cell_type": "code",
      "metadata": {
        "id": "VbwkI9Qh-zDI",
        "outputId": "75b052bc-ebdb-4ba2-8799-c4b515682620",
        "colab": {
          "base_uri": "https://localhost:8080/",
          "height": 34
        }
      },
      "source": [
        "y_train_predict = knn.predict(X_train)\n",
        "y_test_predict = knn.predict(X_test)\n",
        "\n",
        "err_train = np.mean(y_train != y_train_predict)\n",
        "err_test  = np.mean(y_test  != y_test_predict)\n",
        "print (err_train, err_test)"
      ],
      "execution_count": null,
      "outputs": [
        {
          "output_type": "stream",
          "text": [
            "0.1684931506849315 0.22929936305732485\n"
          ],
          "name": "stdout"
        }
      ]
    },
    {
      "cell_type": "markdown",
      "metadata": {
        "id": "UxpkDYn0-5Mg"
      },
      "source": [
        "Ошибки на обучающей и тестовой выборке равны соответственно 16,8% и 22,9%"
      ]
    },
    {
      "cell_type": "markdown",
      "metadata": {
        "id": "oK6h5f_w-5ae"
      },
      "source": [
        "Более важной является ошибка на тестовой выборке, так как мы должны уметь предсказывать правильное (по возможности) значение на новых объектах, которые при обучении были недоступны.\n",
        "Попробуем уменьшить тестовую ошибку, варьируя параметры метода."
      ]
    },
    {
      "cell_type": "markdown",
      "metadata": {
        "id": "UZpZwL55-5n7"
      },
      "source": [
        "Поиск оптимальных значений параметров можно осуществить с помощью класса GridSearchCV – поиск наилучшего набора параметров, доставляющих минимум ошибке перекрестного контроля (cross-validation). По умолчанию рассматривается 3-кратный перекрестный контроль."
      ]
    },
    {
      "cell_type": "code",
      "metadata": {
        "id": "nv7obty2-3JE",
        "outputId": "38a5557f-d996-4205-f063-781aaa80cc8f",
        "colab": {
          "base_uri": "https://localhost:8080/",
          "height": 34
        }
      },
      "source": [
        "from sklearn.model_selection import GridSearchCV\n",
        "nnb = [1, 3, 5, 10, 15, 20, 25, 35, 45, 55]\n",
        "knn = KNeighborsClassifier()\n",
        "grid = GridSearchCV(knn, param_grid = {'n_neighbors': nnb}, cv=10)\n",
        "grid.fit(X_train, y_train)\n",
        "\n",
        "best_cv_err = 1 - grid.best_score_\n",
        "best_n_neighbors = grid.best_estimator_.n_neighbors\n",
        "print(best_cv_err, best_n_neighbors)"
      ],
      "execution_count": null,
      "outputs": [
        {
          "output_type": "stream",
          "text": [
            "0.1863013698630137 20\n"
          ],
          "name": "stdout"
        }
      ]
    },
    {
      "cell_type": "markdown",
      "metadata": {
        "id": "GfBenT8t_Csk"
      },
      "source": [
        "В качестве оптимального метод выбрал значение k равное 20. Ошибка перекрестного контроля составила 18,6%, что даже больше ошибки на обучающей выборке для 10 ближайших соседей. Это может быть обусленно тем, что для построения моделей в рамках схемы перекрестного контроля используются не все данные."
      ]
    },
    {
      "cell_type": "markdown",
      "metadata": {
        "id": "tO4wmN6V_Eqm"
      },
      "source": [
        "Проверим, чему равны ошибки на обучающей и тестовой выборках при этом значении параметра"
      ]
    },
    {
      "cell_type": "code",
      "metadata": {
        "id": "9AjpLvam_BrP",
        "outputId": "342046ac-fe3c-4ef7-99bf-f042b7ee20bc",
        "colab": {
          "base_uri": "https://localhost:8080/",
          "height": 34
        }
      },
      "source": [
        "knn = KNeighborsClassifier(n_neighbors=best_n_neighbors)\n",
        "knn.fit(X_train, y_train)\n",
        "\n",
        "err_train = np.mean(y_train != knn.predict(X_train))\n",
        "err_test  = np.mean(y_test  != knn.predict(X_test))\n",
        "print (err_train, err_test)"
      ],
      "execution_count": null,
      "outputs": [
        {
          "output_type": "stream",
          "text": [
            "0.18356164383561643 0.2356687898089172\n"
          ],
          "name": "stdout"
        }
      ]
    },
    {
      "cell_type": "markdown",
      "metadata": {
        "id": "8RkDkQQ8_JdA"
      },
      "source": [
        "Как видим, метод ближайших соседей на этой задаче дает не слишком удовлетворительные результаты."
      ]
    },
    {
      "cell_type": "markdown",
      "metadata": {
        "id": "n-zn3noz_JwK"
      },
      "source": [
        "###Метод SVC - машина опорных векторов"
      ]
    },
    {
      "cell_type": "code",
      "metadata": {
        "id": "pNLJUKmN_Hp0",
        "outputId": "a33f4f99-322d-4972-c30d-79783830c015",
        "colab": {
          "base_uri": "https://localhost:8080/",
          "height": 34
        }
      },
      "source": [
        "from sklearn.svm import SVC\n",
        "svc = SVC()\n",
        "svc.fit(X_train, y_train)\n",
        "\n",
        "err_train = np.mean(y_train != svc.predict(X_train))\n",
        "err_test  = np.mean(y_test  != svc.predict(X_test))\n",
        "print (err_train, err_test)"
      ],
      "execution_count": null,
      "outputs": [
        {
          "output_type": "stream",
          "text": [
            "0.13013698630136986 0.2197452229299363\n"
          ],
          "name": "stdout"
        }
      ]
    },
    {
      "cell_type": "markdown",
      "metadata": {
        "id": "o_Rurtgv_cVW"
      },
      "source": [
        "Итак, на тестовой выборке получили ошибку в 21,9%."
      ]
    },
    {
      "cell_type": "markdown",
      "metadata": {
        "id": "g5zD9Mjg_ekq"
      },
      "source": [
        "###Random Forest\n",
        "Воспользуемся одним из самых популярных алгоритмов машинного обучения – случайный лес – Random Forest.\n",
        "Алгоритм строит ансамбль случайных деревьев, каждое из которых обучается на выборке, полученной из исходной с помощью процедуры изъятия с возвращением."
      ]
    },
    {
      "cell_type": "code",
      "metadata": {
        "id": "sJufgluF_afe",
        "outputId": "770736ca-8786-4f69-b7aa-640ab4286c97",
        "colab": {
          "base_uri": "https://localhost:8080/",
          "height": 34
        }
      },
      "source": [
        "from sklearn import ensemble\n",
        "rf = ensemble.RandomForestClassifier(n_estimators=100, random_state=11)\n",
        "rf.fit(X_train, y_train)\n",
        "\n",
        "err_train = np.mean(y_train != rf.predict(X_train))\n",
        "err_test  = np.mean(y_test  != rf.predict(X_test))\n",
        "print (err_train, err_test)"
      ],
      "execution_count": null,
      "outputs": [
        {
          "output_type": "stream",
          "text": [
            "0.00410958904109589 0.2611464968152866\n"
          ],
          "name": "stdout"
        }
      ]
    },
    {
      "cell_type": "markdown",
      "metadata": {
        "id": "PMYrF8fS_pOD"
      },
      "source": [
        "Ошибка на тестовой выборке составила 26%"
      ]
    },
    {
      "cell_type": "markdown",
      "metadata": {
        "id": "xbEVjuGh_rXS"
      },
      "source": [
        "Одной из важных процедур предобработки данных в алгоритмах их анализа является отбор значимых признаков. Его цель заключается в том, чтобы отобрать наиболее существенные признаки для решения рассматриваемой задачи классификации."
      ]
    },
    {
      "cell_type": "markdown",
      "metadata": {
        "id": "i6qXsjw9_rrY"
      },
      "source": [
        "Упорядочим значимости и выведем их значения:\n"
      ]
    },
    {
      "cell_type": "code",
      "metadata": {
        "id": "6bqSr5UV_nJU",
        "outputId": "c6f227c1-0ee0-4a0b-ce06-cf407e8bf02d",
        "colab": {
          "base_uri": "https://localhost:8080/",
          "height": 765
        }
      },
      "source": [
        "importances = rf.feature_importances_\n",
        "indices = np.argsort(importances)[::-1]\n",
        "\n",
        "print(\"Feature importances:\")\n",
        "for f, idx in enumerate(indices):\n",
        "    print(\"{:2d}. feature '{:5s}' ({:.4f})\".format(f + 1, feature_names[idx], importances[idx]))"
      ],
      "execution_count": null,
      "outputs": [
        {
          "output_type": "stream",
          "text": [
            "Feature importances:\n",
            " 1. feature 'absences' (0.1174)\n",
            " 2. feature 'failures' (0.1001)\n",
            " 3. feature 'goout' (0.0427)\n",
            " 4. feature 'age  ' (0.0421)\n",
            " 5. feature 'Fedu ' (0.0399)\n",
            " 6. feature 'famrel' (0.0380)\n",
            " 7. feature 'Walc ' (0.0379)\n",
            " 8. feature 'freetime' (0.0364)\n",
            " 9. feature 'health' (0.0350)\n",
            "10. feature 'higher' (0.0323)\n",
            "11. feature 'Medu ' (0.0310)\n",
            "12. feature 'paid ' (0.0289)\n",
            "13. feature 'studytime' (0.0273)\n",
            "14. feature 'traveltime' (0.0271)\n",
            "15. feature 'Dalc ' (0.0262)\n",
            "16. feature 'address' (0.0204)\n",
            "17. feature 'romantic' (0.0181)\n",
            "18. feature 'school' (0.0175)\n",
            "19. feature 'reason_course' (0.0156)\n",
            "20. feature 'famsup' (0.0154)\n",
            "21. feature 'nursery' (0.0154)\n",
            "22. feature 'activities' (0.0154)\n",
            "23. feature 'famsize' (0.0153)\n",
            "24. feature 'schoolsup' (0.0146)\n",
            "25. feature 'Mjob_other' (0.0145)\n",
            "26. feature 'Fjob_other' (0.0141)\n",
            "27. feature 'internet' (0.0137)\n",
            "28. feature 'sex  ' (0.0136)\n",
            "29. feature 'guardian_father' (0.0133)\n",
            "30. feature 'Mjob_at_home' (0.0125)\n",
            "31. feature 'Fjob_services' (0.0120)\n",
            "32. feature 'reason_home' (0.0117)\n",
            "33. feature 'guardian_mother' (0.0113)\n",
            "34. feature 'Mjob_services' (0.0109)\n",
            "35. feature 'reason_reputation' (0.0103)\n",
            "36. feature 'reason_other' (0.0090)\n",
            "37. feature 'Mjob_health' (0.0080)\n",
            "38. feature 'Fjob_at_home' (0.0075)\n",
            "39. feature 'Pstatus' (0.0072)\n",
            "40. feature 'Mjob_teacher' (0.0064)\n",
            "41. feature 'guardian_other' (0.0055)\n",
            "42. feature 'Fjob_teacher' (0.0043)\n",
            "43. feature 'Fjob_health' (0.0041)\n"
          ],
          "name": "stdout"
        }
      ]
    },
    {
      "cell_type": "markdown",
      "metadata": {
        "id": "ly8cGcMD_1Il"
      },
      "source": [
        "Построим столбцовую диаграмму, графически представляющую значимость первых 20 признаков:"
      ]
    },
    {
      "cell_type": "code",
      "metadata": {
        "id": "cSEqjROy_y5Z",
        "outputId": "1b5509d0-6f8c-42cf-aa34-578daa4600c1",
        "colab": {
          "base_uri": "https://localhost:8080/",
          "height": 561
        }
      },
      "source": [
        "d_first = 20\n",
        "plt.figure(figsize=(8, 8))\n",
        "plt.title(\"Feature importances\")\n",
        "plt.bar(range(d_first), importances[indices[:d_first]], align='center')\n",
        "plt.xticks(range(d_first), np.array(feature_names)[indices[:d_first]], rotation=90)\n",
        "plt.xlim([-1, d_first]);"
      ],
      "execution_count": null,
      "outputs": [
        {
          "output_type": "display_data",
          "data": {
            "image/png": "[encoded data removed]",
            "text/plain": [
              "<Figure size 576x576 with 1 Axes>"
            ]
          },
          "metadata": {
            "tags": [],
            "needs_background": "light"
          }
        }
      ]
    },
    {
      "cell_type": "code",
      "metadata": {
        "id": "H8eFVOHo_2s4",
        "outputId": "6d83f2af-c0d7-44bb-f71c-68acb99ed905",
        "colab": {
          "base_uri": "https://localhost:8080/",
          "height": 68
        }
      },
      "source": [
        "best_features = indices[:8]\n",
        "best_features_names = feature_names[best_features]\n",
        "print(best_features_names)"
      ],
      "execution_count": null,
      "outputs": [
        {
          "output_type": "stream",
          "text": [
            "Index(['absences', 'failures', 'goout', 'age', 'Fedu', 'famrel', 'Walc',\n",
            "       'freetime'],\n",
            "      dtype='object')\n"
          ],
          "name": "stdout"
        }
      ]
    },
    {
      "cell_type": "markdown",
      "metadata": {
        "id": "Q3wZbNOU_469"
      },
      "source": [
        "Мы видим, что основную роль играют признаки 'absences', 'failures', 'goout', 'age', 'Fedu', 'famrel', 'Walc', 'freetime'."
      ]
    },
    {
      "cell_type": "markdown",
      "metadata": {
        "id": "D-XdeajB_7X9"
      },
      "source": [
        "###GBT – градиентный бустинг деревьев решений \n",
        "Это еще один метод, строящий ансамбль деревьев решений. На каждой итерации строится новый классификатор, аппроксимирующий значение градиента функции потерь."
      ]
    },
    {
      "cell_type": "code",
      "metadata": {
        "id": "nWinFHk4_4WA",
        "outputId": "2314153f-4dee-4d27-ff1a-da3b56080ee6",
        "colab": {
          "base_uri": "https://localhost:8080/",
          "height": 34
        }
      },
      "source": [
        "from sklearn import ensemble\n",
        "gbt = ensemble.GradientBoostingClassifier(n_estimators=100, random_state=11)\n",
        "gbt.fit(X_train, y_train)\n",
        "\n",
        "err_train = np.mean(y_train != gbt.predict(X_train))\n",
        "err_test = np.mean(y_test != gbt.predict(X_test))\n",
        "print (err_train, err_test)"
      ],
      "execution_count": null,
      "outputs": [
        {
          "output_type": "stream",
          "text": [
            "0.09041095890410959 0.2070063694267516\n"
          ],
          "name": "stdout"
        }
      ]
    },
    {
      "cell_type": "markdown",
      "metadata": {
        "id": "2w7Q-FmlAE5k"
      },
      "source": [
        "Ошибка на тестовой выборке составила 20,7%"
      ]
    },
    {
      "cell_type": "markdown",
      "metadata": {
        "id": "zU9nTk83AF-B"
      },
      "source": [
        "*Теперь используем только значимые признаки для обучени моделей:*"
      ]
    },
    {
      "cell_type": "code",
      "metadata": {
        "id": "u4IMDF-LADS-"
      },
      "source": [
        "X = data.loc[:,['absences', 'failures', 'goout', 'age', 'Fedu', 'famrel', 'Walc', 'freetime']]\n",
        "y = Mark_col"
      ],
      "execution_count": null,
      "outputs": []
    },
    {
      "cell_type": "code",
      "metadata": {
        "id": "RxoK_dvAAM28",
        "outputId": "eede6218-f2d1-42c9-9970-0b6bd8e8b50f",
        "colab": {
          "base_uri": "https://localhost:8080/",
          "height": 34
        }
      },
      "source": [
        "X_train, X_test, y_train, y_test = train_test_split(X, y, test_size = 0.3, random_state = 42)\n",
        "\n",
        "N_train, _ = X_train.shape \n",
        "N_test,  _ = X_test.shape \n",
        "\n",
        "print(N_train, N_test)"
      ],
      "execution_count": null,
      "outputs": [
        {
          "output_type": "stream",
          "text": [
            "730 314\n"
          ],
          "name": "stdout"
        }
      ]
    },
    {
      "cell_type": "code",
      "metadata": {
        "id": "CqHV76pdAOdy",
        "outputId": "5d4db4d1-32cc-4be1-a128-80fd7ad64b1b",
        "colab": {
          "base_uri": "https://localhost:8080/",
          "height": 34
        }
      },
      "source": [
        "knn = KNeighborsClassifier(n_neighbors = 10)\n",
        "knn.fit(X_train, y_train)\n",
        "y_train_predict = knn.predict(X_train)\n",
        "y_test_predict = knn.predict(X_test)\n",
        "\n",
        "err_train = np.mean(y_train != y_train_predict)\n",
        "err_test  = np.mean(y_test  != y_test_predict)\n",
        "print (err_train, err_test)"
      ],
      "execution_count": null,
      "outputs": [
        {
          "output_type": "stream",
          "text": [
            "0.1780821917808219 0.2515923566878981\n"
          ],
          "name": "stdout"
        }
      ]
    },
    {
      "cell_type": "markdown",
      "metadata": {
        "id": "4k12g-PtARyR"
      },
      "source": [
        "Метод kNN - ошибка на тестовой выборке 25%"
      ]
    },
    {
      "cell_type": "code",
      "metadata": {
        "id": "lil3AbqCAP43",
        "outputId": "49423a76-5155-4d6b-8276-6545bb6b1681",
        "colab": {
          "base_uri": "https://localhost:8080/",
          "height": 34
        }
      },
      "source": [
        "from sklearn.svm import SVC\n",
        "svc = SVC()\n",
        "svc.fit(X_train, y_train)\n",
        "\n",
        "err_train = np.mean(y_train != svc.predict(X_train))\n",
        "err_test  = np.mean(y_test  != svc.predict(X_test))\n",
        "print (err_train, err_test)"
      ],
      "execution_count": null,
      "outputs": [
        {
          "output_type": "stream",
          "text": [
            "0.15616438356164383 0.22611464968152867\n"
          ],
          "name": "stdout"
        }
      ]
    },
    {
      "cell_type": "markdown",
      "metadata": {
        "id": "yYqcu1cQAUQw"
      },
      "source": [
        "Метод SVC - ошибка на тестовой выборке 22,6%"
      ]
    },
    {
      "cell_type": "code",
      "metadata": {
        "id": "2sa3uCXQATwR",
        "outputId": "32411158-c8fb-453e-adc4-402880db55ef",
        "colab": {
          "base_uri": "https://localhost:8080/",
          "height": 34
        }
      },
      "source": [
        "from sklearn import ensemble\n",
        "rf = ensemble.RandomForestClassifier(n_estimators=100, random_state=11)\n",
        "rf.fit(X_train, y_train)\n",
        "\n",
        "err_train = np.mean(y_train != rf.predict(X_train))\n",
        "err_test  = np.mean(y_test  != rf.predict(X_test))\n",
        "print (err_train, err_test)"
      ],
      "execution_count": null,
      "outputs": [
        {
          "output_type": "stream",
          "text": [
            "0.010958904109589041 0.24203821656050956\n"
          ],
          "name": "stdout"
        }
      ]
    },
    {
      "cell_type": "markdown",
      "metadata": {
        "id": "99icnOjtAXji"
      },
      "source": [
        "Метод RF - ошибка на тестовой выборке 24,2%"
      ]
    },
    {
      "cell_type": "code",
      "metadata": {
        "id": "oGxnEXE4AXEW",
        "outputId": "25f374c7-48ee-48e3-82bc-990bbdadc42e",
        "colab": {
          "base_uri": "https://localhost:8080/",
          "height": 34
        }
      },
      "source": [
        "from sklearn import ensemble\n",
        "gbt = ensemble.GradientBoostingClassifier(n_estimators=100, random_state=11)\n",
        "gbt.fit(X_train, y_train)\n",
        "\n",
        "err_train = np.mean(y_train != gbt.predict(X_train))\n",
        "err_test = np.mean(y_test != gbt.predict(X_test))\n",
        "print (err_train, err_test)"
      ],
      "execution_count": null,
      "outputs": [
        {
          "output_type": "stream",
          "text": [
            "0.11506849315068493 0.21656050955414013\n"
          ],
          "name": "stdout"
        }
      ]
    },
    {
      "cell_type": "markdown",
      "metadata": {
        "id": "nDRIKC5AAbv0"
      },
      "source": [
        "Метод GBT - ошибка на тестовой выборке 21,6%"
      ]
    },
    {
      "cell_type": "markdown",
      "metadata": {
        "id": "h7J_PYlbAcCW"
      },
      "source": [
        "Заметим, что при обучении модели на всех признаках лучшим проявил себя метод GBT с ошибкой 20,7%. При использовании только значимых признаков для обучения модели ошибка на тестовой выборке только увеличалась."
      ]
    },
    {
      "cell_type": "code",
      "metadata": {
        "id": "ImvwOrKxAbIm"
      },
      "source": [
        ""
      ],
      "execution_count": null,
      "outputs": []
    }
  ]
}